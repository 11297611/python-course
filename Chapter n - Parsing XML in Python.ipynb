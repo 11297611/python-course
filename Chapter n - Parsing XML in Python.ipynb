{
 "metadata": {
  "name": "",
  "signature": "sha256:2001807133947013f85390dcb48cb37c8517801ca94d97727409fe2b61511bf7"
 },
 "nbformat": 3,
 "nbformat_minor": 0,
 "worksheets": [
  {
   "cells": [
    {
     "cell_type": "markdown",
     "metadata": {},
     "source": [
      "# Parsing XML in Python"
     ]
    },
    {
     "cell_type": "markdown",
     "metadata": {},
     "source": [
      "## XML in a nutshell"
     ]
    },
    {
     "cell_type": "markdown",
     "metadata": {},
     "source": [
      "So far, we have primarily dealt with unstructured data in this course: we have learned to read, for example, the contents of plain text files in the previous chapters. Such raw textual data is often called 'unstructured', because it lacks annotations that make explicit the function or meaning of the words in the documents. If we read the contents of a play as a plain text, for instance, we don't have a clue to which scene or act a particular utterance belongs, or by which character the utterance was made. Nowadays, it is therefore increasingly common to add annotations to a text that give us a better insight into the\n",
      "semantics and structure of the data. Adding annotations to texts (e.g. scholarly editions of Shakepeare), is typically done using some form of markup. Various markup-languages exist that allow us to provide structured and unambiguous annotations to a (digital) text. XML or the \"eXtensible Mark-up Language\" is currently one of the dominant standards to encode texts in the Digital Humanities. In this chapter, we'll assume that have at least some notion of XML, although we will have a quick refresher below. XML is a pretty straightforward mark-up language: let's have a look at Shakepeare's well-known sonnet 18 encoded in XML (you can find this poem also as `sonnet.txt` in your `data/TEI` folder)."
     ]
    },
    {
     "cell_type": "markdown",
     "metadata": {},
     "source": [
      "<?xml version=\"1.0\"?>\n",
      "<sonnet author=\"William Shakepeare\" year=\"1609\">\n",
      "\t<line n=\"1\">Shall I compare thee to a summer's <rhyme>day</rhyme>?</line>\n",
      "\t<line n=\"2\">Thou art more lovely and more <rhyme>temperate</rhyme>:</line>\n",
      "\t<line n=\"3\">Rough winds do shake the darling buds of <rhyme>May</rhyme>,</line>\n",
      "\t<line n=\"4\">And summer's lease hath all too short a <rhyme>date</rhyme>:</line>\n",
      "\t<line n=\"5\">Sometime too hot the eye of heaven <rhyme>shines</rhyme>,</line>\n",
      "\t<line n=\"6\">And often is his gold complexion <rhyme>dimm'd</rhyme>;</line>\n",
      "\t<line n=\"7\">And every fair from fair sometime <rhyme>declines</rhyme>,</line>\n",
      "\t<line n=\"8\">By chance, or nature's changing course, <rhyme>untrimm'd</rhyme>;</line>\n",
      "    <volta/>\n",
      "\t<line n=\"9\">But thy eternal summer shall not <rhyme>fade</rhyme></line>\n",
      "\t<line n=\"10\">Nor lose possession of that fair thou <rhyme>ow'st</rhyme>;</line>\n",
      "\t<line n=\"11\">Nor shall Death brag thou wander'st in his <rhyme>shade</rhyme>,</line>\n",
      "\t<line n=\"12\">When in eternal lines to time thou <rhyme>grow'st</rhyme>;</line>\n",
      "\t<line n=\"13\">So long as men can breathe or eyes can <rhyme>see</rhyme>,</line>\n",
      "\t<line n=\"14\">So long lives this, and this gives life to <rhyme>thee</rhyme>.</line>\n",
      "</sonnet>"
     ]
    },
    {
     "cell_type": "markdown",
     "metadata": {},
     "source": [
      "The first line in our Shakespearean example (<?xml version=\"1.0\"?>) declares which exact version of XML we are using, in our case version 1. As you can see at a glance, XML typically encodes pieces of text using *start tags* (e.g. `<line>, <rhyme>`) and *end tags* (`</line>`, `</rhyme>`). Each start tag must correspond to exactly one end tag, although XML does allow for \"solo\" elements such the `<volta/>` tag after line 8 in this example. Interestingly, XML tag are not allowed to overlap. The following line would therefore not constitue valid XML:"
     ]
    },
    {
     "cell_type": "markdown",
     "metadata": {},
     "source": [
      "<line><sentence>This is a </line><line>sentence.</sentence></line>"
     ]
    },
    {
     "cell_type": "markdown",
     "metadata": {},
     "source": [
      "The following two lines would be valid alternatives for this example, because here the tags don't overlap:"
     ]
    },
    {
     "cell_type": "markdown",
     "metadata": {},
     "source": [
      "<sentence><line>This is a </line><line>sentence.</line></sentence>\n",
      "<sentence>This is a <linebreak/>sentence.</sentence>"
     ]
    },
    {
     "cell_type": "markdown",
     "metadata": {},
     "source": [
      "This limitation has to with the fact that XML is a *hierarchical* markup language: it assumes that we can describe a text document as a tree of branching nodes. In this tree, elements cannot have more than one direct parent element (otherwise the hearchy would be ambiguous). The one exception is the so-called root element, which as the highest node in tree does not have a parent element itself. Logically speaking, all this entails that a valid XML document can only have a single *root element*. Note that all non-root elements can have as many siblings as we wish. All the `<line>` elements in our sonnet, for example, are siblings, in the sense that they have in common a direct parent element, i.e. the <sonnet> tag. Finally, note that we can add extra information to our elements using so-called attributes. The `n` attribute, for example, give us the line number for each line in the sonnet, surrounded by double quotation marks. The <sonnet> element illlustrates that we can add as many attributes as we want to a tag. "
     ]
    },
    {
     "cell_type": "markdown",
     "metadata": {},
     "source": [
      "## XML and Python"
     ]
    },
    {
     "cell_type": "markdown",
     "metadata": {},
     "source": [
      "Researchers in the Digital Humanities nowadays often put a lot of time and effort in creating digital data sets for their research, such as scholarly editions with a rich markup encoded in XML. Nevertheless, once this data has been annotated, it can be tricky to get your texts out again, so to speak, and fully exploit the information which you painstakingly encoded. Therefore, it is crucial to be able to parse XML in an efficient manner. Luckily, Python provides all the tools necessary to do this. We will make use of the `lxml` library, which is part of the Anaconda Python distribution: "
     ]
    },
    {
     "cell_type": "code",
     "collapsed": true,
     "input": [
      "from lxml import etree"
     ],
     "language": "python",
     "metadata": {},
     "outputs": [],
     "prompt_number": 258
    },
    {
     "cell_type": "markdown",
     "metadata": {},
     "source": [
      "For the record, we should mention that there exist many other libraries in Python to parse XML, such as `minidom` or `BeautifulSoup` which is an interesting library, when you intend to scrape data from the web. While these might come with more advanced bells and whistles than `lxml`, they can also be more complex to use, which is why we stick to `lxml` in this course. Let us now import our sonnet in Python, which has been saved in the file `sonnet18.xml`:"
     ]
    },
    {
     "cell_type": "code",
     "collapsed": true,
     "input": [
      "tree = etree.parse(\"data/TEI/sonnet18.xml\")\n",
      "print(tree)"
     ],
     "language": "python",
     "metadata": {},
     "outputs": [
      {
       "output_type": "stream",
       "stream": "stdout",
       "text": [
        "<lxml.etree._ElementTree object at 0x10844cd88>\n"
       ]
      }
     ],
     "prompt_number": 307
    },
    {
     "cell_type": "markdown",
     "metadata": {},
     "source": [
      "Python has now read and parsed our xml-file via the `etree.parse()` function. We have stored our XML tree structure, which is returned by the `parse()` function, in the `tree` variable, so that we can access it later. If we print `tree` as such, we don't get a lot of useful information. To have a closer look at the XML in a printable text version, we need to call the `tostring()` method on the `tree` before printing it."
     ]
    },
    {
     "cell_type": "code",
     "collapsed": true,
     "input": [
      "print(etree.tostring(tree))"
     ],
     "language": "python",
     "metadata": {},
     "outputs": [
      {
       "output_type": "stream",
       "stream": "stdout",
       "text": [
        "b'<sonnet author=\"William Shakepeare\" year=\"1609\">\\n\\t<line n=\"1\">Shall I compare thee to a summer\\'s <rhyme>day</rhyme>?</line>\\n\\t<line n=\"2\">Thou art more lovely and more <rhyme>temperate</rhyme>:</line>\\n\\t<line n=\"3\">Rough winds do shake the darling buds of <rhyme>May</rhyme>,</line>\\n\\t<line n=\"4\">And summer\\'s lease hath all too short a <rhyme>date</rhyme>:</line>\\n\\t<line n=\"5\">Sometime too hot the eye of heaven <rhyme>shines</rhyme>,</line>\\n\\t<line n=\"6\">And often is his gold complexion <rhyme>dimm\\'d</rhyme>;</line>\\n\\t<line n=\"7\">And every fair from fair sometime <rhyme>declines</rhyme>,</line>\\n\\t<line n=\"8\">By chance, or nature\\'s changing course, <rhyme>untrimm\\'d</rhyme>;</line>\\n    <volta/>\\n\\t<line n=\"9\">But thy eternal summer shall not <rhyme>fade</rhyme></line>\\n\\t<line n=\"10\">Nor lose possession of that fair thou <rhyme>ow\\'st</rhyme>;</line>\\n\\t<line n=\"11\">Nor shall Death brag thou wander\\'st in his <rhyme>shade</rhyme>,</line>\\n\\t<line n=\"12\">When in eternal lines to time thou <rhyme>grow\\'st</rhyme>;</line>\\n\\t<line n=\"13\">So long as men can breathe or eyes can <rhyme>see</rhyme>,</line>\\n\\t<line n=\"14\">So long lives this, and this gives life to <rhyme>thee</rhyme>.</line>\\n</sonnet>'\n"
       ]
      }
     ],
     "prompt_number": 309
    },
    {
     "cell_type": "markdown",
     "metadata": {},
     "source": [
      "You'll notice that we actually get a string in a raw format: if we want to display it properly, we have to decode it:"
     ]
    },
    {
     "cell_type": "code",
     "collapsed": false,
     "input": [
      "print(etree.tostring(tree).decode())"
     ],
     "language": "python",
     "metadata": {},
     "outputs": [
      {
       "output_type": "stream",
       "stream": "stdout",
       "text": [
        "<sonnet author=\"William Shakepeare\" year=\"1609\">\n",
        "\t<line n=\"1\">Shall I compare thee to a summer's <rhyme>day</rhyme>?</line>\n",
        "\t<line n=\"2\">Thou art more lovely and more <rhyme>temperate</rhyme>:</line>\n",
        "\t<line n=\"3\">Rough winds do shake the darling buds of <rhyme>May</rhyme>,</line>\n",
        "\t<line n=\"4\">And summer's lease hath all too short a <rhyme>date</rhyme>:</line>\n",
        "\t<line n=\"5\">Sometime too hot the eye of heaven <rhyme>shines</rhyme>,</line>\n",
        "\t<line n=\"6\">And often is his gold complexion <rhyme>dimm'd</rhyme>;</line>\n",
        "\t<line n=\"7\">And every fair from fair sometime <rhyme>declines</rhyme>,</line>\n",
        "\t<line n=\"8\">By chance, or nature's changing course, <rhyme>untrimm'd</rhyme>;</line>\n",
        "    <volta/>\n",
        "\t<line n=\"9\">But thy eternal summer shall not <rhyme>fade</rhyme></line>\n",
        "\t<line n=\"10\">Nor lose possession of that fair thou <rhyme>ow'st</rhyme>;</line>\n",
        "\t<line n=\"11\">Nor shall Death brag thou wander'st in his <rhyme>shade</rhyme>,</line>\n",
        "\t<line n=\"12\">When in eternal lines to time thou <rhyme>grow'st</rhyme>;</line>\n",
        "\t<line n=\"13\">So long as men can breathe or eyes can <rhyme>see</rhyme>,</line>\n",
        "\t<line n=\"14\">So long lives this, and this gives life to <rhyme>thee</rhyme>.</line>\n",
        "</sonnet>\n"
       ]
      }
     ],
     "prompt_number": 288
    },
    {
     "cell_type": "markdown",
     "metadata": {},
     "source": [
      "If we have more complex data, it might also be to set the `pretty_print` parameter to `True`, to obtain a more beautifully formatted string, with Python taking care of indendation etc. In our example, it doesn't change much:"
     ]
    },
    {
     "cell_type": "code",
     "collapsed": true,
     "input": [
      "print(etree.tostring(tree, pretty_print=True).decode())"
     ],
     "language": "python",
     "metadata": {},
     "outputs": [
      {
       "output_type": "stream",
       "stream": "stdout",
       "text": [
        "<sonnet author=\"William Shakepeare\" year=\"1609\">\n",
        "\t<line n=\"1\">Shall I compare thee to a summer's <rhyme>day</rhyme>?</line>\n",
        "\t<line n=\"2\">Thou art more lovely and more <rhyme>temperate</rhyme>:</line>\n",
        "\t<line n=\"3\">Rough winds do shake the darling buds of <rhyme>May</rhyme>,</line>\n",
        "\t<line n=\"4\">And summer's lease hath all too short a <rhyme>date</rhyme>:</line>\n",
        "\t<line n=\"5\">Sometime too hot the eye of heaven <rhyme>shines</rhyme>,</line>\n",
        "\t<line n=\"6\">And often is his gold complexion <rhyme>dimm'd</rhyme>;</line>\n",
        "\t<line n=\"7\">And every fair from fair sometime <rhyme>declines</rhyme>,</line>\n",
        "\t<line n=\"8\">By chance, or nature's changing course, <rhyme>untrimm'd</rhyme>;</line>\n",
        "    <volta/>\n",
        "\t<line n=\"9\">But thy eternal summer shall not <rhyme>fade</rhyme></line>\n",
        "\t<line n=\"10\">Nor lose possession of that fair thou <rhyme>ow'st</rhyme>;</line>\n",
        "\t<line n=\"11\">Nor shall Death brag thou wander'st in his <rhyme>shade</rhyme>,</line>\n",
        "\t<line n=\"12\">When in eternal lines to time thou <rhyme>grow'st</rhyme>;</line>\n",
        "\t<line n=\"13\">So long as men can breathe or eyes can <rhyme>see</rhyme>,</line>\n",
        "\t<line n=\"14\">So long lives this, and this gives life to <rhyme>thee</rhyme>.</line>\n",
        "</sonnet>\n",
        "\n"
       ]
      }
     ],
     "prompt_number": 289
    },
    {
     "cell_type": "markdown",
     "metadata": {},
     "source": [
      "Now let us start processing the contents of our file. Suppose that we are not really interested in the full hierarchical structure of our file, but just in the rhyme words occuring in it. The high-level function `interfind()` allows us to easily select all `rhyme`-element in our tree, regardless of where exactly they occur. Because this functions returns a list of nodes, we can simply loop over them:"
     ]
    },
    {
     "cell_type": "code",
     "collapsed": true,
     "input": [
      "rhyme_nodes = tree.iterfind(\"//rhyme\")\n",
      "for node in rhyme_nodes:\n",
      "    print(node)"
     ],
     "language": "python",
     "metadata": {},
     "outputs": [
      {
       "output_type": "stream",
       "stream": "stdout",
       "text": [
        "<Element rhyme at 0x10830cf48>\n",
        "<Element rhyme at 0x107cb8308>\n",
        "<Element rhyme at 0x107cb8d48>\n",
        "<Element rhyme at 0x10830cf48>\n",
        "<Element rhyme at 0x107cb8308>\n",
        "<Element rhyme at 0x107cb8d48>\n",
        "<Element rhyme at 0x10830cf48>\n",
        "<Element rhyme at 0x107cb8308>\n",
        "<Element rhyme at 0x107cb8d48>\n",
        "<Element rhyme at 0x10830cf48>\n",
        "<Element rhyme at 0x107cb8308>\n",
        "<Element rhyme at 0x107cb8d48>\n",
        "<Element rhyme at 0x10830cf48>\n",
        "<Element rhyme at 0x107cb8308>\n"
       ]
      }
     ],
     "prompt_number": 290
    },
    {
     "cell_type": "markdown",
     "metadata": {},
     "source": [
      "Note that the search expression (`\"//rhyme\"`) has two forward slashes before our actual search term. This is in fact XPath syntax, and the two slashes indicate that the search term can occur anywhere (e.g. not necessarily among a node's direct children). Unfortunately, printing the nodes themselves again isn't really insightful: in this way, we only get rather prosaic information of the Python objects holding our `rhyme` nodes. We can use the `.tag` property to print the tag's name:"
     ]
    },
    {
     "cell_type": "code",
     "collapsed": false,
     "input": [
      "for node in tree.iterfind(\"//rhyme\"):\n",
      "    print(node.tag)"
     ],
     "language": "python",
     "metadata": {},
     "outputs": [
      {
       "output_type": "stream",
       "stream": "stdout",
       "text": [
        "rhyme\n",
        "rhyme\n",
        "rhyme\n",
        "rhyme\n",
        "rhyme\n",
        "rhyme\n",
        "rhyme\n",
        "rhyme\n",
        "rhyme\n",
        "rhyme\n",
        "rhyme\n",
        "rhyme\n",
        "rhyme\n",
        "rhyme\n"
       ]
      }
     ],
     "prompt_number": 291
    },
    {
     "cell_type": "markdown",
     "metadata": {},
     "source": [
      "To extract the actual rhyme word contained in the element, we can use the `.text` property of the nodes:"
     ]
    },
    {
     "cell_type": "code",
     "collapsed": true,
     "input": [
      "for node in tree.iterfind(\"//rhyme\"):\n",
      "    print(node.text)"
     ],
     "language": "python",
     "metadata": {},
     "outputs": [
      {
       "output_type": "stream",
       "stream": "stdout",
       "text": [
        "day\n",
        "temperate\n",
        "May\n",
        "date\n",
        "shines\n",
        "dimm'd\n",
        "declines\n",
        "untrimm'd\n",
        "fade\n",
        "ow'st\n",
        "shade\n",
        "grow'st\n",
        "see\n",
        "thee\n"
       ]
      }
     ],
     "prompt_number": 292
    },
    {
     "cell_type": "markdown",
     "metadata": {},
     "source": [
      "That looks better!\n",
      "\n",
      "Just now, we have been iterating over our `rhyme` elements in simple order of appearance: we haven't been really been exploiting the hierarchy of our XML file yet. Let's see now how we can navigate our xml tree. Let's first select our root node: there's a function for that!"
     ]
    },
    {
     "cell_type": "code",
     "collapsed": true,
     "input": [
      "root_node = tree.getroot()\n",
      "print(root_node.tag)"
     ],
     "language": "python",
     "metadata": {},
     "outputs": [
      {
       "output_type": "stream",
       "stream": "stdout",
       "text": [
        "sonnet\n"
       ]
      }
     ],
     "prompt_number": 293
    },
    {
     "cell_type": "markdown",
     "metadata": {},
     "source": [
      "We can access the value of the attributes of an element via `.attrib`, just like we would access the information in a Python dictionary, that is via key-based indexing. We know that our `sonnet` element, for instance, should have an `author` and `year` attribute. We can inspect the value of these as follows:"
     ]
    },
    {
     "cell_type": "code",
     "collapsed": true,
     "input": [
      "print(root_node.attrib[\"author\"])\n",
      "print(root_node.attrib[\"year\"])"
     ],
     "language": "python",
     "metadata": {},
     "outputs": [
      {
       "output_type": "stream",
       "stream": "stdout",
       "text": [
        "William Shakepeare\n",
        "1609\n"
       ]
      }
     ],
     "prompt_number": 294
    },
    {
     "cell_type": "markdown",
     "metadata": {},
     "source": [
      "If we wouldn't know which attributes were in fact available for a node, we could also retrieve the attribute names by calling `keys()` on the `attributes` property of a node, just like we would do with a regular dictionary: "
     ]
    },
    {
     "cell_type": "code",
     "collapsed": true,
     "input": [
      "print(root_node.attrib.keys())"
     ],
     "language": "python",
     "metadata": {},
     "outputs": [
      {
       "output_type": "stream",
       "stream": "stdout",
       "text": [
        "['author', 'year']\n"
       ]
      }
     ],
     "prompt_number": 295
    },
    {
     "cell_type": "markdown",
     "metadata": {},
     "source": [
      "So far so good. Now that we have selected our root element, we can start drilling down our tree's structure. Let us first find out how many child nodes our root element has: "
     ]
    },
    {
     "cell_type": "code",
     "collapsed": true,
     "input": [
      "print(len(root_node))"
     ],
     "language": "python",
     "metadata": {},
     "outputs": [
      {
       "output_type": "stream",
       "stream": "stdout",
       "text": [
        "15\n"
       ]
      }
     ],
     "prompt_number": 296
    },
    {
     "cell_type": "markdown",
     "metadata": {},
     "source": [
      "Our root node turns out to have 15 child nodes, which makes a lot of sense, since we have 14 `line` elements and the `volta`. We can actually loop over these children, just as we would loop over any other list:"
     ]
    },
    {
     "cell_type": "code",
     "collapsed": true,
     "input": [
      "for node in root_node:\n",
      "    print(node.tag)"
     ],
     "language": "python",
     "metadata": {},
     "outputs": [
      {
       "output_type": "stream",
       "stream": "stdout",
       "text": [
        "line\n",
        "line\n",
        "line\n",
        "line\n",
        "line\n",
        "line\n",
        "line\n",
        "line\n",
        "volta\n",
        "line\n",
        "line\n",
        "line\n",
        "line\n",
        "line\n",
        "line\n"
       ]
      }
     ],
     "prompt_number": 297
    },
    {
     "cell_type": "markdown",
     "metadata": {},
     "source": [
      "To extract the actual text in our lines, we need one additional `for`-loop which will allow us to iteratre over the pieces of text under each line:"
     ]
    },
    {
     "cell_type": "code",
     "collapsed": false,
     "input": [
      "for node in root_node:\n",
      "    line_text = \"\"\n",
      "    for text in node.itertext():\n",
      "        line_text+=text\n",
      "    print(line_text)"
     ],
     "language": "python",
     "metadata": {},
     "outputs": [
      {
       "output_type": "stream",
       "stream": "stdout",
       "text": [
        "Shall I compare thee to a summer's day?\n",
        "Thou art more lovely and more temperate:\n",
        "Rough winds do shake the darling buds of May,\n",
        "And summer's lease hath all too short a date:\n",
        "Sometime too hot the eye of heaven shines,\n",
        "And often is his gold complexion dimm'd;\n",
        "And every fair from fair sometime declines,\n",
        "By chance, or nature's changing course, untrimm'd;\n",
        "\n",
        "But thy eternal summer shall not fade\n",
        "Nor lose possession of that fair thou ow'st;\n",
        "Nor shall Death brag thou wander'st in his shade,\n",
        "When in eternal lines to time thou grow'st;\n",
        "So long as men can breathe or eyes can see,\n",
        "So long lives this, and this gives life to thee.\n"
       ]
      }
     ],
     "prompt_number": 298
    },
    {
     "cell_type": "markdown",
     "metadata": {},
     "source": [
      "Note that we get an empty line at the `volta`, since there isn't any actual text associated with this empty tag."
     ]
    },
    {
     "cell_type": "markdown",
     "metadata": {},
     "source": [
      "### Quiz!\n",
      "Could you now write your own code, which iterates over the lines in our tree and prints out the line number based on the `n` attribute of the `line` element?"
     ]
    },
    {
     "cell_type": "code",
     "collapsed": true,
     "input": [
      "# write your code here..."
     ],
     "language": "python",
     "metadata": {},
     "outputs": [],
     "prompt_number": 263
    },
    {
     "cell_type": "markdown",
     "metadata": {},
     "source": [
      "## Manipulating XML in Python"
     ]
    },
    {
     "cell_type": "markdown",
     "metadata": {},
     "source": [
      "So far, we have parsed XML in Python, we haven't dealt with creating or manipulating XML in Python. Luckily, adapting or creating XML is fairly straightforward in Python. Let's first try and change the author's name in the `author` attribute of the `sonnet`. Because this boils down to manipulating a Python dictionary, the syntax should already be familiar to you: "
     ]
    },
    {
     "cell_type": "code",
     "collapsed": true,
     "input": [
      "root_node = tree.getroot()\n",
      "root_node.attrib[\"author\"] = \"J.K. Rowling\"\n",
      "root_node.attrib[\"year\"] = \"2015\"\n",
      "root_node.attrib[\"new_element\"] = \"dummy string!\"\n",
      "print(etree.tostring(root_node).decode())"
     ],
     "language": "python",
     "metadata": {},
     "outputs": [
      {
       "output_type": "stream",
       "stream": "stdout",
       "text": [
        "<sonnet author=\"J.K. Rowling\" year=\"2015\" new_element=\"dummy string!\">\n",
        "\t<line n=\"1\">Shall I compare thee to a summer's <rhyme>day</rhyme>?</line>\n",
        "\t<line n=\"2\">Thou art more lovely and more <rhyme>temperate</rhyme>:</line>\n",
        "\t<line n=\"3\">Rough winds do shake the darling buds of <rhyme>May</rhyme>,</line>\n",
        "\t<line n=\"4\">And summer's lease hath all too short a <rhyme>date</rhyme>:</line>\n",
        "\t<line n=\"5\">Sometime too hot the eye of heaven <rhyme>shines</rhyme>,</line>\n",
        "\t<line n=\"6\">And often is his gold complexion <rhyme>dimm'd</rhyme>;</line>\n",
        "\t<line n=\"7\">And every fair from fair sometime <rhyme>declines</rhyme>,</line>\n",
        "\t<line n=\"8\">By chance, or nature's changing course, <rhyme>untrimm'd</rhyme>;</line>\n",
        "    <volta/>\n",
        "\t<line n=\"9\">But thy eternal summer shall not <rhyme>fade</rhyme></line>\n",
        "\t<line n=\"10\">Nor lose possession of that fair thou <rhyme>ow'st</rhyme>;</line>\n",
        "\t<line n=\"11\">Nor shall Death brag thou wander'st in his <rhyme>shade</rhyme>,</line>\n",
        "\t<line n=\"12\">When in eternal lines to time thou <rhyme>grow'st</rhyme>;</line>\n",
        "\t<line n=\"13\">So long as men can breathe or eyes can <rhyme>see</rhyme>,</line>\n",
        "\t<line n=\"14\">So long lives this, and this gives life to <rhyme>thee</rhyme>.</line>\n",
        "</sonnet>\n"
       ]
      }
     ],
     "prompt_number": 300
    },
    {
     "cell_type": "markdown",
     "metadata": {},
     "source": [
      "That was easy, wasn't it? Did you see we can just add new attributes to an element? Just take care only to put strings as attribute values: since we are working with XML, Python won't accept e.g. numbers and you will get an error:"
     ]
    },
    {
     "cell_type": "code",
     "collapsed": true,
     "input": [
      "root_node.attrib[\"year\"] = 2015"
     ],
     "language": "python",
     "metadata": {},
     "outputs": [
      {
       "ename": "TypeError",
       "evalue": "Argument must be bytes or unicode, got 'int'",
       "output_type": "pyerr",
       "traceback": [
        "\u001b[0;31m---------------------------------------------------------------------------\u001b[0m\n\u001b[0;31mTypeError\u001b[0m                                 Traceback (most recent call last)",
        "\u001b[0;32m<ipython-input-301-ef68e3deac11>\u001b[0m in \u001b[0;36m<module>\u001b[0;34m()\u001b[0m\n\u001b[0;32m----> 1\u001b[0;31m \u001b[0mroot_node\u001b[0m\u001b[0;34m.\u001b[0m\u001b[0mattrib\u001b[0m\u001b[0;34m[\u001b[0m\u001b[0;34m\"year\"\u001b[0m\u001b[0;34m]\u001b[0m \u001b[0;34m=\u001b[0m \u001b[0;36m2015\u001b[0m\u001b[0;34m\u001b[0m\u001b[0m\n\u001b[0m",
        "\u001b[0;32m/Users/mike/anaconda/lib/python3.4/site-packages/lxml/etree.so\u001b[0m in \u001b[0;36mlxml.etree._Attrib.__setitem__ (src/lxml/lxml.etree.c:61307)\u001b[0;34m()\u001b[0m\n",
        "\u001b[0;32m/Users/mike/anaconda/lib/python3.4/site-packages/lxml/etree.so\u001b[0m in \u001b[0;36mlxml.etree._setAttributeValue (src/lxml/lxml.etree.c:19567)\u001b[0;34m()\u001b[0m\n",
        "\u001b[0;32m/Users/mike/anaconda/lib/python3.4/site-packages/lxml/etree.so\u001b[0m in \u001b[0;36mlxml.etree._utf8 (src/lxml/lxml.etree.c:27146)\u001b[0;34m()\u001b[0m\n",
        "\u001b[0;31mTypeError\u001b[0m: Argument must be bytes or unicode, got 'int'"
       ]
      }
     ],
     "prompt_number": 301
    },
    {
     "cell_type": "markdown",
     "metadata": {},
     "source": [
      "Adding whole elements is fairly easy too. Let's add a single dummy element (`<break/>`) to indicate a line break at the end of each line. Importantly, we have to create this element inside our loop, before we can add it:"
     ]
    },
    {
     "cell_type": "code",
     "collapsed": true,
     "input": [
      "break_el = etree.Element(\"break\")\n",
      "print(etree.tostring(break_el).decode())"
     ],
     "language": "python",
     "metadata": {},
     "outputs": [
      {
       "output_type": "stream",
       "stream": "stdout",
       "text": [
        "<break/>\n"
       ]
      }
     ],
     "prompt_number": 310
    },
    {
     "cell_type": "markdown",
     "metadata": {},
     "source": [
      "You'll notice that we actually created an empty `<break/>` tag. Now, let's add it add the end of each line:"
     ]
    },
    {
     "cell_type": "code",
     "collapsed": false,
     "input": [
      "for node in tree.iterfind(\"line\"):\n",
      "    break_el = etree.Element(\"break\")\n",
      "    node.append(break_el)\n",
      "print(etree.tostring(tree).decode())"
     ],
     "language": "python",
     "metadata": {},
     "outputs": [
      {
       "output_type": "stream",
       "stream": "stdout",
       "text": [
        "<sonnet author=\"J.K. Rowling\" year=\"2015\" new_element=\"dummy string!\">\n",
        "\t<line n=\"1\">Shall I compare thee to a summer's <rhyme>day</rhyme>?<break/></line>\n",
        "\t<line n=\"2\">Thou art more lovely and more <rhyme>temperate</rhyme>:<break/></line>\n",
        "\t<line n=\"3\">Rough winds do shake the darling buds of <rhyme>May</rhyme>,<break/></line>\n",
        "\t<line n=\"4\">And summer's lease hath all too short a <rhyme>date</rhyme>:<break/></line>\n",
        "\t<line n=\"5\">Sometime too hot the eye of heaven <rhyme>shines</rhyme>,<break/></line>\n",
        "\t<line n=\"6\">And often is his gold complexion <rhyme>dimm'd</rhyme>;<break/></line>\n",
        "\t<line n=\"7\">And every fair from fair sometime <rhyme>declines</rhyme>,<break/></line>\n",
        "\t<line n=\"8\">By chance, or nature's changing course, <rhyme>untrimm'd</rhyme>;<break/></line>\n",
        "    <volta/>\n",
        "\t<line n=\"9\">But thy eternal summer shall not <rhyme>fade</rhyme><break/></line>\n",
        "\t<line n=\"10\">Nor lose possession of that fair thou <rhyme>ow'st</rhyme>;<break/></line>\n",
        "\t<line n=\"11\">Nor shall Death brag thou wander'st in his <rhyme>shade</rhyme>,<break/></line>\n",
        "\t<line n=\"12\">When in eternal lines to time thou <rhyme>grow'st</rhyme>;<break/></line>\n",
        "\t<line n=\"13\">So long as men can breathe or eyes can <rhyme>see</rhyme>,<break/></line>\n",
        "\t<line n=\"14\">So long lives this, and this gives life to <rhyme>thee</rhyme>.<break/></line>\n",
        "</sonnet>\n"
       ]
      }
     ],
     "prompt_number": 267
    },
    {
     "cell_type": "markdown",
     "metadata": {},
     "source": [
      "Adding an element with actual content is just as easy by the way:"
     ]
    },
    {
     "cell_type": "code",
     "collapsed": false,
     "input": [
      "break_el = etree.Element(\"break\")\n",
      "break_el.text = \"XXX\"\n",
      "print(etree.tostring(break_el).decode())"
     ],
     "language": "python",
     "metadata": {},
     "outputs": []
    },
    {
     "cell_type": "markdown",
     "metadata": {},
     "source": [
      "### Quiz\n",
      "The `<break/>` element is still empty: could you add to it an `n` attribute, to which you assign the line number from the current <line> element?"
     ]
    },
    {
     "cell_type": "code",
     "collapsed": false,
     "input": [
      "# your code goes here..."
     ],
     "language": "python",
     "metadata": {},
     "outputs": [],
     "prompt_number": 312
    },
    {
     "cell_type": "markdown",
     "metadata": {},
     "source": [
      "## Python for TEI"
     ]
    },
    {
     "cell_type": "markdown",
     "metadata": {},
     "source": [
      "In Digital Humanities, you hear a lot about the TEI nowadays, or the Text Encoding Initiative ([tei-c.org](http://www.tei-c.org/index.xml)). The TEI refers to an initiative which has developed a highly influential \"dialect\" of XML for encoding texts in the Humanities. The beauty about XML is that tag names aren't predefined and you can invent your own tag and attributes. Our Shakepearean example could just have well have read:"
     ]
    },
    {
     "cell_type": "markdown",
     "metadata": {},
     "source": [
      "<?xml version=\"1.0\"?>\n",
      "<poem writer=\"William Shakepeare\" date=\"1609\">\n",
      "\t<l nr=\"1\">Shall I compare thee to a summer's <last>day</last>?</l>\n",
      "\t<l nr=\"2\">Thou art more lovely and more <last>temperate</last>:</l>\n",
      "\t<l nr=\"3\">Rough winds do shake the darling buds of <last>May</last>,</l>\n",
      "\t<l nr=\"4\">And summer's lease hath all too short a <last>date</last>:</l>\n",
      "\t<l nr=\"5\">Sometime too hot the eye of heaven <last>shines</last>,</l>\n",
      "\t<l nr=\"6\">And often is his gold complexion <last>dimm'd</last>;</l>\n",
      "\t<l nr=\"7\">And every fair from fair sometime <last>declines</last>,</l>\n",
      "\t<l nr=\"8\">By chance, or nature's changing course, <last>untrimm'd</last>;</l>\n",
      "    <break/>\n",
      "\t<l nr=\"9\">But thy eternal summer shall not <last>fade</last></l>\n",
      "\t<l nr=\"10\">Nor lose possession of that fair thou <last>ow'st</last>;</l>\n",
      "\t<l nr=\"11\">Nor shall Death brag thou wander'st in his <last>shade</last>,</l>\n",
      "\t<l nr=\"12\">When in eternal lines to time thou <last>grow'st</last>;</l>\n",
      "\t<l nr=\"13\">So long as men can breathe or eyes can <last>see</last>,</l>\n",
      "\t<l nr=\"14\">So long lives this, and this gives life to <last>thee</last>.</l>\n",
      "</poem>"
     ]
    },
    {
     "cell_type": "markdown",
     "metadata": {},
     "source": [
      "As you can see, all the tag and attribute names are different in this version, but the essential structure is still the same. You could therefore say that XML is a markup language which provides a *syntax* to talk about texts, but does not come with a default *semantics*. This freedom in choosing name tags etc. can also be a bit daunting: this is why the TEI provides Guidelines as how tag names etc. can be used to mark up specific phenomena in texts. The TEI therefore also refers to a rather bulky set of guidelines as to which tags could be used to properly encode a text. Below, we read in a fairly advanced example of Shakepeare's 17th sonnet encoded in TEI (note the use of the `<TEI>` tag as our root node!). Even the metrical structure has been encoded as you will see, so this can be considered an example \"TEI on steroids\". "
     ]
    },
    {
     "cell_type": "code",
     "collapsed": true,
     "input": [
      "tree = etree.parse(\"data/TEI/sonnet17.xml\")\n",
      "print(etree.tostring(tree).decode())"
     ],
     "language": "python",
     "metadata": {},
     "outputs": [
      {
       "output_type": "stream",
       "stream": "stdout",
       "text": [
        "<TEI xmlns=\"http://www.tei-c.org/ns/1.0\">\n",
        "<text>\n",
        "<body>\n",
        "<lg type=\"poem\" met=\"-+ | -+ | -+ | -+ | -+ /\">\n",
        "<head>\n",
        "<title>Sonnet 17</title>\n",
        "</head>\n",
        "<lg type=\"sonnet\" rhyme=\"abab cdcd efef gg\">\n",
        "<lg type=\"quatrain\">\n",
        "<l>\n",
        "<seg type=\"foot\" real=\"+-\"> Who will</seg>\n",
        "<seg type=\"foot\"> believe</seg>\n",
        "<seg type=\"foot\"> my verse</seg>\n",
        "<seg type=\"foot\"> in time</seg>\n",
        "<seg type=\"foot\"> to come,</seg>\n",
        "</l>\n",
        "<l>\n",
        "<seg type=\"foot\">If it</seg>\n",
        "<seg type=\"foot\"> were fill'd</seg>\n",
        "<seg type=\"foot\"> with your</seg>\n",
        "<seg type=\"foot\"> most high</seg>\n",
        "<seg type=\"foot\" real=\"+-\"> deserts?</seg>\n",
        "</l>\n",
        "<l>\n",
        "<seg type=\"foot\">Though yet,</seg>\n",
        "<seg type=\"foot\" real=\"+-\"> heaven knows,</seg>\n",
        "<seg type=\"foot\"> it is</seg>\n",
        "<seg type=\"foot\"> but as</seg>\n",
        "<seg type=\"foot\"> a tomb</seg>\n",
        "</l>\n",
        "<l>\n",
        "<seg type=\"foot\">Which hides</seg>\n",
        "<seg type=\"foot\"> your life </seg>\n",
        "<seg type=\"foot\">and shows</seg>\n",
        "<seg type=\"foot\"> not half</seg>\n",
        "<seg type=\"foot\"> your parts. </seg>\n",
        "</l>\n",
        "</lg>\n",
        "<lg type=\"quatrain\">\n",
        "<l enjamb=\"y\">\n",
        "<seg type=\"foot\">If I</seg>\n",
        "<seg type=\"foot\"> could write</seg>\n",
        "<seg type=\"foot\"> the beau</seg>\n",
        "<seg type=\"foot\">ty of </seg>\n",
        "<seg type=\"foot\"> your eyes</seg>\n",
        "</l>\n",
        "<l>\n",
        "<seg type=\"foot\" real=\"--\">And in</seg>\n",
        "<seg type=\"foot\" real=\"++\"> fresh num</seg>\n",
        "<seg type=\"foot\">bers num</seg>\n",
        "<seg type=\"foot\">ber all</seg>\n",
        "<seg type=\"foot\" met=\"-+-\"> your graces,</seg>\n",
        "</l>\n",
        "<l>\n",
        "<seg type=\"foot\">The age</seg>\n",
        "<seg type=\"foot\"> to come</seg>\n",
        "<seg type=\"foot\"> would say</seg>\n",
        "<seg type=\"foot\"> &#8216;This po</seg>\n",
        "<seg type=\"foot\">et lies; </seg>\n",
        "</l>\n",
        "<l>\n",
        "<seg type=\"foot\">Such heaven</seg>\n",
        "<seg type=\"foot\">ly touch</seg>\n",
        "<seg type=\"foot\">es ne'er</seg>\n",
        "<seg type=\"foot\"> touch'd earth</seg>\n",
        "<seg type=\"foot\" met=\"-+-\">ly faces&#8217;. </seg>\n",
        "</l>\n",
        "</lg>\n",
        "<lg type=\"quatrain\">\n",
        "<l>\n",
        "<seg type=\"foot\">So should</seg>\n",
        "<seg type=\"foot\"> my pap</seg>\n",
        "<seg type=\"foot\">ers, <caesura/>yell</seg>\n",
        "<seg type=\"foot\">owed with</seg>\n",
        "<seg type=\"foot\"> their age,</seg>\n",
        "</l>\n",
        "<l>\n",
        "<seg type=\"foot\">Be scorn'd</seg>\n",
        "<seg type=\"foot\"> like old</seg>\n",
        "<seg type=\"foot\" real=\"+-\"> men of </seg>\n",
        "<seg type=\"foot\">less truth</seg>\n",
        "<seg type=\"foot\"> than tongue; </seg>\n",
        "</l>\n",
        "<l>\n",
        "<seg type=\"foot\">And your</seg>\n",
        "<seg type=\"foot\"> true rights</seg>\n",
        "<seg type=\"foot\"> be term'</seg>\n",
        "<seg type=\"foot\"> a po</seg>\n",
        "<seg type=\"foot\">et's rage,</seg>\n",
        "</l>\n",
        "<l>\n",
        "<seg type=\"foot\">And stretch</seg>\n",
        "<seg type=\"foot\">ed me</seg>\n",
        "<seg type=\"foot\">tre of </seg>\n",
        "<seg type=\"foot\">an an</seg>\n",
        "<seg type=\"foot\">tique song. </seg>\n",
        "</l>\n",
        "</lg>\n",
        "<lg type=\"couplet\">\n",
        "<l>\n",
        "<seg type=\"foot\">But were</seg>\n",
        "<seg type=\"foot\"> some child</seg>\n",
        "<seg type=\"foot\"> of yours</seg>\n",
        "<seg type=\"foot\"> alive</seg>\n",
        "<seg type=\"foot\"> that time,</seg>\n",
        "</l>\n",
        "<l>\n",
        "<seg type=\"foot\">You should</seg>\n",
        "<seg type=\"foot\"> live twice-</seg>\n",
        "<seg type=\"foot\">in it,</seg>\n",
        "<caesura/>\n",
        "<seg type=\"foot\"> and in</seg>\n",
        "<seg type=\"foot\"> my rhyme. </seg>\n",
        "</l>\n",
        "</lg>\n",
        "</lg>\n",
        "</lg>\n",
        "</body>\n",
        "</text>\n",
        "</TEI>\n"
       ]
      }
     ],
     "prompt_number": 315
    },
    {
     "cell_type": "markdown",
     "metadata": {},
     "source": [
      "## Quiz\n",
      "\n",
      "Processing TEI in Python, is really just processing XML in Python, the dark art which you already learned to master above! Let's try and practice the looping techniques we introduced above. Could you provide code which parses the xml and writes away the lines in this poem to a plain text file, with one verse line on a single line in the new file?"
     ]
    },
    {
     "cell_type": "code",
     "collapsed": true,
     "input": [
      "# add your parsing code here... "
     ],
     "language": "python",
     "metadata": {},
     "outputs": []
    },
    {
     "cell_type": "markdown",
     "metadata": {},
     "source": [
      "## A hands-on case study: French plays"
     ]
    },
    {
     "cell_type": "markdown",
     "metadata": {},
     "source": [
      "OK, it time to get your hands even more dirty. For textual analyses, there are a number of great datasets out there which have been encoded in rich XML. One excellent resource which we have recently worked with, can be found at [theatre-classique.fr](http://www.theatre-classique.fr/): this website holds an extensive collection of French plays from the time of the Classical and Enlightenment era in France. Some of the plays have been authored by some of France's finest authors such as Moli\u00e8re pr Pierre and Thomas Corneille. What is interesting about this resource, is that it provides a very rich XML markup: apart from extensive metadata on the play or a detailed descriptions of the actors involved, the actually lines have been encoded in such a manner, that we perfectly know which character uttered a particular line, or to which scene or act a line belongs. This allows us to perform much richer textual analyses than if we would only have a raw text version of the plays. We have collected a subset of these plays for you under the `data/TEI`directory:"
     ]
    },
    {
     "cell_type": "code",
     "collapsed": false,
     "input": [
      "import os\n",
      "dirname = \"data/TEI/french_plays/\"\n",
      "for filename in os.listdir(dirname):\n",
      "    if filename.endswith(\".xml\"):\n",
      "        print(filename)"
     ],
     "language": "python",
     "metadata": {},
     "outputs": [
      {
       "output_type": "stream",
       "stream": "stdout",
       "text": [
        "125.xml\n",
        "126.xml\n",
        "127.xml\n",
        "128.xml\n",
        "129.xml\n",
        "130.xml\n",
        "131.xml\n",
        "132.xml\n",
        "133.xml\n",
        "134.xml\n",
        "135.xml\n",
        "136.xml\n",
        "137.xml\n",
        "138.xml\n",
        "139.xml\n",
        "140.xml\n",
        "141.xml\n",
        "142.xml\n",
        "143.xml\n",
        "144.xml\n",
        "145.xml\n",
        "146.xml\n",
        "147.xml\n",
        "148.xml\n",
        "149.xml\n",
        "150.xml\n",
        "151.xml\n",
        "152.xml\n",
        "153.xml\n",
        "154.xml\n",
        "155.xml\n",
        "156.xml\n",
        "157.xml\n",
        "158.xml\n",
        "159.xml\n",
        "160.xml\n",
        "161.xml\n",
        "162.xml\n",
        "163.xml\n",
        "164.xml\n",
        "165.xml\n",
        "166.xml\n",
        "167.xml\n",
        "168.xml\n",
        "169.xml\n",
        "170.xml\n",
        "171.xml\n",
        "172.xml\n",
        "173.xml\n",
        "174.xml\n",
        "175.xml\n",
        "176.xml\n",
        "177.xml\n",
        "178.xml\n",
        "179.xml\n",
        "180.xml\n",
        "181.xml\n",
        "182.xml\n",
        "183.xml\n",
        "184.xml\n",
        "185.xml\n",
        "302.xml\n",
        "690.xml\n"
       ]
      }
     ],
     "prompt_number": 316
    },
    {
     "cell_type": "markdown",
     "metadata": {},
     "source": [
      "OK: under this directory, we appear to have a bunch of XML-files, but their titles are just numbers, which doesn't tell us a lot. Let's have a look at what's the title and author tags in these files:"
     ]
    },
    {
     "cell_type": "code",
     "collapsed": false,
     "input": [
      "for filename in os.listdir(dirname):\n",
      "    if filename.endswith(\".xml\"):\n",
      "        print(\"*****\")\n",
      "        print(\"\\t-\", filename)\n",
      "        tree = etree.parse(dirname+filename)\n",
      "        author_element = tree.find(\"//author\") # find vs iterfind!\n",
      "        print(\"\\t-\", author_element.text)\n",
      "        title_element = tree.find(\"//title\")\n",
      "        print(\"\\t-\", title_element.text)"
     ],
     "language": "python",
     "metadata": {},
     "outputs": [
      {
       "output_type": "stream",
       "stream": "stdout",
       "text": [
        "*****\n",
        "\t- 125.xml\n",
        "\t- CORNEILLE, Pierre\n",
        "\t- AG\u00c9SILAS, TRAG\u00c9DIE\n",
        "*****\n",
        "\t- 126.xml\n",
        "\t- CORNEILLE, Pierre\n",
        "\t- ANDROMEDE, TRAG\u00c9DIE.\n",
        "*****\n",
        "\t- 127.xml\n",
        "\t- CORNEILLE, Pierre\n",
        "\t- ATTILA, ROI DES HUNS, TRAG\u00c9DIE\n",
        "*****\n",
        "\t- 128.xml\n",
        "\t- CORNEILLE, Pierre\n",
        "\t- LE CID, TRAGI-COM\u00c9DIE\n",
        "*****\n",
        "\t- 129.xml\n",
        "\t- CORNEILLE, Pierre\n",
        "\t- CINNA ou LA CL\u00c9MENCE D'AUGUSTE, TRAG\u00c9DIE\n",
        "*****\n",
        "\t- 130.xml\n",
        "\t- CORNEILLE, Pierre\n",
        "\t- CLITANDRE, COM\u00c9DIE\n",
        "*****\n",
        "\t- 131.xml\n",
        "\t- CORNEILLE, Pierre\n",
        "\t- DON SANCHE D'ARAGON, COM\u00c9DIE H\u00c9RO\u00cfQUE\n",
        "*****\n",
        "\t- 132.xml\n",
        "\t- CORNEILLE, Pierre\n",
        "\t- LA GALERIE DU PALAIS ou L'AMIE RIVALE\n",
        "*****\n",
        "\t- 133.xml\n",
        "\t-"
       ]
      },
      {
       "output_type": "stream",
       "stream": "stdout",
       "text": [
        " CORNEILLE, Pierre\n",
        "\t- H\u00c9RACLIUS, EMPEREUR D'ORIENT, TRAG\u00c9DIE\n",
        "*****\n",
        "\t- 134.xml\n",
        "\t- CORNEILLE, Pierre\n",
        "\t- HORACE, TRAG\u00c9DIE\n",
        "*****\n",
        "\t- 135.xml\n",
        "\t- CORNEILLE, Pierre\n",
        "\t- L'ILLUSION COMIQUE, COM\u00c9DIE\n",
        "*****\n",
        "\t- 136.xml\n",
        "\t- CORNEILLE, Pierre\n",
        "\t- M\u00c9D\u00c9E, TRAG\u00c9DIE\n",
        "*****\n",
        "\t- 137.xml\n",
        "\t- CORNEILLE, Pierre\n",
        "\t- M\u00c9LITE, COM\u00c9DIE\n",
        "*****\n",
        "\t- 138.xml\n",
        "\t- CORNEILLE, Pierre\n",
        "\t- LE MENTEUR, COM\u00c9DIE\n",
        "*****\n",
        "\t- 139.xml\n",
        "\t- CORNEILLE, Pierre\n",
        "\t- LA MORT DE POMP\u00c9E, TRAG\u00c9DIE\n",
        "*****\n",
        "\t- 140.xml\n",
        "\t- CORNEILLE, Pierre\n",
        "\t- NICOM\u00c8DE, TRAG\u00c9DIE\n",
        "*****\n",
        "\t- 141.xml\n",
        "\t-"
       ]
      },
      {
       "output_type": "stream",
       "stream": "stdout",
       "text": [
        " CORNEILLE, Pierre\n",
        "\t- OEDIPE, TRAG\u00c9DIE\n",
        "*****\n",
        "\t- 142.xml\n",
        "\t- CORNEILLE, Pierre\n",
        "\t- PERTHARITE ROI DES LOMBARDS, TRAG\u00c9DIE\n",
        "*****\n",
        "\t- 143.xml\n",
        "\t- CORNEILLE, Pierre\n",
        "\t- LA PLACE ROYALE ou L'AMOUREUX EXTRAVAGANT, COM\u00c9DIE\n",
        "*****\n",
        "\t- 144.xml\n",
        "\t- CORNEILLE, Pierre\n",
        "\t- POLYEUCTE MARTYR, TRAG\u00c9DIE\n",
        "*****\n",
        "\t- 145.xml\n",
        "\t- CORNEILLE, Pierre\n",
        "\t- PULCH\u00c9RIE, COM\u00c9DIE H\u00c9RO\u00cfQUE\n",
        "*****\n",
        "\t- 146.xml\n",
        "\t- CORNEILLE, Pierre\n",
        "\t- RODOGUNE, TRAG\u00c9DIE\n",
        "*****\n",
        "\t- 147.xml\n",
        "\t- CORNEILLE, Pierre\n",
        "\t- SERTORIUS, TRAG\u00c9DIE\n",
        "*****\n",
        "\t- 148.xml\n",
        "\t- CORNEILLE, Pierre\n",
        "\t- SOPHONISBE, TRAG\u00c9DIE\n",
        "*****\n",
        "\t- 149.xml\n",
        "\t-"
       ]
      },
      {
       "output_type": "stream",
       "stream": "stdout",
       "text": [
        " CORNEILLE, Pierre\n",
        "\t- LA SUITE DU MENTEUR, COM\u00c9DIE\n",
        "*****\n",
        "\t- 150.xml\n",
        "\t- CORNEILLE, Pierre\n",
        "\t- LA SUIVANTE, COM\u00c9DIE\n",
        "*****\n",
        "\t- 151.xml\n",
        "\t- CORNEILLE, Pierre\n",
        "\t- SURENA G\u00c9NERAL DES PARTHES, TRAG\u00c9DIE\n",
        "*****\n",
        "\t- 152.xml\n",
        "\t- CORNEILLE, Pierre\n",
        "\t- TH\u00c9ODORE, VIERGE ET MARTYRE, TRAG\u00c9DIE CHR\u00c9TIENNE\n",
        "*****\n",
        "\t- 153.xml\n",
        "\t- CORNEILLE, Pierre\n",
        "\t- TITE ET B\u00c9R\u00c9NICE, COM\u00c9DIE HERO\u00cfQUE\n",
        "*****\n",
        "\t- 154.xml\n",
        "\t- CORNEILLE, Pierre\n",
        "\t- LA CONQU\u00caTE DE LA TOISON D'OR, TRAG\u00c9DIE\n",
        "*****\n",
        "\t- 155.xml\n",
        "\t- CORNEILLE, Pierre\n",
        "\t- LA VEUVE, COM\u00c9DIE\n",
        "*****\n",
        "\t- 156.xml\n",
        "\t- CORNEILLE, Thomas\n",
        "\t-"
       ]
      },
      {
       "output_type": "stream",
       "stream": "stdout",
       "text": [
        " L'AMOUR \u00c0 LA MODE, COM\u00c9DIE. \n",
        "*****\n",
        "\t- 157.xml\n",
        "\t- CORNEILLE, Thomas\n",
        "\t- ARIANE, TRAG\u00c9DIE\n",
        "*****\n",
        "\t- 158.xml\n",
        "\t- CORNEILLE, Thomas\n",
        "\t- B\u00c9R\u00c9NICE, TRAG\u00c9DIE.\n",
        "*****\n",
        "\t- 159.xml\n",
        "\t- CORNEILLE, Thomas\n",
        "\t- LE BERGER EXTRAVAGANT, PASTORALE BURLESQUE.\n",
        "*****\n",
        "\t- 160.xml\n",
        "\t- CORNEILLE, Thomas\n",
        "\t- BRADAMANTE, TRAG\u00c9DIE\n",
        "*****\n",
        "\t- 161.xml\n",
        "\t- CORNEILLE, Thomas\n",
        "\t- CAMMA, REINE DE GALATIE, TRAG\u00c9DIE\n",
        "*****\n",
        "\t- 162.xml\n",
        "\t- CORNEILLE, Thomas\n",
        "\t- LE CHARME DE LA VOIX, COM\u00c9DIE\n",
        "*****\n",
        "\t- 163.xml\n",
        "\t- CORNEILLE, Thomas\n",
        "\t-"
       ]
      },
      {
       "output_type": "stream",
       "stream": "stdout",
       "text": [
        " CIRC\u00c9, TRAG\u00c9DIE\n",
        "*****\n",
        "\t- 164.xml\n",
        "\t- CORNEILLE, Thomas\n",
        "\t- LE COMTE d'ESSEX, TRAG\u00c9DIE\n",
        "*****\n",
        "\t- 165.xml\n",
        "\t- CORNEILLE, Thomas\n",
        "\t- LA COMTESSE D'ORGUEIL, COM\u00c9DIE\n",
        "*****\n",
        "\t- 166.xml\n",
        "\t- CORNEILLE, Thomas\n",
        "\t- DARIUS, TRAG\u00c9DIE\n",
        "*****\n",
        "\t- 167.xml\n",
        "\t- CORNEILLE, Thomas\n",
        "\t- DOM BERTRAN  DE CIGARRAL, COM\u00c9DIE\n",
        "*****\n",
        "\t- 168.xml\n",
        "\t- CORNEILLE, Thomas\n",
        "\t- DOM C\u00c9SAR D'AVALOS, COM\u00c9DIE.\n",
        "*****\n",
        "\t- 169.xml\n",
        "\t- CORNEILLE, Thomas\n",
        "\t- LES ENGAGEMENTS DU HASARD, COM\u00c9DIE.\n",
        "*****\n",
        "\t- 170.xml\n",
        "\t-"
       ]
      },
      {
       "output_type": "stream",
       "stream": "stdout",
       "text": [
        " CORNEILLE, Thomas\n",
        "\t- LE FEINT ASTROLOGUE, COM\u00c9DIE\n",
        "*****\n",
        "\t- 171.xml\n",
        "\t- CORNEILLE, Thomas\n",
        "\t- LE FESTIN DE PIERRE, COM\u00c9DIE\n",
        "*****\n",
        "\t- 172.xml\n",
        "\t- CORNEILLE, Thomas\n",
        "\t- LE GALANT DOUBL\u00c9, COM\u00c9DIE. \n",
        "*****\n",
        "\t- 173.xml\n",
        "\t- CORNEILLE, Thomas\n",
        "\t- LE GE\u00d4LIER DE SOI-M\u00caME, COM\u00c9DIE.\n",
        "*****\n",
        "\t- 174.xml\n",
        "\t- CORNEILLE, Thomas\n",
        "\t- LES ILLUSTRES ENNEMIS, COM\u00c9DIE\n",
        "*****\n",
        "\t- 175.xml\n",
        "\t- CORNEILLE, Thomas\n",
        "\t- L'INCONNU, COM\u00c9DIE. \n",
        "*****\n",
        "\t- 176.xml\n",
        "\t- CORNEILLE, Thomas\n",
        "\t-"
       ]
      },
      {
       "output_type": "stream",
       "stream": "stdout",
       "text": [
        " MAXIMIAN, TRAG\u00c9DIE\n",
        "*****\n",
        "\t- 177.xml\n",
        "\t- CORNEILLE, Thomas\n",
        "\t- M\u00c9D\u00c9E, TRAG\u00c9DIE EN MUSIQUE\n",
        "*****\n",
        "\t- 178.xml\n",
        "\t- CORNEILLE, Thomas\n",
        "\t- LA MORT D'ANNIBAL, TRAG\u00c9DIE\n",
        "*****\n",
        "\t- 179.xml\n",
        "\t- CORNEILLE, Thomas\n",
        "\t- LA MORT D'ACHILLE, TRAG\u00c9DIE\n",
        "*****\n",
        "\t- 180.xml\n",
        "\t- CORNEILLE, Thomas\n",
        "\t- LA MORT DE L'EMPEREUR COMMODE, TRAG\u00c9DIE\n",
        "*****\n",
        "\t- 181.xml\n",
        "\t- CORNEILLE, Thomas\n",
        "\t- PERS\u00c9E ET D\u00c9M\u00c9TRIUS, TRAG\u00c9DIE.\n",
        "*****\n",
        "\t- 182.xml\n",
        "\t- CORNEILLE, Thomas\n",
        "\t- PYRRHUS, ROI d'\u00c9PIRE, TRAG\u00c9DIE.\n",
        "*****\n",
        "\t- 183.xml\n",
        "\t- CORNEILLE, Thomas\n",
        "\t- STILICON, TRAG\u00c9DIE\n",
        "*****\n",
        "\t- 184.xml\n",
        "\t- CORNEILLE, Thomas\n",
        "\t- TH\u00c9ODAT, TRAG\u00c9DIE\n",
        "*****\n",
        "\t- 185.xml\n",
        "\t-"
       ]
      },
      {
       "output_type": "stream",
       "stream": "stdout",
       "text": [
        " CORNEILLE, Thomas\n",
        "\t- TIMOCRATE, TRAG\u00c9DIE\n",
        "*****\n",
        "\t- 302.xml\n",
        "\t- CORNEILLE, Pierre\n",
        "\t- MONSIEUR DE BIEVRE, OU L'ABUS DE L'ESPRIT, CALEMBOURG, EN UN ACTE ET EN VAUDEVILLE\n",
        "*****\n",
        "\t- 690.xml\n",
        "\t- CORNEILLE, Pierre\n",
        "\t- OTHON, TRAG\u00c9DIE\n"
       ]
      }
     ],
     "prompt_number": 317
    },
    {
     "cell_type": "markdown",
     "metadata": {},
     "source": [
      "As you can see, we have made you a nice subset selection of this data, containing only texts by the famous pair of brothers: Pierre and Thomas Corneille. We have provided a number of exercises in which you can practice your newly developed XML skills. In each of the fun little tasks below, you should compare the dramas of our two famous brothers:\n",
      "* how many characters does each brother on average stage in a play?\n",
      "* which brother has the highest vocabulary richness?\n",
      "* which brother uses the lengthiest speeches per character on average?\n",
      "* which brother gives most \"speech time\" to women, expressed in number of words (hint: you can derive a character's gender from the `<castList>` in most plays!)"
     ]
    },
    {
     "cell_type": "code",
     "collapsed": false,
     "input": [
      "# your code goes here"
     ],
     "language": "python",
     "metadata": {},
     "outputs": []
    }
   ],
   "metadata": {}
  }
 ]
}