{
 "metadata": {
  "colabVersion": "0.1",
  "name": "",
  "signature": "sha256:ba6c5d3dd976dc23410366938fe64bc6424842345f9f915ba80f76906ef142a4"
 },
 "nbformat": 3,
 "nbformat_minor": 0,
 "worksheets": [
  {
   "cells": [
    {
     "cell_type": "heading",
     "level": 1,
     "metadata": {},
     "source": [
      "Day 1: Creating a Digital Library"
     ]
    },
    {
     "cell_type": "markdown",
     "metadata": {},
     "source": [
      "-- *Programming for the Humanities*"
     ]
    },
    {
     "cell_type": "markdown",
     "metadata": {},
     "source": [
      "---"
     ]
    },
    {
     "cell_type": "heading",
     "level": 2,
     "metadata": {},
     "source": [
      "First steps"
     ]
    },
    {
     "cell_type": "markdown",
     "metadata": {},
     "source": [
      "Everyone can learn to program. The best way to learn is by doing. This book on the Python programming language for people from the Humanities is hands-on: you will write a lot of programming code yourself from the outset. In writing the Python code in this book, you may use the many 'code blocks' you will encounter, such as the grey block immediately below. Place your cursor inside this block and press ctrl+enter to \"run\" or execute the code. Let's begin right away: run your first program!"
     ]
    },
    {
     "cell_type": "code",
     "collapsed": false,
     "input": [
      "print(\"All glory from daring to begin. --Eugene F. Ware\")"
     ],
     "language": "python",
     "metadata": {
      "cellView": null,
      "executionInfo": {
       "content": {
        "execution_count": 1,
        "payload": [],
        "status": "ok",
        "user_expressions": {},
        "user_variables": {}
       },
       "timestamp": 1409742827388,
       "user": {
        "color": "#1FA15D",
        "displayName": "Folgert Karsdorp",
        "isAnonymous": false,
        "isMe": true,
        "photoUrl": "//lh3.googleusercontent.com/-lb0qxz6lI7w/AAAAAAAAAAI/AAAAAAAAAGs/JDB7GjziTs0/s50-c-k-no/photo.jpg",
        "sessionId": "662c575220e0b45",
        "userId": "111825463060259982027"
       },
       "user_tz": -120
      }
     },
     "outputs": []
    },
    {
     "cell_type": "markdown",
     "metadata": {},
     "source": [
      "> Can you describe what this code did? \n",
      "> Can you adapt the code in this box yourself and make it print some other motto?\n",
      "\n",
      "Apart from printing words to your screen, you can also use Python to do calculations. Use the code block below to calculate how old Shakespeare was when he died; he was born in 1564 and died in 1616."
     ]
    },
    {
     "cell_type": "code",
     "collapsed": false,
     "input": [
      "# replace this line with your own code"
     ],
     "language": "python",
     "metadata": {
      "cellView": null,
      "executionInfo": {
       "content": {
        "execution_count": 9,
        "payload": [],
        "status": "ok",
        "user_expressions": {},
        "user_variables": {}
       },
       "timestamp": 1409574305644,
       "user": {
        "color": "#1FA15D",
        "displayName": "Mike Kestemont",
        "isAnonymous": false,
        "isMe": true,
        "photoUrl": "//lh6.googleusercontent.com/-3374Y0epqzU/AAAAAAAAAAI/AAAAAAAAACo/ib8UdQ_Hj5g/s50-c-k-no/photo.jpg",
        "sessionId": "7811641f7482169b",
        "userId": "101039039618129443264"
       },
       "user_tz": -120
      }
     },
     "outputs": []
    },
    {
     "cell_type": "markdown",
     "metadata": {},
     "source": [
      "Excellent! You have just written and executed your own program! Please make sure to run every single one of the code blocks below in the same manner - otherwise a lot of the examples won't properly work.\n",
      "\n",
      "So far, we only used Python as a minimalistic calculator, but there is more to discover."
     ]
    },
    {
     "cell_type": "markdown",
     "metadata": {},
     "source": [
      "---"
     ]
    },
    {
     "cell_type": "heading",
     "level": 2,
     "metadata": {},
     "source": [
      "Numbers"
     ]
    },
    {
     "cell_type": "markdown",
     "metadata": {},
     "source": [
      "Imagine that we want to store the number which we just calculated so we can re-use it later. To do this we need to 'assign' a name to a value using the `=` symbol."
     ]
    },
    {
     "cell_type": "code",
     "collapsed": false,
     "input": [
      "born = 1564\n",
      "print(born)"
     ],
     "language": "python",
     "metadata": {
      "cellView": null,
      "executionInfo": {
       "content": {
        "execution_count": 2,
        "payload": [],
        "status": "ok",
        "user_expressions": {},
        "user_variables": {}
       },
       "timestamp": 1409742834134,
       "user": {
        "color": "#1FA15D",
        "displayName": "Folgert Karsdorp",
        "isAnonymous": false,
        "isMe": true,
        "photoUrl": "//lh3.googleusercontent.com/-lb0qxz6lI7w/AAAAAAAAAAI/AAAAAAAAAGs/JDB7GjziTs0/s50-c-k-no/photo.jpg",
        "sessionId": "662c575220e0b45",
        "userId": "111825463060259982027"
       },
       "user_tz": -120
      }
     },
     "outputs": []
    },
    {
     "cell_type": "markdown",
     "metadata": {},
     "source": [
      "In the code block above, two things happen. First, we fill `born` with a value, in our case 1564. This variable `born` behaves pretty much like a box on which we write an `born` with a thick, black marker in order to locate it at some future time. We then print the contents of this box, using the `print()` function. The box metaphor for a variable goes a long way: in such a box you can put whatever value you want, e.g., Shakespeare's age. When you re-assign a variable, you remove the content of the box and put something new in it. In Python, the term 'variable' refers to such a box, whereas the term 'value' refers to whatever is inside this box.\n",
      "\n",
      "When we have stored values inside variables, we can do interesting things with these variables. You can, for instance, run the calculations in the block below to see the effect of the following five lines of code. Symbols like `=`, `+`, `-` and `*` are called 'operators' in programming: they all provide basic functionality such as assigning values to variables or doing multiplication and subtraction."
     ]
    },
    {
     "cell_type": "code",
     "collapsed": false,
     "input": [
      "born = 1564\n",
      "print(born)\n",
      "print(born * 2)\n",
      "print(born + 451)\n",
      "print(1616 - born)\n",
      "print(born / 3)"
     ],
     "language": "python",
     "metadata": {
      "cellView": null,
      "executionInfo": {
       "content": {
        "execution_count": 3,
        "payload": [],
        "status": "ok",
        "user_expressions": {},
        "user_variables": {}
       },
       "timestamp": 1409742836720,
       "user": {
        "color": "#1FA15D",
        "displayName": "Folgert Karsdorp",
        "isAnonymous": false,
        "isMe": true,
        "photoUrl": "//lh3.googleusercontent.com/-lb0qxz6lI7w/AAAAAAAAAAI/AAAAAAAAAGs/JDB7GjziTs0/s50-c-k-no/photo.jpg",
        "sessionId": "662c575220e0b45",
        "userId": "111825463060259982027"
       },
       "user_tz": -120
      }
     },
     "outputs": []
    },
    {
     "cell_type": "markdown",
     "metadata": {},
     "source": [
      "So far, we have only used a variable called `born`. Nevertheless, we are entirely free to change the names of our variables, as long as these names do not begin with a number or contain punctuation marks other than underscores. In the following block, we assign the outcome of a calculation to a variable with a meaningful name."
     ]
    },
    {
     "cell_type": "code",
     "collapsed": false,
     "input": [
      "shakespeares_age = 1616 - 1564\n",
      "print(shakespeares_age)"
     ],
     "language": "python",
     "metadata": {
      "cellView": null,
      "executionInfo": {
       "content": {
        "execution_count": 4,
        "payload": [],
        "status": "ok",
        "user_expressions": {},
        "user_variables": {}
       },
       "timestamp": 1409742839050,
       "user": {
        "color": "#1FA15D",
        "displayName": "Folgert Karsdorp",
        "isAnonymous": false,
        "isMe": true,
        "photoUrl": "//lh3.googleusercontent.com/-lb0qxz6lI7w/AAAAAAAAAAI/AAAAAAAAAGs/JDB7GjziTs0/s50-c-k-no/photo.jpg",
        "sessionId": "662c575220e0b45",
        "userId": "111825463060259982027"
       },
       "user_tz": -120
      }
     },
     "outputs": []
    },
    {
     "cell_type": "markdown",
     "metadata": {},
     "source": [
      "In Python we can also assign the contents of a variable to another variable, which is what happens in the block below. (Note that Python always reads assignment statements from right to left.) You should of course watch out: make sure that you keep track of the value of each individual variable in your code. Each variable will always contain the value that you last assigned to it:"
     ]
    },
    {
     "cell_type": "code",
     "collapsed": false,
     "input": [
      "first_date = 1564\n",
      "second_date = first_date\n",
      "first_date = 1616\n",
      "\n",
      "print(first_date)\n",
      "print(second_date)"
     ],
     "language": "python",
     "metadata": {
      "cellView": null,
      "executionInfo": {
       "content": {
        "execution_count": 5,
        "payload": [],
        "status": "ok",
        "user_expressions": {},
        "user_variables": {}
       },
       "timestamp": 1409742841146,
       "user": {
        "color": "#1FA15D",
        "displayName": "Folgert Karsdorp",
        "isAnonymous": false,
        "isMe": true,
        "photoUrl": "//lh3.googleusercontent.com/-lb0qxz6lI7w/AAAAAAAAAAI/AAAAAAAAAGs/JDB7GjziTs0/s50-c-k-no/photo.jpg",
        "sessionId": "662c575220e0b45",
        "userId": "111825463060259982027"
       },
       "user_tz": -120
      }
     },
     "outputs": []
    },
    {
     "cell_type": "markdown",
     "metadata": {},
     "source": [
      "Remember: as with boxes in real life, it is always a good idea to give the box a clear, but short name - the name should accurately reflect what is inside the box. Just as you don't write \"cookies\" on a box that contains bananas, it is important to always give your variables a sensible name. In the code block below, for instance, we make the stupid mistake of calling a variable `month`, while we are actually talking about a `year`..."
     ]
    },
    {
     "cell_type": "code",
     "collapsed": false,
     "input": [
      "# not recommended...\n",
      "month = 1616\n",
      "print(month)"
     ],
     "language": "python",
     "metadata": {
      "cellView": null,
      "executionInfo": {
       "content": {
        "execution_count": 6,
        "payload": [],
        "status": "ok",
        "user_expressions": {},
        "user_variables": {}
       },
       "timestamp": 1409742843240,
       "user": {
        "color": "#1FA15D",
        "displayName": "Folgert Karsdorp",
        "isAnonymous": false,
        "isMe": true,
        "photoUrl": "//lh3.googleusercontent.com/-lb0qxz6lI7w/AAAAAAAAAAI/AAAAAAAAAGs/JDB7GjziTs0/s50-c-k-no/photo.jpg",
        "sessionId": "662c575220e0b45",
        "userId": "111825463060259982027"
       },
       "user_tz": -120
      }
     },
     "outputs": []
    },
    {
     "cell_type": "markdown",
     "metadata": {},
     "source": [
      "Variables are also case sensitive: accessing `month` is not the same as `Month`."
     ]
    },
    {
     "cell_type": "code",
     "collapsed": false,
     "input": [
      "print(month)"
     ],
     "language": "python",
     "metadata": {
      "cellView": null,
      "executionInfo": {
       "content": {
        "execution_count": 7,
        "payload": [],
        "status": "ok",
        "user_expressions": {},
        "user_variables": {}
       },
       "timestamp": 1409742845385,
       "user": {
        "color": "#1FA15D",
        "displayName": "Folgert Karsdorp",
        "isAnonymous": false,
        "isMe": true,
        "photoUrl": "//lh3.googleusercontent.com/-lb0qxz6lI7w/AAAAAAAAAAI/AAAAAAAAAGs/JDB7GjziTs0/s50-c-k-no/photo.jpg",
        "sessionId": "662c575220e0b45",
        "userId": "111825463060259982027"
       },
       "user_tz": -120
      }
     },
     "outputs": []
    },
    {
     "cell_type": "code",
     "collapsed": false,
     "input": [
      "print(Month)"
     ],
     "language": "python",
     "metadata": {
      "cellView": null,
      "executionInfo": {
       "content": {
        "execution_count": 8,
        "payload": [],
        "status": "ok",
        "user_expressions": {},
        "user_variables": {}
       },
       "timestamp": 1409742846706,
       "user": {
        "color": "#1FA15D",
        "displayName": "Folgert Karsdorp",
        "isAnonymous": false,
        "isMe": true,
        "photoUrl": "//lh3.googleusercontent.com/-lb0qxz6lI7w/AAAAAAAAAAI/AAAAAAAAAGs/JDB7GjziTs0/s50-c-k-no/photo.jpg",
        "sessionId": "662c575220e0b45",
        "userId": "111825463060259982027"
       },
       "user_tz": -120
      }
     },
     "outputs": []
    },
    {
     "cell_type": "markdown",
     "metadata": {},
     "source": [
      "Python correctly throws an `NameError` here, because it has not heard about the variable `Month` yet (mind the capital letter). \n",
      "\n",
      "Using the operators we have learned about above, we can change the variables in our code as many times as we want. We can assign new values to old variables, just like we can put new or more things in the boxes which we already filled. Shakespeare has been translated in at least 80 different languages. Let's assign that number to a variable called `languages`:"
     ]
    },
    {
     "cell_type": "code",
     "collapsed": false,
     "input": [
      "languages = 80"
     ],
     "language": "python",
     "metadata": {
      "cellView": null,
      "executionInfo": {
       "content": {
        "execution_count": 9,
        "payload": [],
        "status": "ok",
        "user_expressions": {},
        "user_variables": {}
       },
       "timestamp": 1409742848917,
       "user": {
        "color": "#1FA15D",
        "displayName": "Folgert Karsdorp",
        "isAnonymous": false,
        "isMe": true,
        "photoUrl": "//lh3.googleusercontent.com/-lb0qxz6lI7w/AAAAAAAAAAI/AAAAAAAAAGs/JDB7GjziTs0/s50-c-k-no/photo.jpg",
        "sessionId": "662c575220e0b45",
        "userId": "111825463060259982027"
       },
       "user_tz": -120
      }
     },
     "outputs": []
    },
    {
     "cell_type": "markdown",
     "metadata": {},
     "source": [
      "Suppose that Shakespeare is translated into a new language: we can now update our `languages` variable accordingly, by adding one to our previous count:"
     ]
    },
    {
     "cell_type": "code",
     "collapsed": false,
     "input": [
      "languages = languages + 1\n",
      "print(languages)"
     ],
     "language": "python",
     "metadata": {
      "cellView": null,
      "executionInfo": {
       "content": {
        "execution_count": 10,
        "payload": [],
        "status": "ok",
        "user_expressions": {},
        "user_variables": {}
       },
       "timestamp": 1409742850387,
       "user": {
        "color": "#1FA15D",
        "displayName": "Folgert Karsdorp",
        "isAnonymous": false,
        "isMe": true,
        "photoUrl": "//lh3.googleusercontent.com/-lb0qxz6lI7w/AAAAAAAAAAI/AAAAAAAAAGs/JDB7GjziTs0/s50-c-k-no/photo.jpg",
        "sessionId": "662c575220e0b45",
        "userId": "111825463060259982027"
       },
       "user_tz": -120
      }
     },
     "outputs": []
    },
    {
     "cell_type": "markdown",
     "metadata": {},
     "source": [
      "----------"
     ]
    },
    {
     "cell_type": "heading",
     "level": 4,
     "metadata": {},
     "source": [
      "Code!"
     ]
    },
    {
     "cell_type": "markdown",
     "metadata": {},
     "source": [
      "In 1623, 36 of Shakespeare's plays were published in a printed edition, entitled 'Mr. William Shakespeares Comedies, Histories, & Tragedies' [http://www.shakespeare-online.com/biography/shakespeareinprint.html]. This edition is commonly known as the First Folio and has 454 leaves, printed on both sides. Each page measured approximately 8.5 inches by 13.375 inches (this is called the 'folio format'). Can you, first of all, calculate the total surface of all the pages of the First Folio? Secondly, convert the total surface in squared inches to squared centimeters, which are more common in mainland Europe (1 inch = 2.54 cm). Thirdly, try to calculate how much pages a printer would minimally need to reprint the First Folio's contents in a quarto format, in which each page measured 6.75 by 8.5 inches. Make use of variables to store the result of calculations in your code and print these to check them.        "
     ]
    },
    {
     "cell_type": "code",
     "collapsed": false,
     "input": [
      "# insert your code below:\n",
      "print(name)"
     ],
     "language": "python",
     "metadata": {
      "cellView": null,
      "executionInfo": null
     },
     "outputs": []
    },
    {
     "cell_type": "markdown",
     "metadata": {},
     "source": [
      "--------------"
     ]
    },
    {
     "cell_type": "heading",
     "level": 5,
     "metadata": {},
     "source": [
      "What we have learned"
     ]
    },
    {
     "cell_type": "markdown",
     "metadata": {},
     "source": [
      "To finish this section, here is an overview of the concepts you have learned. Go through the list and make sure you can use all these concepts a sentence that is meaningful to yourself.\n",
      "\n",
      "-  variable;\n",
      "-  value;\n",
      "-  assignment to variables using the `=` operator;\n",
      "-  basic math using operators (`+`, `-`, `/`, `*`);\n",
      "-  how to reassign or update variables."
     ]
    },
    {
     "cell_type": "markdown",
     "metadata": {},
     "source": [
      "------"
     ]
    },
    {
     "cell_type": "heading",
     "level": 2,
     "metadata": {},
     "source": [
      "Bodleian Library"
     ]
    },
    {
     "cell_type": "markdown",
     "metadata": {},
     "source": [
      "![](images/library.jpg)\n",
      "\n",
      "**Introduction**\n",
      "\n",
      "To make this book more lively, each chapter will center around a particular theme from which we will draw examples that are relevant from a Humanities perspective. In this chapter, we have chosen to work with a number of example that are loosely related to the Bodleian Library. This old and famous library is the main research library of the University of Oxford in the United Kingdom. It holds a number of spectacular unique books, including first editions of Shakespeare's works and manuscripts of Chaucer's Canterbury Tales. Other highlights include a manuscript of the Arabian Nights (1,001 nights or 'Alf laylah wa-laylah') and a Gutenberg Bible, one of first books ever printed in Europe.    \n",
      "\n",
      "Libraries are obviously much concerned with textual data, but so far, we have only worked with variables that contain numbers. Variables can also contain other things than numbers. Many disciplines within the humanities work on texts. Quite naturally, programming skills for the humanities will have to focus a lot on manipulating texts. Have a look at the code block below, for instance. Here we put text, namely the title of a book, as a value inside the variable book. Then, we print what is inside the book variable."
     ]
    },
    {
     "cell_type": "code",
     "collapsed": false,
     "input": [
      "title = \"The Canterbury Tales\"\n",
      "print(title)"
     ],
     "language": "python",
     "metadata": {
      "cellView": null,
      "executionInfo": {
       "content": {
        "execution_count": 11,
        "payload": [],
        "status": "ok",
        "user_expressions": {},
        "user_variables": {}
       },
       "timestamp": 1409742856621,
       "user": {
        "color": "#1FA15D",
        "displayName": "Folgert Karsdorp",
        "isAnonymous": false,
        "isMe": true,
        "photoUrl": "//lh3.googleusercontent.com/-lb0qxz6lI7w/AAAAAAAAAAI/AAAAAAAAAGs/JDB7GjziTs0/s50-c-k-no/photo.jpg",
        "sessionId": "662c575220e0b45",
        "userId": "111825463060259982027"
       },
       "user_tz": -120
      }
     },
     "outputs": []
    },
    {
     "cell_type": "markdown",
     "metadata": {},
     "source": [
      "Such a piece of text (\"The Canterbury Tales\") is called a 'string' in Python (a series of characters). Strings in Python can contain whitespace characters (e.g. blank spaces), but they must always be enclosed with quotes (either single or double quotes). Without those quotes, Python will think it's dealing with the name of some variable that has been defined earlier, because variable names never take quotes. The following distinction is confusing, but extremely important: variable names (without quotes) and string values (with quotes) look similar, but they serve a completely different purpose. Compare:"
     ]
    },
    {
     "cell_type": "code",
     "collapsed": false,
     "input": [
      "name = \"Tristan\"\n",
      "Tristan = \"name\"\n",
      "Isolde = \"Isolde\" \n",
      "\n",
      "print(name)\n",
      "print (Tristan)\n",
      "print(Isolde)"
     ],
     "language": "python",
     "metadata": {
      "cellView": null,
      "executionInfo": {
       "content": {
        "execution_count": 12,
        "payload": [],
        "status": "ok",
        "user_expressions": {},
        "user_variables": {}
       },
       "timestamp": 1409742859393,
       "user": {
        "color": "#1FA15D",
        "displayName": "Folgert Karsdorp",
        "isAnonymous": false,
        "isMe": true,
        "photoUrl": "//lh3.googleusercontent.com/-lb0qxz6lI7w/AAAAAAAAAAI/AAAAAAAAAGs/JDB7GjziTs0/s50-c-k-no/photo.jpg",
        "sessionId": "662c575220e0b45",
        "userId": "111825463060259982027"
       },
       "user_tz": -120
      }
     },
     "outputs": []
    },
    {
     "cell_type": "markdown",
     "metadata": {},
     "source": [
      "Some of the arithmetic operators we saw earlier can also be used to do things with strings. The addition operator (`+`), for instance, can be used to join strings:"
     ]
    },
    {
     "cell_type": "code",
     "collapsed": false,
     "input": [
      "first_name = \"William\"\n",
      "last_name = \"Shakespeare\"\n",
      "full_name = first_name + \" \" + last_name\n",
      "\n",
      "print(full_name)"
     ],
     "language": "python",
     "metadata": {
      "cellView": null,
      "executionInfo": {
       "content": {
        "execution_count": 13,
        "payload": [],
        "status": "ok",
        "user_expressions": {},
        "user_variables": {}
       },
       "timestamp": 1409742862024,
       "user": {
        "color": "#1FA15D",
        "displayName": "Folgert Karsdorp",
        "isAnonymous": false,
        "isMe": true,
        "photoUrl": "//lh3.googleusercontent.com/-lb0qxz6lI7w/AAAAAAAAAAI/AAAAAAAAAGs/JDB7GjziTs0/s50-c-k-no/photo.jpg",
        "sessionId": "662c575220e0b45",
        "userId": "111825463060259982027"
       },
       "user_tz": -120
      }
     },
     "outputs": []
    },
    {
     "cell_type": "markdown",
     "metadata": {},
     "source": [
      "Adding strings together is called 'string concatenation' or simply 'concatenation' in programming. Note how we added a space between the first and last name. If we leave it out, Python would print `CharlesDickens`. \n",
      "\n",
      "Strings are called strings because they consist of a series (or 'string') of individual characters. We can access these individual characters in Python with the help of 'indexing', because each character in a string has a unique 'index' or position within the series. To print the first letter of a string, you use:"
     ]
    },
    {
     "cell_type": "code",
     "collapsed": false,
     "input": [
      "name = \"Shakespeare\"\n",
      "first_letter = name[0]\n",
      "print(first_letter)"
     ],
     "language": "python",
     "metadata": {
      "cellView": null,
      "executionInfo": {
       "content": {
        "execution_count": 14,
        "payload": [],
        "status": "ok",
        "user_expressions": {},
        "user_variables": {}
       },
       "timestamp": 1409742865183,
       "user": {
        "color": "#1FA15D",
        "displayName": "Folgert Karsdorp",
        "isAnonymous": false,
        "isMe": true,
        "photoUrl": "//lh3.googleusercontent.com/-lb0qxz6lI7w/AAAAAAAAAAI/AAAAAAAAAGs/JDB7GjziTs0/s50-c-k-no/photo.jpg",
        "sessionId": "662c575220e0b45",
        "userId": "111825463060259982027"
       },
       "user_tz": -120
      }
     },
     "outputs": []
    },
    {
     "cell_type": "markdown",
     "metadata": {},
     "source": [
      "Take a look at the string \"Mr White\" below. We use the index 0 to access the first character in the string. This might seem odd, but remember that all indexes in Python start at zero.  This is something you will have to get used to! Note that the space character gets an index too, namely 2, because Python considers it like any other character.\n",
      "\n",
      "![](https://raw.githubusercontent.com/fbkarsdorp/python-course/book/images/shakespeare.png)"
     ]
    },
    {
     "cell_type": "markdown",
     "metadata": {},
     "source": [
      "Similarly you can use higher indices to access the other characters in the string:"
     ]
    },
    {
     "cell_type": "code",
     "collapsed": false,
     "input": [
      "print(name[0])\n",
      "print(name[1])\n",
      "print(name[2])\n",
      "print(name[3])"
     ],
     "language": "python",
     "metadata": {
      "cellView": null,
      "executionInfo": {
       "content": {
        "execution_count": 15,
        "payload": [],
        "status": "ok",
        "user_expressions": {},
        "user_variables": {}
       },
       "timestamp": 1409742868845,
       "user": {
        "color": "#1FA15D",
        "displayName": "Folgert Karsdorp",
        "isAnonymous": false,
        "isMe": true,
        "photoUrl": "//lh3.googleusercontent.com/-lb0qxz6lI7w/AAAAAAAAAAI/AAAAAAAAAGs/JDB7GjziTs0/s50-c-k-no/photo.jpg",
        "sessionId": "662c575220e0b45",
        "userId": "111825463060259982027"
       },
       "user_tz": -120
      }
     },
     "outputs": []
    },
    {
     "cell_type": "markdown",
     "metadata": {},
     "source": [
      "> Write code in the code cell below that assigns the last letter of the name \"Shakespeare\" to the variable `last_letter` and prints it."
     ]
    },
    {
     "cell_type": "code",
     "collapsed": false,
     "input": [
      "last_letter = # insert your code here"
     ],
     "language": "python",
     "metadata": {
      "cellView": null,
      "executionInfo": null
     },
     "outputs": []
    },
    {
     "cell_type": "markdown",
     "metadata": {},
     "source": [
      "It is rather inconvenient having to know how long our strings are if we want to find out what its last letter is. Python provides a simple way of accessing a string 'from the rear':"
     ]
    },
    {
     "cell_type": "code",
     "collapsed": false,
     "input": [
      "last_letter = name[-1]\n",
      "print(last_letter)"
     ],
     "language": "python",
     "metadata": {
      "cellView": null,
      "executionInfo": {
       "content": {
        "execution_count": 16,
        "payload": [],
        "status": "ok",
        "user_expressions": {},
        "user_variables": {}
       },
       "timestamp": 1409742873145,
       "user": {
        "color": "#1FA15D",
        "displayName": "Folgert Karsdorp",
        "isAnonymous": false,
        "isMe": true,
        "photoUrl": "//lh3.googleusercontent.com/-lb0qxz6lI7w/AAAAAAAAAAI/AAAAAAAAAGs/JDB7GjziTs0/s50-c-k-no/photo.jpg",
        "sessionId": "662c575220e0b45",
        "userId": "111825463060259982027"
       },
       "user_tz": -120
      }
     },
     "outputs": []
    },
    {
     "cell_type": "markdown",
     "metadata": {},
     "source": [
      "---------"
     ]
    },
    {
     "cell_type": "heading",
     "level": 4,
     "metadata": {},
     "source": [
      "Code!"
     ]
    },
    {
     "cell_type": "markdown",
     "metadata": {},
     "source": [
      "Now can you write some code that defines a variable `but_last_letter` and assign to it the second-to-last letter of your name?"
     ]
    },
    {
     "cell_type": "code",
     "collapsed": false,
     "input": [
      "but_last_letter = # insert your code here\n",
      "print(but_last_letter)"
     ],
     "language": "python",
     "metadata": {
      "cellView": null,
      "executionInfo": null
     },
     "outputs": []
    },
    {
     "cell_type": "markdown",
     "metadata": {},
     "source": [
      "------"
     ]
    },
    {
     "cell_type": "markdown",
     "metadata": {},
     "source": [
      "You're starting to become a real expert in indexing strings. Now what if we would like to find out what the last two or three letters of a string are? In Python we can use so-called slice-indexes or slices for short. To find the first two letters of a string we use:"
     ]
    },
    {
     "cell_type": "code",
     "collapsed": false,
     "input": [
      "first_two_letters = name[0:2]\n",
      "print(first_two_letters)"
     ],
     "language": "python",
     "metadata": {
      "cellView": null,
      "executionInfo": {
       "content": {
        "execution_count": 17,
        "payload": [],
        "status": "ok",
        "user_expressions": {},
        "user_variables": {}
       },
       "timestamp": 1409742877056,
       "user": {
        "color": "#1FA15D",
        "displayName": "Folgert Karsdorp",
        "isAnonymous": false,
        "isMe": true,
        "photoUrl": "//lh3.googleusercontent.com/-lb0qxz6lI7w/AAAAAAAAAAI/AAAAAAAAAGs/JDB7GjziTs0/s50-c-k-no/photo.jpg",
        "sessionId": "662c575220e0b45",
        "userId": "111825463060259982027"
       },
       "user_tz": -120
      }
     },
     "outputs": []
    },
    {
     "cell_type": "markdown",
     "metadata": {},
     "source": [
      "The index 0 before the colon is optional; we could just as well type in `name[:2]`. This means: take all characters of `name` until you reach index 2 (i.e. *up* to the third letter, but not including the third letter). We can also start at index 2 and leave the end index unspecified:"
     ]
    },
    {
     "cell_type": "code",
     "collapsed": false,
     "input": [
      "without_first_two_letters = name[2:]"
     ],
     "language": "python",
     "metadata": {
      "cellView": null,
      "executionInfo": {
       "content": {
        "execution_count": 18,
        "payload": [],
        "status": "ok",
        "user_expressions": {},
        "user_variables": {}
       },
       "timestamp": 1409742878826,
       "user": {
        "color": "#1FA15D",
        "displayName": "Folgert Karsdorp",
        "isAnonymous": false,
        "isMe": true,
        "photoUrl": "//lh3.googleusercontent.com/-lb0qxz6lI7w/AAAAAAAAAAI/AAAAAAAAAGs/JDB7GjziTs0/s50-c-k-no/photo.jpg",
        "sessionId": "662c575220e0b45",
        "userId": "111825463060259982027"
       },
       "user_tz": -120
      }
     },
     "outputs": []
    },
    {
     "cell_type": "markdown",
     "metadata": {},
     "source": [
      "Because we did not specify the end index, Python continues until it reaches the end of our string. "
     ]
    },
    {
     "cell_type": "markdown",
     "metadata": {},
     "source": [
      "Have a look at the following picture. \n",
      "\n",
      "![](https://raw.githubusercontent.com/fbkarsdorp/python-course/book/images/slices.png)"
     ]
    },
    {
     "cell_type": "markdown",
     "metadata": {},
     "source": [
      "As you can see, you can use positive as well as negative indices to access any character in this string. If we would like to find out what the last three letters are in a string, we can use:"
     ]
    },
    {
     "cell_type": "code",
     "collapsed": false,
     "input": [
      "last_three_letters = name[-3:]\n",
      "print(last_three_letters)"
     ],
     "language": "python",
     "metadata": {
      "cellView": null,
      "executionInfo": {
       "content": {
        "execution_count": 19,
        "payload": [],
        "status": "ok",
        "user_expressions": {},
        "user_variables": {}
       },
       "timestamp": 1409742907746,
       "user": {
        "color": "#1FA15D",
        "displayName": "Folgert Karsdorp",
        "isAnonymous": false,
        "isMe": true,
        "photoUrl": "//lh3.googleusercontent.com/-lb0qxz6lI7w/AAAAAAAAAAI/AAAAAAAAAGs/JDB7GjziTs0/s50-c-k-no/photo.jpg",
        "sessionId": "662c575220e0b45",
        "userId": "111825463060259982027"
       },
       "user_tz": -120
      }
     },
     "outputs": []
    },
    {
     "cell_type": "markdown",
     "metadata": {},
     "source": [
      "Similarly, we can use the following to print the last name of Charles Dickens:"
     ]
    },
    {
     "cell_type": "code",
     "collapsed": false,
     "input": [
      "name = \"Charles Dickens\"\n",
      "print(name[-7:])"
     ],
     "language": "python",
     "metadata": {
      "cellView": null,
      "executionInfo": {
       "content": {
        "execution_count": 20,
        "payload": [],
        "status": "ok",
        "user_expressions": {},
        "user_variables": {}
       },
       "timestamp": 1409742913689,
       "user": {
        "color": "#1FA15D",
        "displayName": "Folgert Karsdorp",
        "isAnonymous": false,
        "isMe": true,
        "photoUrl": "//lh3.googleusercontent.com/-lb0qxz6lI7w/AAAAAAAAAAI/AAAAAAAAAGs/JDB7GjziTs0/s50-c-k-no/photo.jpg",
        "sessionId": "662c575220e0b45",
        "userId": "111825463060259982027"
       },
       "user_tz": -120
      }
     },
     "outputs": []
    },
    {
     "cell_type": "markdown",
     "metadata": {},
     "source": [
      "-------"
     ]
    },
    {
     "cell_type": "heading",
     "level": 4,
     "metadata": {},
     "source": [
      "Code!"
     ]
    },
    {
     "cell_type": "markdown",
     "metadata": {},
     "source": [
      "Can you define a variable `middle_letters` and assign to it all letters of your name except for the first two and the last two?"
     ]
    },
    {
     "cell_type": "code",
     "collapsed": false,
     "input": [
      "middle_letters = # insert your code here\n",
      "print(middle_letters)"
     ],
     "language": "python",
     "metadata": {
      "cellView": null,
      "executionInfo": null
     },
     "outputs": []
    },
    {
     "cell_type": "markdown",
     "metadata": {},
     "source": [
      "Given the following two words, can you write code that prints out the word *humanities* using only slicing and concatenation? "
     ]
    },
    {
     "cell_type": "code",
     "collapsed": false,
     "input": [
      "word1 = \"humans\"\n",
      "word2 = \"opportunities\"\n",
      "# insert your code here"
     ],
     "language": "python",
     "metadata": {
      "cellView": null,
      "executionInfo": null
     },
     "outputs": []
    },
    {
     "cell_type": "markdown",
     "metadata": {},
     "source": [
      "----------"
     ]
    },
    {
     "cell_type": "heading",
     "level": 5,
     "metadata": {},
     "source": [
      "What we have learned"
     ]
    },
    {
     "cell_type": "markdown",
     "metadata": {},
     "source": [
      "To finish this section, here is an overview of the concepts you have learned. Go through the list and make sure you can use all these concepts a sentence that is meaningful to yourself.\n",
      "\n",
      "-  difference between variable names and strings\n",
      "-  string concatenation\n",
      "-  indices (both positive and negative)\n",
      "-  indices start at zero\n",
      "-  slicing"
     ]
    },
    {
     "cell_type": "markdown",
     "metadata": {},
     "source": [
      "-------"
     ]
    },
    {
     "cell_type": "heading",
     "level": 2,
     "metadata": {},
     "source": [
      "Lists"
     ]
    },
    {
     "cell_type": "markdown",
     "metadata": {},
     "source": [
      "Consider the sentence below:"
     ]
    },
    {
     "cell_type": "code",
     "collapsed": false,
     "input": [
      "sentence = \"In principio erat verbum et verbum erat apud deum.\""
     ],
     "language": "python",
     "metadata": {
      "cellView": null,
      "executionInfo": {
       "content": {
        "execution_count": 1,
        "payload": [],
        "status": "ok",
        "user_expressions": {},
        "user_variables": {}
       },
       "timestamp": 1409743371413,
       "user": {
        "color": "#1FA15D",
        "displayName": "Mike Kestemont",
        "isAnonymous": false,
        "isMe": true,
        "photoUrl": "//lh6.googleusercontent.com/-3374Y0epqzU/AAAAAAAAAAI/AAAAAAAAACo/ib8UdQ_Hj5g/s50-c-k-no/photo.jpg",
        "sessionId": "9995025c33e4e92",
        "userId": "101039039618129443264"
       },
       "user_tz": -120
      }
     },
     "outputs": []
    },
    {
     "cell_type": "markdown",
     "metadata": {},
     "source": [
      "Words are made up of characters, and so are string objects in Python. As we will see, it is always to be prefered to represent our data as naturally as possible. Now for the sentence above, it seems more natural to describe it in terms of words than in terms of characters. Say we want to access the first word in our sentence. If we type in:"
     ]
    },
    {
     "cell_type": "code",
     "collapsed": false,
     "input": [
      "first_word = sentence[0]\n",
      "print(first_word)"
     ],
     "language": "python",
     "metadata": {
      "cellView": null,
      "executionInfo": {
       "content": {
        "execution_count": 2,
        "payload": [],
        "status": "ok",
        "user_expressions": {},
        "user_variables": {}
       },
       "timestamp": 1409743372867,
       "user": {
        "color": "#1FA15D",
        "displayName": "Mike Kestemont",
        "isAnonymous": false,
        "isMe": true,
        "photoUrl": "//lh6.googleusercontent.com/-3374Y0epqzU/AAAAAAAAAAI/AAAAAAAAACo/ib8UdQ_Hj5g/s50-c-k-no/photo.jpg",
        "sessionId": "9995025c33e4e92",
        "userId": "101039039618129443264"
       },
       "user_tz": -120
      }
     },
     "outputs": []
    },
    {
     "cell_type": "markdown",
     "metadata": {},
     "source": [
      "Python only prints the first letter of our sentence. (Think about this if you do not understand why.) We can transform our sentence into a `list` of words (represented by strings) using the `split()` function as follows: "
     ]
    },
    {
     "cell_type": "code",
     "collapsed": false,
     "input": [
      "words = sentence.split()\n",
      "print(words)"
     ],
     "language": "python",
     "metadata": {
      "cellView": null,
      "executionInfo": {
       "content": {
        "execution_count": 3,
        "payload": [],
        "status": "ok",
        "user_expressions": {},
        "user_variables": {}
       },
       "timestamp": 1409743374590,
       "user": {
        "color": "#1FA15D",
        "displayName": "Mike Kestemont",
        "isAnonymous": false,
        "isMe": true,
        "photoUrl": "//lh6.googleusercontent.com/-3374Y0epqzU/AAAAAAAAAAI/AAAAAAAAACo/ib8UdQ_Hj5g/s50-c-k-no/photo.jpg",
        "sessionId": "9995025c33e4e92",
        "userId": "101039039618129443264"
       },
       "user_tz": -120
      }
     },
     "outputs": []
    },
    {
     "cell_type": "markdown",
     "metadata": {},
     "source": [
      "By issuing the function split on our sentence, Python splits the sentence on white space and returns a list of words. Make sure that you understand the syntax of this code! We call things like split() 'functions': functions provide small pieces of helpful, ready-made functionality that we can use in our own code. Here, we apply the split() function to the variable sentence and we assign the result of the function (we call this the 'return value' of the function) to the new variable words.\n",
      "\n",
      "In many ways a list functions like a string. We can access all of its components using indices and we can use slice indices to access parts of the list."
     ]
    },
    {
     "cell_type": "markdown",
     "metadata": {},
     "source": [
      "--------"
     ]
    },
    {
     "cell_type": "heading",
     "level": 4,
     "metadata": {},
     "source": [
      "Code!"
     ]
    },
    {
     "cell_type": "markdown",
     "metadata": {},
     "source": [
      "Write a small program that defines a variable `first_word` and assign to it the first word of our word list. Play around a little with the indexes to see if you really understand how it works."
     ]
    },
    {
     "cell_type": "code",
     "collapsed": false,
     "input": [
      "first_word = # insert your code here\n",
      "print(first_word)"
     ],
     "language": "python",
     "metadata": {
      "cellView": null,
      "executionInfo": null
     },
     "outputs": []
    },
    {
     "cell_type": "markdown",
     "metadata": {},
     "source": [
      "---------------"
     ]
    },
    {
     "cell_type": "markdown",
     "metadata": {},
     "source": [
      "A `list` acts like a container where we can store all kinds of information. We can access a list using indexes and slices. We can also add new items to a list. For that you use the method `append`. Let's see how that works. Say we want to create a digital repository for the Bodleian Library. We start with an empty list and we will add some of the Bodleian's famous books to it:"
     ]
    },
    {
     "cell_type": "code",
     "collapsed": false,
     "input": [
      "#start with an empty list\n",
      "bodleian_library = []\n",
      "bodleian_library.append(\"Holy Bible, printed by J. Gotenberg\")\n",
      "bodleian_library.append(\"The Second Book of Aristotle's Poetics\")\n",
      "bodleian_library.append(\"Plays, written by W. Shakespeare\")\n",
      "bodleian_library.append(\"The Canterbury Tales, composed by G. Chaucer\")\n",
      "print(bodleian_library)"
     ],
     "language": "python",
     "metadata": {
      "cellView": null,
      "executionInfo": {
       "content": {
        "execution_count": 24,
        "payload": [],
        "status": "ok",
        "user_expressions": {},
        "user_variables": {}
       },
       "timestamp": 1409742931092,
       "user": {
        "color": "#1FA15D",
        "displayName": "Folgert Karsdorp",
        "isAnonymous": false,
        "isMe": true,
        "photoUrl": "//lh3.googleusercontent.com/-lb0qxz6lI7w/AAAAAAAAAAI/AAAAAAAAAGs/JDB7GjziTs0/s50-c-k-no/photo.jpg",
        "sessionId": "662c575220e0b45",
        "userId": "111825463060259982027"
       },
       "user_tz": -120
      }
     },
     "outputs": []
    },
    {
     "cell_type": "markdown",
     "metadata": {},
     "source": [
      "You have probably already noticed a typo in one of the books' titles. We replace this title with the correct one, using the index corresponding to the book: "
     ]
    },
    {
     "cell_type": "code",
     "collapsed": false,
     "input": [
      "bodleian_library[0] = \"The Holy Bible, printed by J. Gutenberg\"\n",
      "print(bodleian_library)"
     ],
     "language": "python",
     "metadata": {
      "cellView": null,
      "executionInfo": {
       "content": {
        "execution_count": 25,
        "payload": [],
        "status": "ok",
        "user_expressions": {},
        "user_variables": {}
       },
       "timestamp": 1409742934145,
       "user": {
        "color": "#1FA15D",
        "displayName": "Folgert Karsdorp",
        "isAnonymous": false,
        "isMe": true,
        "photoUrl": "//lh3.googleusercontent.com/-lb0qxz6lI7w/AAAAAAAAAAI/AAAAAAAAAGs/JDB7GjziTs0/s50-c-k-no/photo.jpg",
        "sessionId": "662c575220e0b45",
        "userId": "111825463060259982027"
       },
       "user_tz": -120
      }
     },
     "outputs": []
    },
    {
     "cell_type": "markdown",
     "metadata": {},
     "source": [
      "--------"
     ]
    },
    {
     "cell_type": "heading",
     "level": 4,
     "metadata": {},
     "source": [
      "Code!"
     ]
    },
    {
     "cell_type": "markdown",
     "metadata": {},
     "source": [
      "Try to change the title of the second book in the Bodleian Library:"
     ]
    },
    {
     "cell_type": "code",
     "collapsed": false,
     "input": [
      "# insert your code here\n",
      "\n",
      "print(bodleian_library)"
     ],
     "language": "python",
     "metadata": {
      "cellView": null,
      "executionInfo": {
       "content": {
        "execution_count": 18,
        "payload": [],
        "status": "ok",
        "user_expressions": {},
        "user_variables": {}
       },
       "timestamp": 1409576331765,
       "user": {
        "color": "#1FA15D",
        "displayName": "Folgert Karsdorp",
        "isAnonymous": false,
        "isMe": true,
        "photoUrl": "//lh3.googleusercontent.com/-lb0qxz6lI7w/AAAAAAAAAAI/AAAAAAAAAGs/JDB7GjziTs0/s50-c-k-no/photo.jpg",
        "sessionId": "266a6a540a9b238c",
        "userId": "111825463060259982027"
       },
       "user_tz": -120
      }
     },
     "outputs": []
    },
    {
     "cell_type": "markdown",
     "metadata": {},
     "source": [
      "-----------"
     ]
    },
    {
     "cell_type": "markdown",
     "metadata": {},
     "source": [
      "We just changed one element in a list. Note that if you do the same thing for a string, you will get an error:"
     ]
    },
    {
     "cell_type": "code",
     "collapsed": false,
     "input": [
      "name = \"Gotenberg\"\n",
      "name[2] = \"u\""
     ],
     "language": "python",
     "metadata": {
      "cellView": null,
      "executionInfo": {
       "content": {
        "execution_count": 26,
        "payload": [],
        "status": "ok",
        "user_expressions": {},
        "user_variables": {}
       },
       "timestamp": 1409742938081,
       "user": {
        "color": "#1FA15D",
        "displayName": "Folgert Karsdorp",
        "isAnonymous": false,
        "isMe": true,
        "photoUrl": "//lh3.googleusercontent.com/-lb0qxz6lI7w/AAAAAAAAAAI/AAAAAAAAAGs/JDB7GjziTs0/s50-c-k-no/photo.jpg",
        "sessionId": "662c575220e0b45",
        "userId": "111825463060259982027"
       },
       "user_tz": -120
      }
     },
     "outputs": []
    },
    {
     "cell_type": "markdown",
     "metadata": {},
     "source": [
      "Python raises a `TypeError` here, because `strings` (and some other types) are an *immutable* type of variables. That is, strings cannot be changed, as opposed to `lists` which *are* mutable. Let's explore some other ways in which we can alter lists."
     ]
    },
    {
     "cell_type": "heading",
     "level": 4,
     "metadata": {},
     "source": [
      "remove()"
     ]
    },
    {
     "cell_type": "markdown",
     "metadata": {},
     "source": [
      "Let us first define list that contains some of the books in Bodleian Library. We can use the following syntax to initialize a list of strings from scratch:"
     ]
    },
    {
     "cell_type": "code",
     "collapsed": false,
     "input": [
      "bodleian_library = [\"The Second Book of Aristotle's Poetics\", \n",
      "                    \"Plays, written by William Shakespeare\", \n",
      "                    \"The Canterbury Tales, composed by Geoffrey Chaucer\",\n",
      "                    \"The Holy Bible, printed by Johannes Gotenberg\"]"
     ],
     "language": "python",
     "metadata": {
      "cellView": null,
      "executionInfo": {
       "content": {
        "execution_count": 27,
        "payload": [],
        "status": "ok",
        "user_expressions": {},
        "user_variables": {}
       },
       "timestamp": 1409742941521,
       "user": {
        "color": "#1FA15D",
        "displayName": "Folgert Karsdorp",
        "isAnonymous": false,
        "isMe": true,
        "photoUrl": "//lh3.googleusercontent.com/-lb0qxz6lI7w/AAAAAAAAAAI/AAAAAAAAAGs/JDB7GjziTs0/s50-c-k-no/photo.jpg",
        "sessionId": "662c575220e0b45",
        "userId": "111825463060259982027"
       },
       "user_tz": -120
      }
     },
     "outputs": []
    },
    {
     "cell_type": "markdown",
     "metadata": {},
     "source": [
      "Suppose that we, as vigilant librarians, have noticed that one of our books got lost and that we wish to remove it from our list. Python provides the method `remove` that acts upon a list and takes as its argument the item we would like to remove. "
     ]
    },
    {
     "cell_type": "code",
     "collapsed": false,
     "input": [
      "print(bodleian_library)\n",
      "bodleian_library.remove(\"The Second Book of Aristotle's Poetics\")\n",
      "print(bodleian_library)"
     ],
     "language": "python",
     "metadata": {
      "cellView": null,
      "executionInfo": {
       "content": {
        "execution_count": 28,
        "payload": [],
        "status": "ok",
        "user_expressions": {},
        "user_variables": {}
       },
       "timestamp": 1409742942995,
       "user": {
        "color": "#1FA15D",
        "displayName": "Folgert Karsdorp",
        "isAnonymous": false,
        "isMe": true,
        "photoUrl": "//lh3.googleusercontent.com/-lb0qxz6lI7w/AAAAAAAAAAI/AAAAAAAAAGs/JDB7GjziTs0/s50-c-k-no/photo.jpg",
        "sessionId": "662c575220e0b45",
        "userId": "111825463060259982027"
       },
       "user_tz": -120
      }
     },
     "outputs": []
    },
    {
     "cell_type": "markdown",
     "metadata": {},
     "source": [
      "If we try to remove a title that is not in our list, Python raises a ValueError. (By the way, don't be afraid to have Python raise errors: this won't break your computer.)"
     ]
    },
    {
     "cell_type": "code",
     "collapsed": false,
     "input": [
      "bodleian_library.remove(\"Fifty Shades of Grey, by E.L. James\")"
     ],
     "language": "python",
     "metadata": {
      "cellView": null,
      "executionInfo": {
       "content": {
        "execution_count": 29,
        "payload": [],
        "status": "ok",
        "user_expressions": {},
        "user_variables": {}
       },
       "timestamp": 1409742955261,
       "user": {
        "color": "#1FA15D",
        "displayName": "Folgert Karsdorp",
        "isAnonymous": false,
        "isMe": true,
        "photoUrl": "//lh3.googleusercontent.com/-lb0qxz6lI7w/AAAAAAAAAAI/AAAAAAAAAGs/JDB7GjziTs0/s50-c-k-no/photo.jpg",
        "sessionId": "662c575220e0b45",
        "userId": "111825463060259982027"
       },
       "user_tz": -120
      }
     },
     "outputs": []
    },
    {
     "cell_type": "markdown",
     "metadata": {},
     "source": [
      "--------"
     ]
    },
    {
     "cell_type": "heading",
     "level": 4,
     "metadata": {},
     "source": [
      "Code!"
     ]
    },
    {
     "cell_type": "markdown",
     "metadata": {},
     "source": [
      "Define a variable `good_reads` as an empty list. Now add some of your favorite books to it (at least three) and print the last two books you added. "
     ]
    },
    {
     "cell_type": "code",
     "collapsed": false,
     "input": [
      "# insert your code here\n",
      "good_reads = []"
     ],
     "language": "python",
     "metadata": {
      "cellView": null,
      "executionInfo": {
       "content": {
        "execution_count": 22,
        "payload": [],
        "status": "ok",
        "user_expressions": {},
        "user_variables": {}
       },
       "timestamp": 1409577566005,
       "user": {
        "color": "#1FA15D",
        "displayName": "Folgert Karsdorp",
        "isAnonymous": false,
        "isMe": true,
        "photoUrl": "//lh3.googleusercontent.com/-lb0qxz6lI7w/AAAAAAAAAAI/AAAAAAAAAGs/JDB7GjziTs0/s50-c-k-no/photo.jpg",
        "sessionId": "266a6a540a9b238c",
        "userId": "111825463060259982027"
       },
       "user_tz": -120
      }
     },
     "outputs": []
    },
    {
     "cell_type": "markdown",
     "metadata": {},
     "source": [
      "------"
     ]
    },
    {
     "cell_type": "markdown",
     "metadata": {},
     "source": [
      "Just as with strings, we can concatenate two lists. Here is an example:"
     ]
    },
    {
     "cell_type": "code",
     "collapsed": false,
     "input": [
      "expanded_library = bodleian_library + good_reads\n",
      "print(expanded_library)"
     ],
     "language": "python",
     "metadata": {
      "cellView": null,
      "executionInfo": {
       "content": {
        "execution_count": 30,
        "payload": [],
        "status": "ok",
        "user_expressions": {},
        "user_variables": {}
       },
       "timestamp": 1409742971732,
       "user": {
        "color": "#1FA15D",
        "displayName": "Folgert Karsdorp",
        "isAnonymous": false,
        "isMe": true,
        "photoUrl": "//lh3.googleusercontent.com/-lb0qxz6lI7w/AAAAAAAAAAI/AAAAAAAAAGs/JDB7GjziTs0/s50-c-k-no/photo.jpg",
        "sessionId": "662c575220e0b45",
        "userId": "111825463060259982027"
       },
       "user_tz": -120
      }
     },
     "outputs": []
    },
    {
     "cell_type": "heading",
     "level": 4,
     "metadata": {},
     "source": [
      "sort()"
     ]
    },
    {
     "cell_type": "markdown",
     "metadata": {},
     "source": [
      "It is always nice to organise the titles in your library. We can sort the titles in the Bodleian collection as follows:"
     ]
    },
    {
     "cell_type": "code",
     "collapsed": false,
     "input": [
      "bodleian_library.sort()\n",
      "print(bodleian_library)"
     ],
     "language": "python",
     "metadata": {
      "cellView": null,
      "executionInfo": {
       "content": {
        "execution_count": 31,
        "payload": [],
        "status": "ok",
        "user_expressions": {},
        "user_variables": {}
       },
       "timestamp": 1409742975136,
       "user": {
        "color": "#1FA15D",
        "displayName": "Folgert Karsdorp",
        "isAnonymous": false,
        "isMe": true,
        "photoUrl": "//lh3.googleusercontent.com/-lb0qxz6lI7w/AAAAAAAAAAI/AAAAAAAAAGs/JDB7GjziTs0/s50-c-k-no/photo.jpg",
        "sessionId": "662c575220e0b45",
        "userId": "111825463060259982027"
       },
       "user_tz": -120
      }
     },
     "outputs": []
    },
    {
     "cell_type": "heading",
     "level": 4,
     "metadata": {},
     "source": [
      "nested lists"
     ]
    },
    {
     "cell_type": "markdown",
     "metadata": {},
     "source": [
      "Up to this point, our lists only have consisted of strings. However, a list can contain all kinds of data types, such as integers and even lists! Do you understand what is happening in the following example?"
     ]
    },
    {
     "cell_type": "code",
     "collapsed": false,
     "input": [
      "nested_list = [[1, 2, 3, 4], [5, 6, 7, 8]]\n",
      "print(nested_list[0])\n",
      "print(nested_list[0][0])"
     ],
     "language": "python",
     "metadata": {
      "cellView": null,
      "executionInfo": {
       "content": {
        "execution_count": 32,
        "payload": [],
        "status": "ok",
        "user_expressions": {},
        "user_variables": {}
       },
       "timestamp": 1409742980819,
       "user": {
        "color": "#1FA15D",
        "displayName": "Folgert Karsdorp",
        "isAnonymous": false,
        "isMe": true,
        "photoUrl": "//lh3.googleusercontent.com/-lb0qxz6lI7w/AAAAAAAAAAI/AAAAAAAAAGs/JDB7GjziTs0/s50-c-k-no/photo.jpg",
        "sessionId": "662c575220e0b45",
        "userId": "111825463060259982027"
       },
       "user_tz": -120
      }
     },
     "outputs": []
    },
    {
     "cell_type": "markdown",
     "metadata": {},
     "source": [
      "Here, we initialize the variable `nested_list` as a list of lists! We can put this data structure to good use for our library collection with a shelfmark for every manuscript which we have. The first element of each item in our list will be a shelfmark; the second the manuscript's title: `[shelfmark, title]`. We initialize an empty list:"
     ]
    },
    {
     "cell_type": "code",
     "collapsed": false,
     "input": [
      "bodleian_library = []"
     ],
     "language": "python",
     "metadata": {
      "cellView": null,
      "executionInfo": {
       "content": {
        "execution_count": 33,
        "payload": [],
        "status": "ok",
        "user_expressions": {},
        "user_variables": {}
       },
       "timestamp": 1409742982588,
       "user": {
        "color": "#1FA15D",
        "displayName": "Folgert Karsdorp",
        "isAnonymous": false,
        "isMe": true,
        "photoUrl": "//lh3.googleusercontent.com/-lb0qxz6lI7w/AAAAAAAAAAI/AAAAAAAAAGs/JDB7GjziTs0/s50-c-k-no/photo.jpg",
        "sessionId": "662c575220e0b45",
        "userId": "111825463060259982027"
       },
       "user_tz": -120
      }
     },
     "outputs": []
    },
    {
     "cell_type": "markdown",
     "metadata": {},
     "source": [
      "And add two books to it:"
     ]
    },
    {
     "cell_type": "code",
     "collapsed": false,
     "input": [
      "bodleian_library.append([\"Arch.G.g.8\", \"Plays, by W. Shakespeare\"])\n",
      "bodleian_library.append([\"MS.Arch.Selden.B.10\", \"The Canterbury Tales, composed by G. Chaucer\"])\n",
      "print(bodleian_library)"
     ],
     "language": "python",
     "metadata": {
      "cellView": null,
      "executionInfo": {
       "content": {
        "execution_count": 34,
        "payload": [],
        "status": "ok",
        "user_expressions": {},
        "user_variables": {}
       },
       "timestamp": 1409742983782,
       "user": {
        "color": "#1FA15D",
        "displayName": "Folgert Karsdorp",
        "isAnonymous": false,
        "isMe": true,
        "photoUrl": "//lh3.googleusercontent.com/-lb0qxz6lI7w/AAAAAAAAAAI/AAAAAAAAAGs/JDB7GjziTs0/s50-c-k-no/photo.jpg",
        "sessionId": "662c575220e0b45",
        "userId": "111825463060259982027"
       },
       "user_tz": -120
      }
     },
     "outputs": []
    },
    {
     "cell_type": "markdown",
     "metadata": {},
     "source": [
      "---------"
     ]
    },
    {
     "cell_type": "heading",
     "level": 4,
     "metadata": {},
     "source": [
      "Code!"
     ]
    },
    {
     "cell_type": "markdown",
     "metadata": {},
     "source": [
      "Visit the website of the [Bodleian Library](http://www.bodleian.ox.ac.uk/bodley). Update the list `bodleian_library` with some new books and corresponding shelfmarks. Can you print out the shelfmark you gave to the first book in the list? (Tip: you can pile up indexes, like with `nested_list` in the code block above.)"
     ]
    },
    {
     "cell_type": "code",
     "collapsed": false,
     "input": [
      "# insert your code here\n"
     ],
     "language": "python",
     "metadata": {
      "cellView": null,
      "executionInfo": {
       "content": {
        "execution_count": 51,
        "payload": [],
        "status": "ok",
        "user_expressions": {},
        "user_variables": {}
       },
       "timestamp": 1409578624216,
       "user": {
        "color": "#1FA15D",
        "displayName": "Mike Kestemont",
        "isAnonymous": false,
        "isMe": true,
        "photoUrl": "//lh6.googleusercontent.com/-3374Y0epqzU/AAAAAAAAAAI/AAAAAAAAACo/ib8UdQ_Hj5g/s50-c-k-no/photo.jpg",
        "sessionId": "24d749d56f8f578f",
        "userId": "101039039618129443264"
       },
       "user_tz": -120
      }
     },
     "outputs": []
    },
    {
     "cell_type": "markdown",
     "metadata": {},
     "source": [
      "-----------"
     ]
    },
    {
     "cell_type": "heading",
     "level": 5,
     "metadata": {},
     "source": [
      "What we have learnt"
     ]
    },
    {
     "cell_type": "markdown",
     "metadata": {},
     "source": [
      "To finish this section, here is an overview of the new concepts and functions you have learnt. Go through them and make sure you understand them all.\n",
      "\n",
      "-  list\n",
      "-  *mutable* versus *immutable*\n",
      "-  `.split()`\n",
      "-  `.append()`\n",
      "-  `.remove()`\n",
      "-  `.sort()`\n",
      "-  nested lists"
     ]
    },
    {
     "cell_type": "markdown",
     "metadata": {},
     "source": [
      "-------------"
     ]
    },
    {
     "cell_type": "heading",
     "level": 2,
     "metadata": {},
     "source": [
      "Dictionaries"
     ]
    },
    {
     "cell_type": "markdown",
     "metadata": {},
     "source": [
      "Our Python version of the Bodleian Library is starting to look good, but perhaps we can make better use of the selfmarks that we have for each manuscript. Imagine that our list of manuscripts has become extremely large. How might we be able to quickly retrieve the shelfmark of a particular manuscript which are interested in? For this kind of situation in which we would like to look up things, Python provides another more appropriate data structure, namely a  `dictionary`. A `dictionary` is similar to the dictionaries you have at home. It consists of entries, or keys, that hold a value. Let's define one:"
     ]
    },
    {
     "cell_type": "code",
     "collapsed": false,
     "input": [
      "# opzoeken definities\n",
      "\n",
      "my_dict = {\"romanticism\": \"Eighteenth century artistic and intellectual movement\",\n",
      "           \"gothic fiction\": \"Genre of literature combining fiction, horror and Romanticism\",\n",
      "           \"naturalism\": \"Literary movement (1880s to 1940s). Uses detailed realism\"}"
     ],
     "language": "python",
     "metadata": {
      "cellView": null,
      "executionInfo": {
       "content": {
        "execution_count": 53,
        "payload": [],
        "status": "ok",
        "user_expressions": {},
        "user_variables": {}
       },
       "timestamp": 1409743609455,
       "user": {
        "color": "#1FA15D",
        "displayName": "Folgert Karsdorp",
        "isAnonymous": false,
        "isMe": true,
        "photoUrl": "//lh3.googleusercontent.com/-lb0qxz6lI7w/AAAAAAAAAAI/AAAAAAAAAGs/JDB7GjziTs0/s50-c-k-no/photo.jpg",
        "sessionId": "662c575220e0b45",
        "userId": "111825463060259982027"
       },
       "user_tz": -120
      }
     },
     "outputs": []
    },
    {
     "cell_type": "markdown",
     "metadata": {},
     "source": [
      "Take a close look at the new syntax, especially the curly brackets (`{}`) and the colons (`:`). The keys of a dictionary are located at the left side of the colon; values at the right side. To look up the value of a given key, we 'index' the dictionary using a key between square brackets, like with lists, only this time we use a string instead of a number:"
     ]
    },
    {
     "cell_type": "code",
     "collapsed": false,
     "input": [
      "definition = my_dict[\"naturalism\"]\n",
      "print(definition)"
     ],
     "language": "python",
     "metadata": {
      "cellView": null,
      "executionInfo": {
       "content": {
        "execution_count": 54,
        "payload": [],
        "status": "ok",
        "user_expressions": {},
        "user_variables": {}
       },
       "timestamp": 1409743612746,
       "user": {
        "color": "#1FA15D",
        "displayName": "Folgert Karsdorp",
        "isAnonymous": false,
        "isMe": true,
        "photoUrl": "//lh3.googleusercontent.com/-lb0qxz6lI7w/AAAAAAAAAAI/AAAAAAAAAGs/JDB7GjziTs0/s50-c-k-no/photo.jpg",
        "sessionId": "662c575220e0b45",
        "userId": "111825463060259982027"
       },
       "user_tz": -120
      }
     },
     "outputs": []
    },
    {
     "cell_type": "markdown",
     "metadata": {},
     "source": [
      "We say 'index', because we use the same syntax with square brackets when indexing lists or strings. The differences is that we don't use a position number to index a dictionary, but a key. Like lists, dictionaries are mutable which means we can add and remove entries from it. Let's define an empty dictionary (using empty square brackets) and add some books to it. The manuscripts' names will be our keys and their shelfmarks their values. Watch the syntax to add a new entry:"
     ]
    },
    {
     "cell_type": "code",
     "collapsed": false,
     "input": [
      "bodleian_library = {}\n",
      "bodleian_library[\"Plays, by W. Shakespeare\"] = \"Arch.G.g.8\"\n",
      "bodleian_library[\"The Canterbury Tales, composed by G. Chaucer\"] = \"MS.Arch.Selden.B.10\"\n",
      "\n",
      "print(bodleian_library[\"The Canterbury Tales, composed by G. Chaucer\"])"
     ],
     "language": "python",
     "metadata": {
      "cellView": null,
      "executionInfo": {
       "content": {
        "execution_count": 1,
        "payload": [],
        "status": "ok",
        "user_expressions": {},
        "user_variables": {}
       },
       "timestamp": 1409744639461,
       "user": {
        "color": "#1FA15D",
        "displayName": "Mike Kestemont",
        "isAnonymous": false,
        "isMe": true,
        "photoUrl": "//lh6.googleusercontent.com/-3374Y0epqzU/AAAAAAAAAAI/AAAAAAAAACo/ib8UdQ_Hj5g/s50-c-k-no/photo.jpg",
        "sessionId": "2ea14d6f7f360f73",
        "userId": "101039039618129443264"
       },
       "user_tz": -120
      }
     },
     "outputs": []
    },
    {
     "cell_type": "markdown",
     "metadata": {},
     "source": [
      "In a way this is similar to what we have seen before when we altered our book `list`. There we indexed the list using a integer to access a particular book. Here we directly use the title of the book. Can you imagine why this is so useful?"
     ]
    },
    {
     "cell_type": "markdown",
     "metadata": {},
     "source": [
      "--------"
     ]
    },
    {
     "cell_type": "heading",
     "level": 4,
     "metadata": {},
     "source": [
      "Code!"
     ]
    },
    {
     "cell_type": "markdown",
     "metadata": {},
     "source": [
      "Update the new data structure with some other books in the Bodleian Library. Try to print out the shelfmark corresponding to one of the books."
     ]
    },
    {
     "cell_type": "code",
     "collapsed": false,
     "input": [
      "# insert your code here\n"
     ],
     "language": "python",
     "metadata": {
      "cellView": null,
      "executionInfo": null
     },
     "outputs": []
    },
    {
     "cell_type": "markdown",
     "metadata": {},
     "source": [
      "----------"
     ]
    },
    {
     "cell_type": "heading",
     "level": 4,
     "metadata": {},
     "source": [
      "keys(), values()"
     ]
    },
    {
     "cell_type": "markdown",
     "metadata": {},
     "source": [
      "To retrieve a list of all the books we have in our collection, we can ask the dictionary to return its keys as a list:"
     ]
    },
    {
     "cell_type": "code",
     "collapsed": false,
     "input": [
      "bodleian_library.keys()"
     ],
     "language": "python",
     "metadata": {
      "cellView": null,
      "executionInfo": {
       "content": {
        "execution_count": 2,
        "payload": [],
        "status": "ok",
        "user_expressions": {},
        "user_variables": {}
       },
       "timestamp": 1409744642543,
       "user": {
        "color": "#1FA15D",
        "displayName": "Mike Kestemont",
        "isAnonymous": false,
        "isMe": true,
        "photoUrl": "//lh6.googleusercontent.com/-3374Y0epqzU/AAAAAAAAAAI/AAAAAAAAACo/ib8UdQ_Hj5g/s50-c-k-no/photo.jpg",
        "sessionId": "2ea14d6f7f360f73",
        "userId": "101039039618129443264"
       },
       "user_tz": -120
      }
     },
     "outputs": []
    },
    {
     "cell_type": "markdown",
     "metadata": {},
     "source": [
      "Similarly we can ask for the values:"
     ]
    },
    {
     "cell_type": "code",
     "collapsed": false,
     "input": [
      "bodleian_library.values()"
     ],
     "language": "python",
     "metadata": {
      "cellView": null,
      "executionInfo": {
       "content": {
        "execution_count": 3,
        "payload": [],
        "status": "ok",
        "user_expressions": {},
        "user_variables": {}
       },
       "timestamp": 1409744646819,
       "user": {
        "color": "#1FA15D",
        "displayName": "Mike Kestemont",
        "isAnonymous": false,
        "isMe": true,
        "photoUrl": "//lh6.googleusercontent.com/-3374Y0epqzU/AAAAAAAAAAI/AAAAAAAAACo/ib8UdQ_Hj5g/s50-c-k-no/photo.jpg",
        "sessionId": "2ea14d6f7f360f73",
        "userId": "101039039618129443264"
       },
       "user_tz": -120
      }
     },
     "outputs": []
    },
    {
     "cell_type": "markdown",
     "metadata": {},
     "source": [
      "---------"
     ]
    },
    {
     "cell_type": "heading",
     "level": 5,
     "metadata": {},
     "source": [
      "What we have learnt"
     ]
    },
    {
     "cell_type": "markdown",
     "metadata": {},
     "source": [
      "To finish this section, here is an overview of the new concepts and functions you have learnt. Make sure you understand them all.\n",
      "\n",
      "-  dictionary\n",
      "-  indexing or accessing keys of dictionaries\n",
      "-  adding items to a dictionary\n",
      "-  `.keys()`\n",
      "-  `.values()`"
     ]
    },
    {
     "cell_type": "markdown",
     "metadata": {},
     "source": [
      "--------"
     ]
    },
    {
     "cell_type": "heading",
     "level": 2,
     "metadata": {},
     "source": [
      "Conditions"
     ]
    },
    {
     "cell_type": "markdown",
     "metadata": {},
     "source": [
      "A lot of programming has to do with executing a certain piece of code if a particular condition holds. For example, in a digital library system we might want to present different messages to a user depending on whether the book she or he is looking for is available.\n",
      "\n",
      "The dictionary is a much better data structure for our digital library. However, even with dictionaries we might forget which books are part of the collection. What happens if we try to lookup the shelfmark of a book that is not in the collection:"
     ]
    },
    {
     "cell_type": "code",
     "collapsed": false,
     "input": [
      "print(bodleian_library[\"Fifty Shades of Grey, by E.L. James\"])"
     ],
     "language": "python",
     "metadata": {
      "cellView": null,
      "executionInfo": {
       "content": {
        "execution_count": 41,
        "payload": [],
        "status": "ok",
        "user_expressions": {},
        "user_variables": {}
       },
       "timestamp": 1409743017998,
       "user": {
        "color": "#1FA15D",
        "displayName": "Folgert Karsdorp",
        "isAnonymous": false,
        "isMe": true,
        "photoUrl": "//lh3.googleusercontent.com/-lb0qxz6lI7w/AAAAAAAAAAI/AAAAAAAAAGs/JDB7GjziTs0/s50-c-k-no/photo.jpg",
        "sessionId": "662c575220e0b45",
        "userId": "111825463060259982027"
       },
       "user_tz": -120
      }
     },
     "outputs": []
    },
    {
     "cell_type": "markdown",
     "metadata": {},
     "source": [
      "We get an error. A `KeyError`, which basically means \"the key you asked me to look up is not in the dictionary\". We will learn a lot more about error handling later. We would like to prevent our program from giving an error. Let's write a small program that prints \"*X* is in the collection\" if a particular book *X* is in the collection and \"*X* is NOT in the collection\" if it is not."
     ]
    },
    {
     "cell_type": "code",
     "collapsed": false,
     "input": [
      "book = \"Fifty Shades of Grey, by E.L. James\"\n",
      "\n",
      "if book in bodleian_library:\n",
      "    print(book + \" is in the library\")\n",
      "else:\n",
      "    print(book + \" is NOT in the collection\")"
     ],
     "language": "python",
     "metadata": {
      "cellView": null,
      "executionInfo": {
       "content": {
        "execution_count": 42,
        "payload": [],
        "status": "ok",
        "user_expressions": {},
        "user_variables": {}
       },
       "timestamp": 1409743021383,
       "user": {
        "color": "#1FA15D",
        "displayName": "Folgert Karsdorp",
        "isAnonymous": false,
        "isMe": true,
        "photoUrl": "//lh3.googleusercontent.com/-lb0qxz6lI7w/AAAAAAAAAAI/AAAAAAAAAGs/JDB7GjziTs0/s50-c-k-no/photo.jpg",
        "sessionId": "662c575220e0b45",
        "userId": "111825463060259982027"
       },
       "user_tz": -120
      }
     },
     "outputs": []
    },
    {
     "cell_type": "markdown",
     "metadata": {},
     "source": [
      "A lot of new syntax here. Let's go through it line by line. First we ask if the value we assigned to `book` is in our collection. The part after `if` evaluates to either `True` or to `False`. Let's type that in:"
     ]
    },
    {
     "cell_type": "code",
     "collapsed": false,
     "input": [
      "print(book in bodleian_library)"
     ],
     "language": "python",
     "metadata": {
      "cellView": null,
      "executionInfo": {
       "content": {
        "execution_count": 43,
        "payload": [],
        "status": "ok",
        "user_expressions": {},
        "user_variables": {}
       },
       "timestamp": 1409743026373,
       "user": {
        "color": "#1FA15D",
        "displayName": "Folgert Karsdorp",
        "isAnonymous": false,
        "isMe": true,
        "photoUrl": "//lh3.googleusercontent.com/-lb0qxz6lI7w/AAAAAAAAAAI/AAAAAAAAAGs/JDB7GjziTs0/s50-c-k-no/photo.jpg",
        "sessionId": "662c575220e0b45",
        "userId": "111825463060259982027"
       },
       "user_tz": -120
      }
     },
     "outputs": []
    },
    {
     "cell_type": "markdown",
     "metadata": {},
     "source": [
      "Because our book is not in the collection, Python returns `False`. Let's do the same thing for a book that we know is in the collection:"
     ]
    },
    {
     "cell_type": "code",
     "collapsed": false,
     "input": [
      "book = \"Plays, by W. Shakespeare\"\n",
      "print(book in bodleian_library)"
     ],
     "language": "python",
     "metadata": {
      "cellView": null,
      "executionInfo": {
       "content": {
        "execution_count": 44,
        "payload": [],
        "status": "ok",
        "user_expressions": {},
        "user_variables": {}
       },
       "timestamp": 1409743031244,
       "user": {
        "color": "#1FA15D",
        "displayName": "Folgert Karsdorp",
        "isAnonymous": false,
        "isMe": true,
        "photoUrl": "//lh3.googleusercontent.com/-lb0qxz6lI7w/AAAAAAAAAAI/AAAAAAAAAGs/JDB7GjziTs0/s50-c-k-no/photo.jpg",
        "sessionId": "662c575220e0b45",
        "userId": "111825463060259982027"
       },
       "user_tz": -120
      }
     },
     "outputs": []
    },
    {
     "cell_type": "markdown",
     "metadata": {},
     "source": [
      "Indeed, it is in the collection. Back to our `if` statement. If the expression after the word `if` evaluates to `True` (e.g. `book in bodleian_library`), our program will go on to the next line and execute: `book + \" is in the collection\"`. Let's try that as well:"
     ]
    },
    {
     "cell_type": "code",
     "collapsed": false,
     "input": [
      "book = \"Plays, by W. Shakespeare\"\n",
      "\n",
      "if book in bodleian_library:\n",
      "    print(book + \" is in the library\")"
     ],
     "language": "python",
     "metadata": {
      "cellView": null,
      "executionInfo": {
       "content": {
        "execution_count": 45,
        "payload": [],
        "status": "ok",
        "user_expressions": {},
        "user_variables": {}
       },
       "timestamp": 1409743035009,
       "user": {
        "color": "#1FA15D",
        "displayName": "Folgert Karsdorp",
        "isAnonymous": false,
        "isMe": true,
        "photoUrl": "//lh3.googleusercontent.com/-lb0qxz6lI7w/AAAAAAAAAAI/AAAAAAAAAGs/JDB7GjziTs0/s50-c-k-no/photo.jpg",
        "sessionId": "662c575220e0b45",
        "userId": "111825463060259982027"
       },
       "user_tz": -120
      }
     },
     "outputs": []
    },
    {
     "cell_type": "code",
     "collapsed": false,
     "input": [
      "book = \"Fifty Shades of Grey, by E.L. James\"\n",
      "\n",
      "if book in bodleian_library:\n",
      "    print(book + \" is in the library\")"
     ],
     "language": "python",
     "metadata": {
      "cellView": null,
      "executionInfo": {
       "content": {
        "execution_count": 46,
        "payload": [],
        "status": "ok",
        "user_expressions": {},
        "user_variables": {}
       },
       "timestamp": 1409743044085,
       "user": {
        "color": "#1FA15D",
        "displayName": "Folgert Karsdorp",
        "isAnonymous": false,
        "isMe": true,
        "photoUrl": "//lh3.googleusercontent.com/-lb0qxz6lI7w/AAAAAAAAAAI/AAAAAAAAAGs/JDB7GjziTs0/s50-c-k-no/photo.jpg",
        "sessionId": "662c575220e0b45",
        "userId": "111825463060259982027"
       },
       "user_tz": -120
      }
     },
     "outputs": []
    },
    {
     "cell_type": "markdown",
     "metadata": {},
     "source": [
      "Notice that the print statement in the last code block is not executed. That is because the value we assigned to `book` is not in our collection and thus the part after `if` did not evaluate to `True`. \n",
      "\n",
      "In our small program above we used another statement besides `if`, namely `else`. It shouldn't be too hard to figure out what's going on here. The part after `else` will be executed if the `if` statement evaluated to `False`. In English: if the book is not in the collection, print that it is not."
     ]
    },
    {
     "cell_type": "heading",
     "level": 4,
     "metadata": {},
     "source": [
      "Indentation!"
     ]
    },
    {
     "cell_type": "markdown",
     "metadata": {},
     "source": [
      "Before we continue, we must first explain to you that the layout of our Python code is crucially important. Unlike other programming languages, Python does not make use of curly braces to mark the start and end of expressions. The only delimiter is a colon (`:`) and the indentation of the code. This indentation must be used consistently throughout your code. The convention is to use 4 spaces as indentation. This means that after you have used a colon (such as in our `if` statement) the next line should be indented by four spaces more than the previous line."
     ]
    },
    {
     "cell_type": "markdown",
     "metadata": {},
     "source": [
      "-------"
     ]
    },
    {
     "cell_type": "heading",
     "level": 3,
     "metadata": {},
     "source": [
      "and, or, not"
     ]
    },
    {
     "cell_type": "markdown",
     "metadata": {},
     "source": [
      "Up to this point, our conditions have consisted of single expresssions. However, quite often we would like to test for multiple conditions and then execute a particular piece of code. Python provides a number of ways to do that. The first is with the `and` statement. `and` allows us to juxtapose two expressions that need to be true in order to make the entire expression evaluate to `True`. Let's see how that works:"
     ]
    },
    {
     "cell_type": "code",
     "collapsed": false,
     "input": [
      "book_a = \"Plays, by W. Shakespeare\"\n",
      "book_b = \"The Canterbury Tales, composed by G. Chaucer\"\n",
      "\n",
      "if book_a in bodleian_library and book_b in bodleian_library:\n",
      "    print(\"Both \" + book_a + \" and \" + book_b + \" are in the library.\")"
     ],
     "language": "python",
     "metadata": {
      "cellView": null,
      "executionInfo": {
       "content": {
        "execution_count": 48,
        "payload": [],
        "status": "ok",
        "user_expressions": {},
        "user_variables": {}
       },
       "timestamp": 1409743055905,
       "user": {
        "color": "#1FA15D",
        "displayName": "Folgert Karsdorp",
        "isAnonymous": false,
        "isMe": true,
        "photoUrl": "//lh3.googleusercontent.com/-lb0qxz6lI7w/AAAAAAAAAAI/AAAAAAAAAGs/JDB7GjziTs0/s50-c-k-no/photo.jpg",
        "sessionId": "662c575220e0b45",
        "userId": "111825463060259982027"
       },
       "user_tz": -120
      }
     },
     "outputs": []
    },
    {
     "cell_type": "markdown",
     "metadata": {},
     "source": [
      "If one of the expressions evaluates to False, nothing will be printed:"
     ]
    },
    {
     "cell_type": "code",
     "collapsed": false,
     "input": [
      "book_a = \"Plays, by W. Shakespeare\"\n",
      "book_b = \"Fifty Shades of Grey, by E.L. James\"\n",
      "\n",
      "if book_a in bodleian_library and book_b in bodleian_library:\n",
      "    print(\"Both \" + book_a + \" and \" + book_b + \" are in the library.\")"
     ],
     "language": "python",
     "metadata": {
      "cellView": null,
      "executionInfo": {
       "content": {
        "execution_count": 49,
        "payload": [],
        "status": "ok",
        "user_expressions": {},
        "user_variables": {}
       },
       "timestamp": 1409743060214,
       "user": {
        "color": "#1FA15D",
        "displayName": "Folgert Karsdorp",
        "isAnonymous": false,
        "isMe": true,
        "photoUrl": "//lh3.googleusercontent.com/-lb0qxz6lI7w/AAAAAAAAAAI/AAAAAAAAAGs/JDB7GjziTs0/s50-c-k-no/photo.jpg",
        "sessionId": "662c575220e0b45",
        "userId": "111825463060259982027"
       },
       "user_tz": -120
      }
     },
     "outputs": []
    },
    {
     "cell_type": "markdown",
     "metadata": {},
     "source": [
      "-------"
     ]
    },
    {
     "cell_type": "heading",
     "level": 4,
     "metadata": {},
     "source": [
      "Code!"
     ]
    },
    {
     "cell_type": "markdown",
     "metadata": {},
     "source": [
      "Replace `and` with `or` in the `if` statement below. What happens? "
     ]
    },
    {
     "cell_type": "code",
     "collapsed": false,
     "input": [
      "book_a = \"Plays, by W. Shakespeare\"\n",
      "book_b = \"Fifty Shades of Grey, by E.L. James\"\n",
      "\n",
      "if book_a in bodleian_library and book_b in bodleian_library:\n",
      "    print(\"Both \" + book_a + \" and \" + book_b + \" are in the library.\")"
     ],
     "language": "python",
     "metadata": {
      "cellView": null,
      "executionInfo": null
     },
     "outputs": []
    },
    {
     "cell_type": "markdown",
     "metadata": {},
     "source": [
      "In the code block below, can you add an `else` statement that prints that none of the books are in the collection?"
     ]
    },
    {
     "cell_type": "code",
     "collapsed": false,
     "input": [
      "book_a = \"Freedom, by J. Franzen\"\n",
      "book_b = \"Fifty Shades of Grey, by E.L. James\"\n",
      "\n",
      "if book_a in bodleian_library and book_b in bodleian_library:\n",
      "    print(\"Both \" + book_a + \" and \" + book_b + \" are in the library.\")"
     ],
     "language": "python",
     "metadata": {
      "cellView": null,
      "executionInfo": null
     },
     "outputs": []
    },
    {
     "cell_type": "markdown",
     "metadata": {},
     "source": [
      "----------"
     ]
    },
    {
     "cell_type": "markdown",
     "metadata": {},
     "source": [
      "Finally we can use the keyword `not` to test for conditions that are not true:"
     ]
    },
    {
     "cell_type": "code",
     "collapsed": false,
     "input": [
      "book = \"Freedom, by J. Franzen\"\n",
      "if book not in bodleian_library:\n",
      "    print(book + \" is NOT in the library.\")"
     ],
     "language": "python",
     "metadata": {
      "cellView": null,
      "executionInfo": {
       "content": {
        "execution_count": 51,
        "payload": [],
        "status": "ok",
        "user_expressions": {},
        "user_variables": {}
       },
       "timestamp": 1409743079348,
       "user": {
        "color": "#1FA15D",
        "displayName": "Folgert Karsdorp",
        "isAnonymous": false,
        "isMe": true,
        "photoUrl": "//lh3.googleusercontent.com/-lb0qxz6lI7w/AAAAAAAAAAI/AAAAAAAAAGs/JDB7GjziTs0/s50-c-k-no/photo.jpg",
        "sessionId": "662c575220e0b45",
        "userId": "111825463060259982027"
       },
       "user_tz": -120
      }
     },
     "outputs": []
    },
    {
     "cell_type": "markdown",
     "metadata": {},
     "source": [
      "-----------"
     ]
    },
    {
     "cell_type": "heading",
     "level": 5,
     "metadata": {},
     "source": [
      "What we have learned"
     ]
    },
    {
     "cell_type": "markdown",
     "metadata": {},
     "source": [
      "To finish this section, here is an overview of the new functions, statements and concepts we have learnt. Go through them and make sure you understand what their purpose is and how they are used.\n",
      "\n",
      "-  conditions\n",
      "-  indentation\n",
      "-  `if`\n",
      "-  `else`\n",
      "-  `True`\n",
      "-  `False`\n",
      "-  `not`\n",
      "-  `in`\n",
      "-  `and`\n",
      "-  `or`\n",
      "-  multiple conditions\n",
      "-  `KeyError`"
     ]
    },
    {
     "cell_type": "markdown",
     "metadata": {},
     "source": [
      "---"
     ]
    },
    {
     "cell_type": "heading",
     "level": 2,
     "metadata": {},
     "source": [
      " Exercises"
     ]
    },
    {
     "cell_type": "heading",
     "level": 3,
     "metadata": {},
     "source": [
      " Exercise 1"
     ]
    },
    {
     "cell_type": "markdown",
     "metadata": {},
     "source": [
      "Latin is a language that uses different word endings or 'inflection' to mark the grammatical function of a word in a sentence. If a word like 'puella' (girl) or 'regina' (queen) ends in an -a, this means that the word is the subject of a sentence; if such a word ends in -am, it is the object of the sentence. Consider the two sentences below. Try to turn sentence (a) into sentence (b) using the string operations which we encountered in this chapter, such as slicing, splitting and concatenation. Make sure to assign the result of your string operations to a variable called 'sent_b' and check whether the code block below evaluates to 'True'.\n",
      "\n",
      "- Puella reginam videt ('The girl sees the queen.')\n",
      "- Regina puellam videt. ('The queen sees the girl.')"
     ]
    },
    {
     "cell_type": "code",
     "collapsed": false,
     "input": [
      "sent_a = \"Puella reginam videt\"\n",
      "sent_b = \"\"\n",
      "# insert your code here ...\n",
      "\n",
      "# This test should print True if your code is correct:\n",
      "print(sent_b == \"Regina puellam videt.\")"
     ],
     "language": "python",
     "metadata": {
      "cellView": null,
      "executionInfo": {
       "content": {
        "execution_count": 6,
        "payload": [],
        "status": "ok",
        "user_expressions": {},
        "user_variables": {}
       },
       "timestamp": 1409748021055,
       "user": {
        "color": "#1FA15D",
        "displayName": "Mike Kestemont",
        "isAnonymous": false,
        "isMe": true,
        "photoUrl": "//lh6.googleusercontent.com/-3374Y0epqzU/AAAAAAAAAAI/AAAAAAAAACo/ib8UdQ_Hj5g/s50-c-k-no/photo.jpg",
        "sessionId": "2ea14d6f7f360f73",
        "userId": "101039039618129443264"
       },
       "user_tz": -120
      }
     },
     "outputs": []
    },
    {
     "cell_type": "heading",
     "level": 3,
     "metadata": {},
     "source": [
      " Exercise 2"
     ]
    },
    {
     "cell_type": "markdown",
     "metadata": {},
     "source": [
      "Suppose that the latest modern edition of Chaucer's 'Canterbury tales' costs 19.95$ in an online bookstore, but that students get a 40% discount on this price. Shipping costs 3$ for the first copy and 75 cents for each additional copy (regardless of whether there is a discount on any of the books). What would be the total cost, if you as an English literature professor want to buy a copy for yourself, and for 60 of you undergraduate students? Print the result in a pretty fashion!"
     ]
    },
    {
     "cell_type": "code",
     "collapsed": false,
     "input": [
      "# insert your code below"
     ],
     "language": "python",
     "metadata": {
      "cellView": null,
      "executionInfo": null
     },
     "outputs": []
    },
    {
     "cell_type": "heading",
     "level": 3,
     "metadata": {},
     "source": [
      " Exercise 3"
     ]
    },
    {
     "cell_type": "markdown",
     "metadata": {},
     "source": [
      "Ex. 3: Economic historians are often confronted with the fact that historic societies use different currencies to express cost prices. In medieval England, the following currencies were available, for instance [http://medieval.ucdavis.edu/120D/Money.html]:\n",
      "\n",
      "- 1 pound = 20 shillings\n",
      "- 1 crown = 5 shillings\n",
      "- 1 shilling = 12 pence\n",
      "- 1 penny = 4 farthings\n",
      "\n",
      "Suppose that in 1451-60, an everyday English thatcher (somebody who covered roofs with reed) earned 5.5 pence per day. Can you find out how many days this thatcher would have to work to buy himself a copy of Gutenberg bible, which in those days was worth around 2,000 shillings? Can you express the cost prize of 50 such bibles in crowns, pounds, and shillings? (Note that the worth a complete Gutenberg bible today is estimated at $25\u221235 million!)"
     ]
    },
    {
     "cell_type": "code",
     "collapsed": false,
     "input": [
      "# insert your code below:\n",
      "\n",
      "# This test should print True if your code is correct:\n",
      "# TODO add test"
     ],
     "language": "python",
     "metadata": {
      "cellView": null,
      "executionInfo": null
     },
     "outputs": []
    },
    {
     "cell_type": "heading",
     "level": 3,
     "metadata": {},
     "source": [
      " Exercise 4"
     ]
    },
    {
     "cell_type": "markdown",
     "metadata": {},
     "source": [
      "Create a digital repostiory of the library which is represented in the table below. First, create a list of all the children's literature (`childrens_lit`), one with contemporary novels (`contemp_novels`), and and one with travel books (`travel_books`). Make print statements that print the books in each collection. Now add two novels ('Stoner' and 'The Farewell Party') to the comtemporary novels list with the `append()` method. Next, remove 'Stoner' again, using the `remove()` method. Now, add the three lists together by concatenating them (use the `+` operator). Store this list in a variable `your_library` and sort this list. Use the `print` function now to output to your screen which books your library holds. Check whether 'The Farewell Party' is still in your collection at this point: have Python print \"Available!\" when it is there, and \"Unavailable, sorry!\" when its not."
     ]
    },
    {
     "cell_type": "code",
     "collapsed": false,
     "input": [
      "# insert your code below:\n",
      "\n",
      "# This test should print True if your code is correct:\n",
      "# TODO add test"
     ],
     "language": "python",
     "metadata": {
      "cellView": null,
      "executionInfo": null
     },
     "outputs": []
    },
    {
     "cell_type": "heading",
     "level": 3,
     "metadata": {},
     "source": [
      " Exercise 5"
     ]
    },
    {
     "cell_type": "markdown",
     "metadata": {},
     "source": [
      "Consider the 'lookup' dictionary below. The following letters are still missing from it: 'k':'kilo', 'l':'lima', 'm':'mike'. Add them to lookup! Could you spell the word \"marvellous\" in code language now by concatening all words using the `+` operator? Assign this string to the variable message."
     ]
    },
    {
     "cell_type": "code",
     "collapsed": false,
     "input": [
      "lookup = {'a':'alfa', 'b':'bravo', 'c':'charlie', 'd':'delta', \n",
      "          'e':'echo', 'f':'foxtrot', 'g':'golf', 'h':'hotel', \n",
      "          'i':'india', 'j':'juliett', 'n':'november', 'o':'oscar', \n",
      "          'p':'papa', 'q':'quebec', 'r':'romeo', 's':'sierra', \n",
      "          't':'tango', 'u':'uniform', 'v':'victor', 'w':'whiskey', \n",
      "          'x':'x-ray', 'y':'yankee', 'z':'zulu'}\n",
      "\n",
      "# insert your code below:\n",
      "message = \n",
      "\n",
      "# This test should print True if your code is correct:\n",
      "print(message == 'mike alfa romeo victor echo lima lima oscar uniform sierra')"
     ],
     "language": "python",
     "metadata": {
      "cellView": null,
      "executionInfo": null
     },
     "outputs": []
    },
    {
     "cell_type": "heading",
     "level": 3,
     "metadata": {},
     "source": [
      " Exercise 6"
     ]
    },
    {
     "cell_type": "markdown",
     "metadata": {},
     "source": [
      "Collect the values from the dictionary in the previous exercise from the previous exercise into a list called 'code_words'. Make sure that this list is sorted alphabetically and print out the final 10 elements of this list."
     ]
    },
    {
     "cell_type": "code",
     "collapsed": false,
     "input": [
      "# insert your code below:\n"
     ],
     "language": "python",
     "metadata": {
      "cellView": null,
      "executionInfo": null
     },
     "outputs": []
    },
    {
     "cell_type": "markdown",
     "metadata": {},
     "source": [
      "<p><small><a rel=\"license\" href=\"http://creativecommons.org/licenses/by-sa/4.0/\"><img alt=\"Creative Commons License\" style=\"border-width:0\" src=\"https://i.creativecommons.org/l/by-sa/4.0/88x31.png\" /></a><br /><span xmlns:dct=\"http://purl.org/dc/terms/\" property=\"dct:title\">Python Programming for the Humanities</span> by <a xmlns:cc=\"http://creativecommons.org/ns#\" href=\"http://fbkarsdorp.github.io/python-course\" property=\"cc:attributionName\" rel=\"cc:attributionURL\">http://fbkarsdorp.github.io/python-course</a> is licensed under a <a rel=\"license\" href=\"http://creativecommons.org/licenses/by-sa/4.0/\">Creative Commons Attribution-ShareAlike 4.0 International License</a>. Based on a work at <a xmlns:dct=\"http://purl.org/dc/terms/\" href=\"https://github.com/fbkarsdorp/python-course\" rel=\"dct:source\">https://github.com/fbkarsdorp/python-course</a>.</small></p>"
     ]
    }
   ],
   "metadata": {}
  }
 ]
}