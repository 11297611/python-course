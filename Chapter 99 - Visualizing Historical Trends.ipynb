{
 "metadata": {
  "name": ""
 },
 "nbformat": 3,
 "nbformat_minor": 0,
 "worksheets": [
  {
   "cells": [
    {
     "cell_type": "markdown",
     "metadata": {},
     "source": [
      "# Visualizing Historical Trends\n",
      "\n",
      "Data often have a sequence. Economic indicators are reported every month. In the\n",
      "United States, population estimates are gathered every ten years.  Social\n",
      "network events are timestamped with second or millisecond precision. Printed\n",
      "texts also come in a sequence. Newspapers and periodicals have\n",
      "volumes.  Novels have chapters. Personal diaries have dated entries. This chapter demonstrates how taking into\n",
      "consideration the temporal sequence of data can reveal surprising patterns.\n",
      "\n",
      "## British Novels, 1800--1829\n",
      "\n",
      "As a motivating example, consider the number of novels published in the British\n",
      "Isles between 1800 and 1829.^[These data come from [@garside_english_2000].] For each\n",
      "year we have the number of novels published by men, women, and authors of\n",
      "unknown gender. (Publishing anonymously was more common in the 18th and\n",
      "19th century than it is today.)"
     ]
    },
    {
     "cell_type": "code",
     "collapsed": false,
     "input": [
      "import pandas as pd\n",
      "novels = pd.read_csv('data/visualizing-trends/novels-1800-1829.csv', index_col=0)\n",
      "novels.head(10)"
     ],
     "language": "python",
     "metadata": {},
     "outputs": [
      {
       "html": [
        "<div style=\"max-height:1000px;max-width:1500px;overflow:auto;\">\n",
        "<table border=\"1\" class=\"dataframe\">\n",
        "  <thead>\n",
        "    <tr style=\"text-align: right;\">\n",
        "      <th></th>\n",
        "      <th>women</th>\n",
        "      <th>male</th>\n",
        "      <th>unknown</th>\n",
        "    </tr>\n",
        "    <tr>\n",
        "      <th>year</th>\n",
        "      <th></th>\n",
        "      <th></th>\n",
        "      <th></th>\n",
        "    </tr>\n",
        "  </thead>\n",
        "  <tbody>\n",
        "    <tr>\n",
        "      <th>1800</th>\n",
        "      <td> 41</td>\n",
        "      <td> 28</td>\n",
        "      <td> 13</td>\n",
        "    </tr>\n",
        "    <tr>\n",
        "      <th>1801</th>\n",
        "      <td> 44</td>\n",
        "      <td> 18</td>\n",
        "      <td> 12</td>\n",
        "    </tr>\n",
        "    <tr>\n",
        "      <th>1802</th>\n",
        "      <td> 29</td>\n",
        "      <td> 22</td>\n",
        "      <td> 10</td>\n",
        "    </tr>\n",
        "    <tr>\n",
        "      <th>1803</th>\n",
        "      <td> 33</td>\n",
        "      <td> 35</td>\n",
        "      <td> 11</td>\n",
        "    </tr>\n",
        "    <tr>\n",
        "      <th>1804</th>\n",
        "      <td> 30</td>\n",
        "      <td> 37</td>\n",
        "      <td>  8</td>\n",
        "    </tr>\n",
        "    <tr>\n",
        "      <th>1805</th>\n",
        "      <td> 34</td>\n",
        "      <td> 30</td>\n",
        "      <td> 12</td>\n",
        "    </tr>\n",
        "    <tr>\n",
        "      <th>1806</th>\n",
        "      <td> 39</td>\n",
        "      <td> 23</td>\n",
        "      <td> 10</td>\n",
        "    </tr>\n",
        "    <tr>\n",
        "      <th>1807</th>\n",
        "      <td> 30</td>\n",
        "      <td> 31</td>\n",
        "      <td>  8</td>\n",
        "    </tr>\n",
        "    <tr>\n",
        "      <th>1808</th>\n",
        "      <td> 49</td>\n",
        "      <td> 42</td>\n",
        "      <td> 20</td>\n",
        "    </tr>\n",
        "    <tr>\n",
        "      <th>1809</th>\n",
        "      <td> 37</td>\n",
        "      <td> 32</td>\n",
        "      <td> 10</td>\n",
        "    </tr>\n",
        "  </tbody>\n",
        "</table>\n",
        "<p>10 rows \u00d7 3 columns</p>\n",
        "</div>"
       ],
       "metadata": {},
       "output_type": "pyout",
       "prompt_number": 4,
       "text": [
        "      women  male  unknown\n",
        "year                      \n",
        "1800     41    28       13\n",
        "1801     44    18       12\n",
        "1802     29    22       10\n",
        "1803     33    35       11\n",
        "1804     30    37        8\n",
        "1805     34    30       12\n",
        "1806     39    23       10\n",
        "1807     30    31        8\n",
        "1808     49    42       20\n",
        "1809     37    32       10\n",
        "\n",
        "[10 rows x 3 columns]"
       ]
      }
     ],
     "prompt_number": 4
    },
    {
     "cell_type": "markdown",
     "metadata": {},
     "source": [
      "There are a number of ways these data might be visualized. The most familiar\n",
      "method for visualizing a time series when the data is evenly spaced is a plot which creates a line connecting each data point.\n",
      "The year is placed on the horizontal axis (or x-axis) and the\n",
      "relevant number on the vertical axis (or y-axis). In this case, the number of\n",
      "novels published in each year is indicated on the vertical axis.\n"
     ]
    },
    {
     "cell_type": "code",
     "collapsed": false,
     "input": [
      "novels.plot(title=\"British Novels, 1800-1829\")"
     ],
     "language": "python",
     "metadata": {},
     "outputs": [
      {
       "metadata": {},
       "output_type": "pyout",
       "prompt_number": 5,
       "text": [
        "<matplotlib.axes.AxesSubplot at 0x7f87cce94390>"
       ]
      },
      {
       "metadata": {},
       "output_type": "display_data",
       "png": "[encoded data removed]",
       "text": [
        "<matplotlib.figure.Figure at 0x7f87cceea128>"
       ]
      }
     ],
     "prompt_number": 5
    },
    {
     "cell_type": "markdown",
     "metadata": {},
     "source": [
      "This data set covers a period before the emergence of a \"mass market\" for\n",
      "novels so the number of novels published each year is correspondingly modest. If we were interested in whether or not the total number of novels published was rising or falling, we would merge the\n",
      "number of novels published for each category of\n",
      "author. If we think about the tablular representation of data, we would sum across the columns of the table. Here the Pandas\n",
      "library adopts NumPy's convention of referring to the traversing of the column\n",
      "\"axis\" as moving across the second axis, axis 1 (the row axis axis 0)."
     ]
    },
    {
     "cell_type": "code",
     "collapsed": false,
     "input": [
      "novels.sum(axis=1).plot(title=\"British Novels, 1800-1829\")\n"
     ],
     "language": "python",
     "metadata": {},
     "outputs": [
      {
       "metadata": {},
       "output_type": "pyout",
       "prompt_number": 6,
       "text": [
        "<matplotlib.axes.AxesSubplot at 0x7f87cce94048>"
       ]
      },
      {
       "metadata": {},
       "output_type": "display_data",
       "png": "[encoded data removed]",
       "text": [
        "<matplotlib.figure.Figure at 0x7f87cce2a2e8>"
       ]
      }
     ],
     "prompt_number": 6
    },
    {
     "cell_type": "markdown",
     "metadata": {},
     "source": [
      "---\n",
      "\n",
      "#### Code!\n",
      "\n",
      "Looking at the declining number of novels published after 1810 and the recovery after 1815, one might suspect that an external event disrupted the publishing industry in the British Isles. In order to investigate this development more closely, it may be useful to plot the series where for each year one records the *percentage change* in novelistic production from the previous year."
     ]
    },
    {
     "cell_type": "code",
     "collapsed": false,
     "input": [
      "# start by working with total number of novels published each year\n",
      "novels_totals = novels.sum(axis=1)\n",
      "# insert your code here\n",
      "# note: you will not have an observation for 1800 as there is no prior year (1799) with which to compare it"
     ],
     "language": "python",
     "metadata": {},
     "outputs": [],
     "prompt_number": 20
    },
    {
     "cell_type": "markdown",
     "metadata": {},
     "source": [
      "---"
     ]
    },
    {
     "cell_type": "markdown",
     "metadata": {},
     "source": [
      "Turning back to the first plot, the number of novels published by each type of author, we can see that the demographic makeup of novel\n",
      "writers is changing between 1800 and 1829. One way to make these changes more\n",
      "visible is to group the publication figures by decade. In order to do this, we\n",
      "first need to add a variable indicating to which decade (e.g., 1800s, 1810s, ...) each observation\n",
      "belongs. A quick way to get the decade from an integer year is to divide by the\n",
      "number ten and report only the integer quotient (i.e., replace the last digit with a zero). Python happens to have an\n",
      "operator, ``//`` that performs precisely this operation (\"integer division\"):\n"
     ]
    },
    {
     "cell_type": "code",
     "collapsed": false,
     "input": [
      "novels['decade'] = (novels.index // 10) * 10\n",
      "novels.head(12)"
     ],
     "language": "python",
     "metadata": {},
     "outputs": [
      {
       "html": [
        "<div style=\"max-height:1000px;max-width:1500px;overflow:auto;\">\n",
        "<table border=\"1\" class=\"dataframe\">\n",
        "  <thead>\n",
        "    <tr style=\"text-align: right;\">\n",
        "      <th></th>\n",
        "      <th>women</th>\n",
        "      <th>male</th>\n",
        "      <th>unknown</th>\n",
        "      <th>decade</th>\n",
        "    </tr>\n",
        "    <tr>\n",
        "      <th>year</th>\n",
        "      <th></th>\n",
        "      <th></th>\n",
        "      <th></th>\n",
        "      <th></th>\n",
        "    </tr>\n",
        "  </thead>\n",
        "  <tbody>\n",
        "    <tr>\n",
        "      <th>1800</th>\n",
        "      <td> 41</td>\n",
        "      <td> 28</td>\n",
        "      <td> 13</td>\n",
        "      <td> 1800</td>\n",
        "    </tr>\n",
        "    <tr>\n",
        "      <th>1801</th>\n",
        "      <td> 44</td>\n",
        "      <td> 18</td>\n",
        "      <td> 12</td>\n",
        "      <td> 1800</td>\n",
        "    </tr>\n",
        "    <tr>\n",
        "      <th>1802</th>\n",
        "      <td> 29</td>\n",
        "      <td> 22</td>\n",
        "      <td> 10</td>\n",
        "      <td> 1800</td>\n",
        "    </tr>\n",
        "    <tr>\n",
        "      <th>1803</th>\n",
        "      <td> 33</td>\n",
        "      <td> 35</td>\n",
        "      <td> 11</td>\n",
        "      <td> 1800</td>\n",
        "    </tr>\n",
        "    <tr>\n",
        "      <th>1804</th>\n",
        "      <td> 30</td>\n",
        "      <td> 37</td>\n",
        "      <td>  8</td>\n",
        "      <td> 1800</td>\n",
        "    </tr>\n",
        "    <tr>\n",
        "      <th>1805</th>\n",
        "      <td> 34</td>\n",
        "      <td> 30</td>\n",
        "      <td> 12</td>\n",
        "      <td> 1800</td>\n",
        "    </tr>\n",
        "    <tr>\n",
        "      <th>1806</th>\n",
        "      <td> 39</td>\n",
        "      <td> 23</td>\n",
        "      <td> 10</td>\n",
        "      <td> 1800</td>\n",
        "    </tr>\n",
        "    <tr>\n",
        "      <th>1807</th>\n",
        "      <td> 30</td>\n",
        "      <td> 31</td>\n",
        "      <td>  8</td>\n",
        "      <td> 1800</td>\n",
        "    </tr>\n",
        "    <tr>\n",
        "      <th>1808</th>\n",
        "      <td> 49</td>\n",
        "      <td> 42</td>\n",
        "      <td> 20</td>\n",
        "      <td> 1800</td>\n",
        "    </tr>\n",
        "    <tr>\n",
        "      <th>1809</th>\n",
        "      <td> 37</td>\n",
        "      <td> 32</td>\n",
        "      <td> 10</td>\n",
        "      <td> 1800</td>\n",
        "    </tr>\n",
        "    <tr>\n",
        "      <th>1810</th>\n",
        "      <td> 51</td>\n",
        "      <td> 22</td>\n",
        "      <td> 18</td>\n",
        "      <td> 1810</td>\n",
        "    </tr>\n",
        "    <tr>\n",
        "      <th>1811</th>\n",
        "      <td> 36</td>\n",
        "      <td> 32</td>\n",
        "      <td> 12</td>\n",
        "      <td> 1810</td>\n",
        "    </tr>\n",
        "  </tbody>\n",
        "</table>\n",
        "<p>12 rows \u00d7 4 columns</p>\n",
        "</div>"
       ],
       "metadata": {},
       "output_type": "pyout",
       "prompt_number": 24,
       "text": [
        "      women  male  unknown  decade\n",
        "year                              \n",
        "1800     41    28       13    1800\n",
        "1801     44    18       12    1800\n",
        "1802     29    22       10    1800\n",
        "1803     33    35       11    1800\n",
        "1804     30    37        8    1800\n",
        "1805     34    30       12    1800\n",
        "1806     39    23       10    1800\n",
        "1807     30    31        8    1800\n",
        "1808     49    42       20    1800\n",
        "1809     37    32       10    1800\n",
        "1810     51    22       18    1810\n",
        "1811     36    32       12    1810\n",
        "\n",
        "[12 rows x 4 columns]"
       ]
      }
     ],
     "prompt_number": 24
    },
    {
     "cell_type": "markdown",
     "metadata": {},
     "source": [
      "Now that we have the decade associated with each record of publication counts,\n",
      "we must group and sum counts linked with the same decade. This operation is\n",
      "known as a \"group by\" operation in a variety of settings.^[In SQL, for example,\n",
      "the relevant command is \"GROUP BY\".] When dealing with a Pandas ``DataFrame``,\n",
      "the method's name is ``groupby``. ``groupby`` yields an intermediate abstract\n",
      "object upon which we are expected to perform some subsequent operation. In this\n",
      "case, the operation is summing, for which we use the method ``sum``. We could have used a different operation, such as ``mean`` or ``max`` which would have returned the average or the maximum observation within each group.\n"
     ]
    },
    {
     "cell_type": "code",
     "collapsed": false,
     "input": [
      "novels.groupby('decade').sum().head()"
     ],
     "language": "python",
     "metadata": {},
     "outputs": [
      {
       "html": [
        "<div style=\"max-height:1000px;max-width:1500px;overflow:auto;\">\n",
        "<table border=\"1\" class=\"dataframe\">\n",
        "  <thead>\n",
        "    <tr style=\"text-align: right;\">\n",
        "      <th></th>\n",
        "      <th>women</th>\n",
        "      <th>male</th>\n",
        "      <th>unknown</th>\n",
        "    </tr>\n",
        "    <tr>\n",
        "      <th>decade</th>\n",
        "      <th></th>\n",
        "      <th></th>\n",
        "      <th></th>\n",
        "    </tr>\n",
        "  </thead>\n",
        "  <tbody>\n",
        "    <tr>\n",
        "      <th>1800</th>\n",
        "      <td> 366</td>\n",
        "      <td> 298</td>\n",
        "      <td> 114</td>\n",
        "    </tr>\n",
        "    <tr>\n",
        "      <th>1810</th>\n",
        "      <td> 345</td>\n",
        "      <td> 196</td>\n",
        "      <td> 126</td>\n",
        "    </tr>\n",
        "    <tr>\n",
        "      <th>1820</th>\n",
        "      <td> 289</td>\n",
        "      <td> 426</td>\n",
        "      <td> 112</td>\n",
        "    </tr>\n",
        "  </tbody>\n",
        "</table>\n",
        "<p>3 rows \u00d7 3 columns</p>\n",
        "</div>"
       ],
       "metadata": {},
       "output_type": "pyout",
       "prompt_number": 25,
       "text": [
        "        women  male  unknown\n",
        "decade                      \n",
        "1800      366   298      114\n",
        "1810      345   196      126\n",
        "1820      289   426      112\n",
        "\n",
        "[3 rows x 3 columns]"
       ]
      }
     ],
     "prompt_number": 25
    },
    {
     "cell_type": "markdown",
     "metadata": {},
     "source": [
      "Because our data is no longer evenly spaced, drawing a line to connect the\n",
      "counts is no longer a good visualization strategy. In this context,\n",
      "a bar chart grouped by decade is appropriate:\n"
     ]
    },
    {
     "cell_type": "code",
     "collapsed": false,
     "input": [
      "novels.groupby('decade').sum().plot(kind='bar', title=\"British Novels, 1800-1829\")"
     ],
     "language": "python",
     "metadata": {},
     "outputs": [
      {
       "metadata": {},
       "output_type": "pyout",
       "prompt_number": 28,
       "text": [
        "<matplotlib.axes.AxesSubplot at 0x7f87ccbfea58>"
       ]
      },
      {
       "metadata": {},
       "output_type": "display_data",
       "png": "[encoded data removed]",
       "text": [
        "<matplotlib.figure.Figure at 0x7f87ccc04160>"
       ]
      }
     ],
     "prompt_number": 28
    },
    {
     "cell_type": "markdown",
     "metadata": {},
     "source": [
      "### Converting among different formats\n",
      "\n",
      "Too often the data we have is not in the format we need. The same data can be\n",
      "represented in a wide variety of formats. Converting from one representation to\n",
      "another is a common chore in data analysis. For example, consider what steps\n",
      "would be required if we were given the data used in the examples above in the\n",
      "following disaggregated format, where each row is an observation and each column\n",
      "is a variable:\n"
     ]
    },
    {
     "cell_type": "code",
     "collapsed": false,
     "input": [
      "novels_alt = pd.read_csv('data/visualizing-trends/novels-1800-1829-alt.csv') \n",
      "novels_alt.head()"
     ],
     "language": "python",
     "metadata": {},
     "outputs": [
      {
       "html": [
        "<div style=\"max-height:1000px;max-width:1500px;overflow:auto;\">\n",
        "<table border=\"1\" class=\"dataframe\">\n",
        "  <thead>\n",
        "    <tr style=\"text-align: right;\">\n",
        "      <th></th>\n",
        "      <th>year</th>\n",
        "      <th>gender</th>\n",
        "      <th>count</th>\n",
        "    </tr>\n",
        "  </thead>\n",
        "  <tbody>\n",
        "    <tr>\n",
        "      <th>0</th>\n",
        "      <td> 1800</td>\n",
        "      <td>   women</td>\n",
        "      <td> 41</td>\n",
        "    </tr>\n",
        "    <tr>\n",
        "      <th>1</th>\n",
        "      <td> 1800</td>\n",
        "      <td> unknown</td>\n",
        "      <td> 13</td>\n",
        "    </tr>\n",
        "    <tr>\n",
        "      <th>2</th>\n",
        "      <td> 1800</td>\n",
        "      <td>    male</td>\n",
        "      <td> 28</td>\n",
        "    </tr>\n",
        "    <tr>\n",
        "      <th>3</th>\n",
        "      <td> 1801</td>\n",
        "      <td>   women</td>\n",
        "      <td> 44</td>\n",
        "    </tr>\n",
        "    <tr>\n",
        "      <th>4</th>\n",
        "      <td> 1801</td>\n",
        "      <td> unknown</td>\n",
        "      <td> 12</td>\n",
        "    </tr>\n",
        "  </tbody>\n",
        "</table>\n",
        "<p>5 rows \u00d7 3 columns</p>\n",
        "</div>"
       ],
       "metadata": {},
       "output_type": "pyout",
       "prompt_number": 29,
       "text": [
        "   year   gender  count\n",
        "0  1800    women     41\n",
        "1  1800  unknown     13\n",
        "2  1800     male     28\n",
        "3  1801    women     44\n",
        "4  1801  unknown     12\n",
        "\n",
        "[5 rows x 3 columns]"
       ]
      }
     ],
     "prompt_number": 29
    },
    {
     "cell_type": "markdown",
     "metadata": {},
     "source": [
      "(Those preferring this format have dubbed it [\"tidy\" data](http://vita.had.co.nz/papers/tidy-data.pdf).)\n",
      "<!-- CITE: @Article{tidy-data, author = {Hadley Wickham}, journal = {The Journal of Statistical Software}, title = {Tidy data}, year = {Submitted}, } -->\n",
      "\n",
      "Converting this format into the format used earlier requires \"pivoting\" the data\n",
      "such that the desired variables are associated with the rows and columns. In\n",
      "this case, we want the ``gender`` variable to occupy the columns and the\n",
      "``year`` variable to occupy the rows. The interior values of the dataset will be\n",
      "taken from the ``count`` variable:\n"
     ]
    },
    {
     "cell_type": "code",
     "collapsed": false,
     "input": [
      "novels_pivot = novels_alt.pivot('year', 'gender', 'count')\n",
      "novels_pivot.head()"
     ],
     "language": "python",
     "metadata": {},
     "outputs": [
      {
       "html": [
        "<div style=\"max-height:1000px;max-width:1500px;overflow:auto;\">\n",
        "<table border=\"1\" class=\"dataframe\">\n",
        "  <thead>\n",
        "    <tr style=\"text-align: right;\">\n",
        "      <th>gender</th>\n",
        "      <th>male</th>\n",
        "      <th>unknown</th>\n",
        "      <th>women</th>\n",
        "    </tr>\n",
        "    <tr>\n",
        "      <th>year</th>\n",
        "      <th></th>\n",
        "      <th></th>\n",
        "      <th></th>\n",
        "    </tr>\n",
        "  </thead>\n",
        "  <tbody>\n",
        "    <tr>\n",
        "      <th>1800</th>\n",
        "      <td> 28</td>\n",
        "      <td> 13</td>\n",
        "      <td> 41</td>\n",
        "    </tr>\n",
        "    <tr>\n",
        "      <th>1801</th>\n",
        "      <td> 18</td>\n",
        "      <td> 12</td>\n",
        "      <td> 44</td>\n",
        "    </tr>\n",
        "    <tr>\n",
        "      <th>1802</th>\n",
        "      <td> 22</td>\n",
        "      <td> 10</td>\n",
        "      <td> 29</td>\n",
        "    </tr>\n",
        "    <tr>\n",
        "      <th>1803</th>\n",
        "      <td> 35</td>\n",
        "      <td> 11</td>\n",
        "      <td> 33</td>\n",
        "    </tr>\n",
        "    <tr>\n",
        "      <th>1804</th>\n",
        "      <td> 37</td>\n",
        "      <td>  8</td>\n",
        "      <td> 30</td>\n",
        "    </tr>\n",
        "  </tbody>\n",
        "</table>\n",
        "<p>5 rows \u00d7 3 columns</p>\n",
        "</div>"
       ],
       "metadata": {},
       "output_type": "pyout",
       "prompt_number": 30,
       "text": [
        "gender  male  unknown  women\n",
        "year                        \n",
        "1800      28       13     41\n",
        "1801      18       12     44\n",
        "1802      22       10     29\n",
        "1803      35       11     33\n",
        "1804      37        8     30\n",
        "\n",
        "[5 rows x 3 columns]"
       ]
      }
     ],
     "prompt_number": 30
    },
    {
     "cell_type": "markdown",
     "metadata": {},
     "source": [
      "We will use the ``pivot`` method again in this chapter. The name of the method refers to a \"[pivot table](https://en.wikipedia.org/wiki/Pivot_table)\". Our pivot table rearranges (\"pivots\") the data in a table by moving observations that are uniquely identified by two labels (year and gender) into their own rows. "
     ]
    },
    {
     "cell_type": "markdown",
     "metadata": {},
     "source": [
      "## Les Mis\u00e9rables\n",
      "\n",
      "The unfolding of events in Victor Hugo's *Les Mis\u00e9rables* is another example of\n",
      "a sequence we can visualize. Over 500,000 words long, *Les Mis\u00e9rables* counts as\n",
      "a lengthy text by any standard. The novel comes in five volumes: \"Fantine\",\n",
      "\"Cosette\", \"Marius\", \"The Idyll in the Rue Plumet and the Epic in the Rue St.\n",
      "Denis\", and \"Jean Valjean\". Within each volume we have a sequence of chapters\n",
      "and within each chapter we have a sequence of paragraphs.\n",
      "\n",
      "Consider the following visualization of the rise and fall of words linked to a \"topic\" (from a topic model) associated with revolutionary activity in\n",
      "*Les Mis\u00e9rables* (Figure 1). Words likely to be associated with this topic include *barricade*\n",
      "(barricade), *fusil* (rifle), and the character\n",
      "[Enjolras](https://en.wikipedia.org/wiki/Enjolras), the leader of the\n",
      "revolutionary *Les Amis de l'ABC*. (Topic models are described in greater detail in chapter~?.)"
     ]
    },
    {
     "cell_type": "code",
     "collapsed": false,
     "input": [
      "from IPython.display import Image\n",
      "Image(filename=\"images/visualizing-trends/plot_topics_over_time_series_les_mis\u00e9rables.png\")"
     ],
     "language": "python",
     "metadata": {},
     "outputs": [
      {
       "metadata": {},
       "output_type": "pyout",
       "png": "[encoded data removed]",
       "prompt_number": 22,
       "text": [
        "<IPython.core.display.Image at 0x7f497e726588>"
       ]
      }
     ],
     "prompt_number": 22
    },
    {
     "cell_type": "markdown",
     "metadata": {},
     "source": [
      "This visualization summarizes an important section of *Les Mis\u00e9rables*. Much of\n",
      "the narrative in volume 4 and volume 5 unfolds on the streets of Paris, where\n",
      "students have erected barricades. The beginning of volume 5, in particular,\n",
      "features a development where the students, led by Enjolras, are running out of\n",
      "*cartouches* (cartridges). A number of words, such as *cartouches* and *fusil*,\n",
      "occur together in this part of the novel and rarely elsewhere; for this reason,\n",
      "the topic model has no difficulty learning that these words are linked.\n",
      "\n",
      "The visualization, of course, imparts little information that an attentive\n",
      "reader of the novel would not know. Nevertheless, the visualization is a helpful\n",
      "reminder of the plot structure. Using quantitative methods on such a familiar\n",
      "text is convenient because we have many opportunities to verify that methods are\n",
      "working correctly using background knowledge.  Checking models will\n",
      "not always be so easy."
     ]
    },
    {
     "cell_type": "markdown",
     "metadata": {},
     "source": [
      "In order to construct this visualization we first need a topic model of the\n",
      "novel *Les Mis\u00e9rables*. As described in Chapter ?,  we will use the familiar\n",
      "Latent Dirichlet Allocation topic model with 100 topics (sometimes called\n",
      "(mixture) \"components\").  As a preparatory step the all the volumes of *Les\n",
      "Mis\u00e9rables* have been split into sections of approximately 1,000 words. These\n",
      "sections are found in the directory ``data/hugo-les-mis\u00e9rables-split``."
     ]
    },
    {
     "cell_type": "markdown",
     "metadata": {},
     "source": [
      "A topic model takes document-specific word frequencies as input. These word\n",
      "frequencies are conveniently represented as a document-term matrix. (Strategies\n",
      "for tokenizing and collecting word frequency lists are described in Chapter ?.)\n",
      "In order to speed up processing we will discard very frequent words, so called\n",
      "\"stop words\" from the corpus. As this is a French novel, we need a list of\n",
      "[French stop\n",
      "words](http://svn.tartarus.org/snowball/trunk/website/algorithms/french/stop.txt).^[This\n",
      "list comes from the popular stemming software package, Snowball:\n",
      "http://svn.tartarus.org/snowball/trunk/website/algorithms/french/stop.txt] To\n",
      "further speed up this computationally intensive algorithm, we will discard words\n",
      "that occur in fewer than 10 sections in the corpus. Both of these steps---stop\n",
      "word removal and minimum-document frequency filtering---may be\n",
      "skipped if you have spare time or a sufficiently fast computer."
     ]
    },
    {
     "cell_type": "code",
     "collapsed": false,
     "input": [
      "import numpy as np  # a conventional alias\n",
      "import sklearn.feature_extraction.text\n",
      "\n",
      "import glob\n",
      "\n",
      "filenames = sorted(glob.glob('data/hugo-les-mis\u00e9rables-split/*'))  # NOTE: sort the filenames as the filename indicates the order\n",
      "stopwords_french = open('data/stopwords-french.txt').read().split()\n",
      "\n",
      "min_df = 10\n",
      "vectorizer = sklearn.feature_extraction.text.CountVectorizer(input='filename', stop_words=stopwords_french, min_df=min_df)\n",
      "# fit_transform returns a sparse matrix, which uses memory more efficiently than a normal numpy array or matrix. In this case the efficiency gains are unnecessary so we convert it with .toarray() to a normal numpy array.\n",
      "dtm = vectorizer.fit_transform(filenames).toarray()\n",
      "vocabulary = vectorizer.get_feature_names()"
     ],
     "language": "python",
     "metadata": {},
     "outputs": [],
     "prompt_number": 39
    },
    {
     "cell_type": "markdown",
     "metadata": {},
     "source": [
      "With the document-term matrix in hand, we now fit the LDA model to the corpus. Fitting the topic model should take less than five minutes. What we receive when we are finished is a document-*topic* matrix, where each\n",
      "section (document) is represented in terms of a small number of topic weights.\n",
      "Note the degree of dimensionality reduction that has occured: we now have a very\n",
      "compact representation of a much larger matrix of word frequencies."
     ]
    },
    {
     "cell_type": "code",
     "collapsed": false,
     "input": [
      "import horizont\n",
      "\n",
      "n_topics = 100\n",
      "n_iter = 200  # number of iterations. 200 is a minimum. As with all Markov Chain Monte Carlo algorithms, the model needs to be run until one believes the chain has converged.\n",
      "model = horizont.LDA(n_topics=n_topics, random_state=1, n_iter=n_iter)\n",
      "import time; t0 = time.time()\n",
      "doc_topic_array = model.fit_transform(dtm)\n",
      "print(\"Topic model finished in {} seconds\".format(round(time.time() - t0)))"
     ],
     "language": "python",
     "metadata": {},
     "outputs": [
      {
       "output_type": "stream",
       "stream": "stdout",
       "text": [
        "Topic model finished in 175 seconds\n"
       ]
      }
     ],
     "prompt_number": 40
    },
    {
     "cell_type": "markdown",
     "metadata": {},
     "source": [
      "Now that we have a representation of each segment of *Les Mis\u00e9rables* in terms\n",
      "of topics, we need to examine the topics and identify the topic of interest. In\n",
      "this case, there is only a single topic which features the word *barricade*\n",
      "among the top five words, so identifying it is not difficult. (Inspecting the\n",
      "matrix of topic-word distributions---stored in in the attribute ``components_``---is\n",
      "discussed in greater detail in the chapter on topic modeling, Chapter ?.)"
     ]
    },
    {
     "cell_type": "code",
     "collapsed": false,
     "input": [
      "topic_word = pd.DataFrame(model.components_, columns=vocabulary)\n",
      "barricade_topic_num = topic_word['barricade'].argmax()\n",
      "print(\"Topic number of interest:\", barricade_topic_num)\n",
      "\n",
      "# inspect the words most strongly associated with the topic\n",
      "barricade_topic = topic_word.iloc[barricade_topic_num]\n",
      "barricade_topic.sort(ascending=False)\n",
      "barricade_topic.head()"
     ],
     "language": "python",
     "metadata": {},
     "outputs": [
      {
       "output_type": "stream",
       "stream": "stdout",
       "text": [
        "Topic number of interest: 88\n"
       ]
      },
      {
       "metadata": {},
       "output_type": "pyout",
       "prompt_number": 42,
       "text": [
        "barricade    0.097344\n",
        "enjolras     0.043388\n",
        "deux         0.029169\n",
        "coups        0.022607\n",
        "fusil        0.020784\n",
        "Name: 88, dtype: float64"
       ]
      }
     ],
     "prompt_number": 42
    },
    {
     "cell_type": "markdown",
     "metadata": {},
     "source": [
      "---\n",
      "#### Code!\n",
      "\n",
      "If you are familiar with the plot of *Les Mis\u00e9rables*, see if you can identify some other topics of interest by inspecting the matrix of topic-word distributions (``topic_word``). You may find it useful to collect the most probable 10 words for each topic and inspect that list."
     ]
    },
    {
     "cell_type": "code",
     "collapsed": false,
     "input": [
      "# your code here"
     ],
     "language": "python",
     "metadata": {},
     "outputs": [],
     "prompt_number": 43
    },
    {
     "cell_type": "markdown",
     "metadata": {},
     "source": [
      "---"
     ]
    },
    {
     "cell_type": "markdown",
     "metadata": {},
     "source": [
      "Finally, in order to reproduce the desired visualization we need two additional\n",
      "pieces of sequential information. First, we need to know where each 1,000-word section of the novel lies in\n",
      "the sequence of sections of *Les Mis\u00e9rables*. Second, we need to know\n",
      "to which volume each text belongs. The first piece of information is easy\n",
      "to gather because the filenames sort correctly. The second piece of information,\n",
      "the volume number, needs to be extracted from each filename. For example, the\n",
      "first filename in the corpus looks like this:\n",
      "``les-mis\u00e9rables-tome-1-fantine-0000.txt``. Indeed, for the purposes of the\n",
      "visualization, it is the volume name that interests us (Volume 1 is titled\n",
      "\"Fantine\"). There are a number of ways to extract this information but the\n",
      "simplest is simply to notice that the highly structured filename is amenable to\n",
      "``split``ing, as is demonstrated below. We gather the sequence number, the\n",
      "volume number, and the document-topic shares into a single dataset as follows:"
     ]
    },
    {
     "cell_type": "code",
     "collapsed": false,
     "input": [
      "doc_topic = pd.DataFrame(doc_topic_array)\n",
      "filenames_short = [os.path.basename(filename) for filename in filenames]\n",
      "\n",
      "# Extract the volume name with '-'.join(filename.split('-')[3:-1])\n",
      "# \"les-mis\u00e9rables-tome-1-fantine-0000.txt\".split('-') yields\n",
      "# ['les', 'mis\u00e9rables', 'tome', '1', 'fantine', '0000.txt']\n",
      "doc_topic['volume_name'] = ['-'.join(filename.split('-')[3:-1]) for filename in filenames_short]\n",
      "doc_topic['section_number'] = range(len(df_doc_topic))\n",
      "\n",
      "barricade = doc_topic[[barricade_topic_num, 'section_number', 'volume_name']]\n",
      "# rename the first column to something more descriptive than an integer\n",
      "barricade.columns = ['barricade_topic', 'section_number', 'volume_name']\n",
      "barricade.head()"
     ],
     "language": "python",
     "metadata": {},
     "outputs": [
      {
       "html": [
        "<div style=\"max-height:1000px;max-width:1500px;overflow:auto;\">\n",
        "<table border=\"1\" class=\"dataframe\">\n",
        "  <thead>\n",
        "    <tr style=\"text-align: right;\">\n",
        "      <th></th>\n",
        "      <th>barricade_topic</th>\n",
        "      <th>section_number</th>\n",
        "      <th>volume_name</th>\n",
        "    </tr>\n",
        "  </thead>\n",
        "  <tbody>\n",
        "    <tr>\n",
        "      <th>0</th>\n",
        "      <td> 0.000386</td>\n",
        "      <td> 0</td>\n",
        "      <td> 1-fantine</td>\n",
        "    </tr>\n",
        "    <tr>\n",
        "      <th>1</th>\n",
        "      <td> 0.000385</td>\n",
        "      <td> 1</td>\n",
        "      <td> 1-fantine</td>\n",
        "    </tr>\n",
        "    <tr>\n",
        "      <th>2</th>\n",
        "      <td> 0.000391</td>\n",
        "      <td> 2</td>\n",
        "      <td> 1-fantine</td>\n",
        "    </tr>\n",
        "    <tr>\n",
        "      <th>3</th>\n",
        "      <td> 0.000365</td>\n",
        "      <td> 3</td>\n",
        "      <td> 1-fantine</td>\n",
        "    </tr>\n",
        "    <tr>\n",
        "      <th>4</th>\n",
        "      <td> 0.000422</td>\n",
        "      <td> 4</td>\n",
        "      <td> 1-fantine</td>\n",
        "    </tr>\n",
        "  </tbody>\n",
        "</table>\n",
        "<p>5 rows \u00d7 3 columns</p>\n",
        "</div>"
       ],
       "metadata": {},
       "output_type": "pyout",
       "prompt_number": 44,
       "text": [
        "   barricade_topic  section_number volume_name\n",
        "0         0.000386               0   1-fantine\n",
        "1         0.000385               1   1-fantine\n",
        "2         0.000391               2   1-fantine\n",
        "3         0.000365               3   1-fantine\n",
        "4         0.000422               4   1-fantine\n",
        "\n",
        "[5 rows x 3 columns]"
       ]
      }
     ],
     "prompt_number": 44
    },
    {
     "cell_type": "code",
     "collapsed": false,
     "input": [
      "df_barricade['barricade_topic'].plot()"
     ],
     "language": "python",
     "metadata": {},
     "outputs": [
      {
       "metadata": {},
       "output_type": "pyout",
       "prompt_number": 45,
       "text": [
        "<matplotlib.axes.AxesSubplot at 0x7f497e9c1080>"
       ]
      },
      {
       "metadata": {},
       "output_type": "display_data",
       "png": "[encoded data removed]",
       "text": [
        "<matplotlib.figure.Figure at 0x7f497e929828>"
       ]
      }
     ],
     "prompt_number": 45
    },
    {
     "cell_type": "markdown",
     "metadata": {},
     "source": [
      "While the plot captures the information we want, it could be improved. A title and axis labels would be welcome, as would an indication of where each volume starts and end, which would be useful for orientating ourselves in the narrative. The topic share of the \"barricade\" topic also fluctuates considerably from one 1,000-word section to another. It would be useful if we could capture the average presence of this topic within a \"window\" of a few 1,000-word sections."
     ]
    },
    {
     "cell_type": "markdown",
     "metadata": {},
     "source": [
      "In order to capture the idea of the average concentration or prevalence in a given window of observations in a sequence we can use a *rolling average*. This form of *smoothing* is common in the visualization of time series.\n",
      "\n",
      "A rolling average of the topic shares turns out be a useful form of smoothing here as we are interested in the prevalence of a topic in the narrative. If for one reason or another a topic disappears completely in one 1000-word chunk of text only to reappear in the next this does not interest us. We want to visualize the underlying trend and we need a model or heuristic capable of capturing the idea that the topic (or any similar feature) has an underlying propensity to appear at varying points of the novel and that while this propensity may change over time it does not fluctuate wildly. While this assumption might not be appropriate for a piece of poetry or experimental fiction that lacks a plot, with Hugo it is a valid assumption.^[For generic smoothing those accustomed to using R will be familiar with the function ``loess()`` which implements the most common form of scatterplot smoothing. In Python a similar function (``statsmodels.nonparametric.lowess()``) is available in the ``statsmodels`` package. While we might be tempted to use such a function to communicate visually the basic trend, we will be better served if we think of the sequence of topic shares as a proper time series rather than (merely) a sequence of dependant and independent variables suitable for visualization in a scatter plot.]\n",
      "\n",
      "Recall that a rolling or moving average of a time series associates with each point in the series the average of some fixed number of previous observations (including the current observation). This fixed number of observations is often called a \u201cwindow\u201d. The idea of a rolling mean (conveniently implemented in pandas.rolling_mean()) is effectively communicated visually:"
     ]
    },
    {
     "cell_type": "code",
     "collapsed": false,
     "input": [
      "y = np.array([  3.,   2.,   3.,   6.,   2.,   3.,   1.,   3.,   8.,   3.,   5.,\n",
      "                8.,   7.,   8.,   7.,   6.,   8.,   7.,   7.,   5.,   8.,   6.,\n",
      "                11.,   6.,   7.,   8.,   8.,   6.,   9.,  15.,  13.,  10.,   9.]) "
     ],
     "language": "python",
     "metadata": {},
     "outputs": [],
     "prompt_number": 46
    },
    {
     "cell_type": "code",
     "collapsed": false,
     "input": [
      "pd.rolling_mean(y, 3)"
     ],
     "language": "python",
     "metadata": {},
     "outputs": [
      {
       "metadata": {},
       "output_type": "pyout",
       "prompt_number": 47,
       "text": [
        "array([         nan,          nan,   2.66666667,   3.66666667,\n",
        "         3.66666667,   3.66666667,   2.        ,   2.33333333,\n",
        "         4.        ,   4.66666667,   5.33333333,   5.33333333,\n",
        "         6.66666667,   7.66666667,   7.33333333,   7.        ,\n",
        "         7.        ,   7.        ,   7.33333333,   6.33333333,\n",
        "         6.66666667,   6.33333333,   8.33333333,   7.66666667,\n",
        "         8.        ,   7.        ,   7.66666667,   7.33333333,\n",
        "         7.66666667,  10.        ,  12.33333333,  12.66666667,  10.66666667])"
       ]
      }
     ],
     "prompt_number": 47
    },
    {
     "cell_type": "markdown",
     "metadata": {},
     "source": [
      "In symbols, a rolling mean of a series $x$ can be expressed as follows\n",
      "$$r_t = \\frac{1}{w} \\sum_{i=0}^{w-1} x_{t-i}$$\n",
      "where $r_t$ is only defined for values of $t \\ge w$."
     ]
    },
    {
     "cell_type": "code",
     "collapsed": false,
     "input": [
      "plt.plot(y, '.', alpha=0.5)\n",
      "plt.plot(pd.rolling_mean(y, 5), '-', linewidth=2)"
     ],
     "language": "python",
     "metadata": {},
     "outputs": [
      {
       "metadata": {},
       "output_type": "pyout",
       "prompt_number": 48,
       "text": [
        "[<matplotlib.lines.Line2D at 0x7f497c3ea978>]"
       ]
      },
      {
       "metadata": {},
       "output_type": "display_data",
       "png": "[encoded data removed]",
       "text": [
        "<matplotlib.figure.Figure at 0x7f497c3eaa58>"
       ]
      }
     ],
     "prompt_number": 48
    },
    {
     "cell_type": "markdown",
     "metadata": {},
     "source": [
      "To apply this to our time series of the \"barricade\" topic model we take the rolling average of our topic shares over a window of 10 observations:"
     ]
    },
    {
     "cell_type": "code",
     "collapsed": false,
     "input": [
      "df_barricade['barricade_topic_smooth'] = pd.rolling_mean(df_barricade['barricade_topic'].values, 10)\n",
      "df_barricade['barricade_topic_smooth'].plot()"
     ],
     "language": "python",
     "metadata": {},
     "outputs": [
      {
       "metadata": {},
       "output_type": "pyout",
       "prompt_number": 50,
       "text": [
        "<matplotlib.axes.AxesSubplot at 0x7f497c47f630>"
       ]
      },
      {
       "metadata": {},
       "output_type": "display_data",
       "png": "[encoded data removed]",
       "text": [
        "<matplotlib.figure.Figure at 0x7f497e631588>"
       ]
      }
     ],
     "prompt_number": 50
    },
    {
     "cell_type": "markdown",
     "metadata": {},
     "source": [
      "---\n",
      "\n",
      "**Code!**\n",
      "\n",
      "Visualize the series using a much larger window for the rolling mean. Think about the number of words you are averaging over in terms of the average size of a chapter in the novel.\n"
     ]
    },
    {
     "cell_type": "code",
     "collapsed": false,
     "input": [
      "# your code here"
     ],
     "language": "python",
     "metadata": {},
     "outputs": [],
     "prompt_number": 51
    },
    {
     "cell_type": "markdown",
     "metadata": {},
     "source": [
      "---"
     ]
    },
    {
     "cell_type": "markdown",
     "metadata": {},
     "source": [
      "The visualization is almost finished. In order to indicate the volume of each text section we need only to ``pivot`` the table so that the topic shares of each volume recieve their own column.\n"
     ]
    },
    {
     "cell_type": "code",
     "collapsed": false,
     "input": [
      "title = \"Topic {} ('barricade') in Les Mis\u00e9rables\".format(barricade_topic_num)\n",
      "ax = df_barricade.pivot('section_number', 'volume_name', 'barricade_topic_smooth').plot(title=title)\n",
      "ax.set_xlabel('Position in novel')\n",
      "ax.set_ylabel('Topic share')"
     ],
     "language": "python",
     "metadata": {},
     "outputs": [
      {
       "metadata": {},
       "output_type": "pyout",
       "prompt_number": 52,
       "text": [
        "<matplotlib.text.Text at 0x7f497e9d6cf8>"
       ]
      },
      {
       "metadata": {},
       "output_type": "display_data",
       "png": "[encoded data removed]",
       "text": [
        "<matplotlib.figure.Figure at 0x7f497eb39f28>"
       ]
      }
     ],
     "prompt_number": 52
    },
    {
     "cell_type": "markdown",
     "metadata": {},
     "source": [
      "# United States Supreme Court, 1951-2007\n",
      "\n",
      "While gaining familiarity with Victor Hugo's novel is something that does not require the use of quantitative methods, the same can not be said for larger corpora. For example, consider all the decisions made by the United States Supreme Court between 1951 and 2007 (approximately 40 million words). The assistance provided by computational methods in identifying trends in such a large corpus is welcome. Even legal scholars, one suspects, will embrace the concise summary provided by a topic model."
     ]
    },
    {
     "cell_type": "markdown",
     "metadata": {},
     "source": [
      "In this section we will visualize the proportion of cases over time that deal with the topic of political spending or, as the subject is known in the US, \"campaign finance.\" The most famous Supreme Court case on this subject is [Buckley v. Valeo](https://en.wikipedia.org/wiki/Buckley_v._Valeo) (1976), which limited the amount of money individuals could spend on political campaigns. After *Buckley*, for example, a billionaire was limited in the amount of money she could use to support a candidate for public office (in 2010 this limit was removed, in essence, by [Citizens United v. FEC](https://en.wikipedia.org/wiki/Citizens_United_v._FEC))."
     ]
    },
    {
     "cell_type": "markdown",
     "metadata": {},
     "source": [
      "In order to visualize the proportion of cases heard by the Supreme Court that deal with campaign finance, we need to first fit a topic model. As this corpus is quite large, fitting the model may take several minutes."
     ]
    },
    {
     "cell_type": "code",
     "collapsed": false,
     "input": [
      "import numpy as np  # a conventional alias\n",
      "import sklearn.feature_extraction.text\n",
      "\n",
      "import glob\n",
      "\n",
      "filenames = sorted(glob.glob('data/supreme-court/*'))\n",
      "min_df = 20\n",
      "\n",
      "vectorizer = sklearn.feature_extraction.text.CountVectorizer(input='filename', stop_words='english', min_df=min_df)\n",
      "dtm = vectorizer.fit_transform(filenames).toarray()\n",
      "vocabulary = vectorizer.get_feature_names()"
     ],
     "language": "python",
     "metadata": {},
     "outputs": [],
     "prompt_number": 148
    },
    {
     "cell_type": "code",
     "collapsed": false,
     "input": [
      "import horizont\n",
      "\n",
      "n_topics = 100\n",
      "n_iter = 100  # 100 is an absolute minimum. As with all Markov Chain Monte Carlo algorithms, the model needs to be run until one believes the chain has converged.\n",
      "model = horizont.LDA(n_topics=n_topics, random_state=1, n_iter=n_iter)\n",
      "\n",
      "#t0 = time.time()\n",
      "#doc_topic_array = model.fit_transform(dtm)\n",
      "#print(\"Topic model finished in {} seconds\".format(round(time.time() - t0)))\n",
      "\n",
      "# ------------------------------------------------------------------------------------------\n",
      "# use cached copies of the topic model as fitting the topic model takes more than 10 minutes\n",
      "doc_topic_array = pd.read_csv('data/supreme-court-doc-topic-cached.csv', index_col=0).values  # only when reading from cache\n",
      "class FakeLDA:\n",
      "    pass\n",
      "model = FakeLDA()\n",
      "model.components_ = pd.read_csv('data/supreme-court-topic-word-cached.csv', index_col=0).values  # only when reading from cache\n",
      "# ------------------------------------------------------------------------------------------\n",
      "\n",
      "doc_topic = pd.DataFrame(doc_topic_array)"
     ],
     "language": "python",
     "metadata": {},
     "outputs": [],
     "prompt_number": 151
    },
    {
     "cell_type": "markdown",
     "metadata": {},
     "source": [
      "In order to orient ourselves chronlogically, we need to identify the Supreme Court *term* for each case. The most reliable way to do this is to use the [Supreme Court Database](http://scdb.wustl.edu/), which is a curated set of \"metadata\" about a large number of Supreme Court cases."
     ]
    },
    {
     "cell_type": "code",
     "collapsed": false,
     "input": [
      "# each filename contains the Supreme Court case citation or \"US cite\". For example,\n",
      "print(\"filename: \", os.path.basename(filenames[0]))\n",
      "# we can extract the proper citation \"342 U.S. 1\" with a modest amount of string manipulation\n",
      "print(\"citation: \", os.path.basename(filenames[0].split('.')[0].replace('_', ' ').replace('US', 'U.S.')))\n",
      "doc_topic.index = [os.path.basename(filename.split('.')[0].replace('_', ' ').replace('US', 'U.S.')) for filename in filenames]"
     ],
     "language": "python",
     "metadata": {},
     "outputs": [
      {
       "output_type": "stream",
       "stream": "stdout",
       "text": [
        "filename:  342_US_1.txt\n",
        "citation:  342 U.S. 1\n"
       ]
      }
     ],
     "prompt_number": 153
    },
    {
     "cell_type": "code",
     "collapsed": false,
     "input": [
      "scdb = pd.read_csv('data/SCDB_2013_01_caseCentered_Citation.csv', encoding='latin1').set_index('usCite')\n",
      "print(scdb[['term', 'caseName']].head())\n",
      "doc_topic = doc_topic.join(scdb['term'])  # adds a 'term' column to the dataset"
     ],
     "language": "python",
     "metadata": {},
     "outputs": [
      {
       "output_type": "stream",
       "stream": "stdout",
       "text": [
        "             term                                           caseName\n",
        "usCite                                                              \n",
        "329 U.S. 1   1946  HALLIBURTON OIL WELL CEMENTING CO. v. WALKER E...\n",
        "329 U.S. 14  1946                         CLEVELAND v. UNITED STATES\n",
        "329 U.S. 29  1946      CHAMPLIN REFINING CO. v. UNITED STATES ET AL.\n",
        "329 U.S. 40  1946   UNITED STATES v. ALCEA BAND OF TILLAMOOKS ET AL.\n",
        "329 U.S. 64  1946         UNITED STATES v. HOWARD P. FOLEY CO., INC.\n",
        "\n",
        "[5 rows x 2 columns]\n"
       ]
      }
     ],
     "prompt_number": 154
    },
    {
     "cell_type": "markdown",
     "metadata": {},
     "source": [
      "As we are seeking to identify trends in cases heard by the Court, we can simplify our work by averaging the topic shares of all cases in a given term. As we have added the 'term' column to the dataset, this does not require much additional work. We use the ``groupby`` method that we encountered earlier."
     ]
    },
    {
     "cell_type": "code",
     "collapsed": false,
     "input": [
      "doc_topic_term = doc_topic.groupby('term').mean()"
     ],
     "language": "python",
     "metadata": {},
     "outputs": [],
     "prompt_number": 155
    },
    {
     "cell_type": "markdown",
     "metadata": {},
     "source": [
      "As before, we need to identify the topic of interest. This particular topic is characterized by a number of distinctive words, such as \"expenditure\", \"contributions\", and \"campaign\"."
     ]
    },
    {
     "cell_type": "code",
     "collapsed": false,
     "input": [
      "topic_word = pd.DataFrame(model.components_, columns=vocabulary)"
     ],
     "language": "python",
     "metadata": {},
     "outputs": [],
     "prompt_number": 156
    },
    {
     "cell_type": "code",
     "collapsed": false,
     "input": [
      "campaign_finance_topic_num = topic_word['contributions'].argmax()\n",
      "campaign_finance_topic = topic_word.iloc[campaign_finance_topic_num]\n",
      "campaign_finance_topic.sort(ascending=False)\n",
      "campaign_finance_topic.head(10)"
     ],
     "language": "python",
     "metadata": {},
     "outputs": [
      {
       "metadata": {},
       "output_type": "pyout",
       "prompt_number": 73,
       "text": [
        "political        0.040542\n",
        "party            0.036914\n",
        "election         0.029282\n",
        "candidate        0.023054\n",
        "candidates       0.020853\n",
        "parties          0.012973\n",
        "primary          0.012312\n",
        "office           0.012034\n",
        "contributions    0.011553\n",
        "campaign         0.011268\n",
        "Name: 62, dtype: float64"
       ]
      }
     ],
     "prompt_number": 73
    },
    {
     "cell_type": "code",
     "collapsed": false,
     "input": [
      "df_campaign = doc_topic_term[campaign_finance_topic_num]"
     ],
     "language": "python",
     "metadata": {},
     "outputs": [],
     "prompt_number": 96
    },
    {
     "cell_type": "code",
     "collapsed": false,
     "input": [
      "df_campaign.plot(title=\"'campaign finance' topic in US Supreme Court decisions\")"
     ],
     "language": "python",
     "metadata": {},
     "outputs": [
      {
       "metadata": {},
       "output_type": "pyout",
       "prompt_number": 97,
       "text": [
        "<matplotlib.axes.AxesSubplot at 0x7f497d3527f0>"
       ]
      },
      {
       "metadata": {},
       "output_type": "display_data",
       "png": "[encoded data removed]",
       "text": [
        "<matplotlib.figure.Figure at 0x7f497d338a90>"
       ]
      }
     ],
     "prompt_number": 97
    },
    {
     "cell_type": "markdown",
     "metadata": {},
     "source": [
      "This plot has the virtue of allowing us to identify terms during which campaign finance cases appeared. On the other hand, there is a lot of term to term variation that prevents us from seeing the larger picture. Using a rolling mean is appropriate here because we do believe it is often arbitrary whether a case falls into one term or the next. There are only nine justices ; the number of cases that they can fit into a given term is limited.\n",
      "\n",
      "If additional evidence were needed that *Buckley* proved decisive into the history of campaign finance jurisprudence, we can indicate the year of the *Buckley* decision with a vertical line and text label.\n"
     ]
    },
    {
     "cell_type": "code",
     "collapsed": false,
     "input": [
      "window = 5\n",
      "title = \"campaign finance topic in US Supreme Court decisions ({} year moving average)\".format(window)\n",
      "df_campaign_rolling = pd.rolling_mean(df_campaign, window)\n",
      "df_campaign_rolling.plot(title=title)\n",
      "plt.vlines(1975, ymin=0, ymax=np.max(df_campaign_rolling), color='r')\n",
      "plt.text(1975 + 1, df_campaign_rolling.max() * .95, \"Buckly v. Valeo\")"
     ],
     "language": "python",
     "metadata": {},
     "outputs": [
      {
       "metadata": {},
       "output_type": "pyout",
       "prompt_number": 132,
       "text": [
        "<matplotlib.text.Text at 0x7f497c0f5588>"
       ]
      },
      {
       "metadata": {},
       "output_type": "display_data",
       "png": "[encoded data removed]",
       "text": [
        "<matplotlib.figure.Figure at 0x7f497bf85748>"
       ]
      }
     ],
     "prompt_number": 132
    },
    {
     "cell_type": "markdown",
     "metadata": {},
     "source": [
      "## Exercises"
     ]
    },
    {
     "cell_type": "markdown",
     "metadata": {},
     "source": [
      "### Exercise 1\n",
      "\n",
      "Return to the table describing the publications of novels starting in 1800. Recreate the bar chart that groups publication counts by decade. Now, instead of aggregating the publication counts by decade, group them by five year intervals.\n",
      "\n",
      "One way to do this is to utilize the function ``numpy.digitize``. The following is an example of its use:\n"
     ]
    },
    {
     "cell_type": "code",
     "collapsed": false,
     "input": [
      "bins = np.arange(1960, 1990, 5)\n",
      "print(\"bins: \", bins)\n",
      "years = np.arange(1955, 2005)\n",
      "print(\"years: \", years[0:10])\n",
      "np.digitize(years, bins)"
     ],
     "language": "python",
     "metadata": {},
     "outputs": [
      {
       "output_type": "stream",
       "stream": "stdout",
       "text": [
        "bins:  [1960 1965 1970 1975 1980 1985]\n",
        "years: "
       ]
      },
      {
       "output_type": "stream",
       "stream": "stdout",
       "text": [
        " [1955 1956 1957 1958 1959 1960 1961 1962 1963 1964]\n"
       ]
      },
      {
       "metadata": {},
       "output_type": "pyout",
       "prompt_number": 140,
       "text": [
        "array([0, 0, 0, 0, 0, 1, 1, 1, 1, 1, 2, 2, 2, 2, 2, 3, 3, 3, 3, 3, 4, 4, 4,\n",
        "       4, 4, 5, 5, 5, 5, 5, 6, 6, 6, 6, 6, 6, 6, 6, 6, 6, 6, 6, 6, 6, 6, 6,\n",
        "       6, 6, 6, 6])"
       ]
      }
     ],
     "prompt_number": 140
    },
    {
     "cell_type": "code",
     "collapsed": false,
     "input": [
      "# your code here"
     ],
     "language": "python",
     "metadata": {},
     "outputs": []
    },
    {
     "cell_type": "markdown",
     "metadata": {},
     "source": [
      "### Exercise 2\n",
      "\n",
      "Use the topic model of the US Supreme Court to find other cases that are associated with a large share of the \"campaign finance\" topic. For example, if we search among cases decided in 1975 term for the case with the maximum proportion of words associated with the campaign finance topic, it is indeed *Buckley*."
     ]
    },
    {
     "cell_type": "code",
     "collapsed": false,
     "input": [
      "doc_topic = pd.DataFrame(doc_topic_array)\n",
      "doc_topic.index = [os.path.basename(filename.split('.')[0].replace('_', ' ').replace('US', 'U.S.')) for filename in filenames]\n",
      "scdb = pd.read_csv('data/SCDB_2013_01_caseCentered_Citation.csv', encoding='latin1').set_index('usCite')\n",
      "doc_topic_exercise = doc_topic.join(scdb[['term', 'caseName']])\n",
      "doc_topic_exercise_1975 = doc_topic_exercise[doc_topic_exercise.term == 1975]\n",
      "doc_topic_exercise_1975[[campaign_finance_topic_num, 'term', 'caseName']].sort(campaign_finance_topic_num, ascending=False).head()"
     ],
     "language": "python",
     "metadata": {},
     "outputs": [
      {
       "html": [
        "<div style=\"max-height:1000px;max-width:1500px;overflow:auto;\">\n",
        "<table border=\"1\" class=\"dataframe\">\n",
        "  <thead>\n",
        "    <tr style=\"text-align: right;\">\n",
        "      <th></th>\n",
        "      <th>62</th>\n",
        "      <th>term</th>\n",
        "      <th>caseName</th>\n",
        "    </tr>\n",
        "  </thead>\n",
        "  <tbody>\n",
        "    <tr>\n",
        "      <th>424 U.S. 1</th>\n",
        "      <td> 0.383538</td>\n",
        "      <td> 1975</td>\n",
        "      <td> BUCKLEY et al. v. VALEO, SECRETARY OF THE UNIT...</td>\n",
        "    </tr>\n",
        "    <tr>\n",
        "      <th>427 U.S. 347</th>\n",
        "      <td> 0.216809</td>\n",
        "      <td> 1975</td>\n",
        "      <td>            ELROD, SHERIFF, et al. v. BURNS et al.</td>\n",
        "    </tr>\n",
        "    <tr>\n",
        "      <th>423 U.S. 325</th>\n",
        "      <td> 0.055263</td>\n",
        "      <td> 1975</td>\n",
        "      <td>                             DOVE v. UNITED STATES</td>\n",
        "    </tr>\n",
        "    <tr>\n",
        "      <th>424 U.S. 828</th>\n",
        "      <td> 0.038993</td>\n",
        "      <td> 1975</td>\n",
        "      <td> GREER, COMMANDER, FORT DIX MILITARY RESERVATIO...</td>\n",
        "    </tr>\n",
        "    <tr>\n",
        "      <th>425 U.S. 610</th>\n",
        "      <td> 0.033321</td>\n",
        "      <td> 1975</td>\n",
        "      <td> HYNES et al. v. MAYOR AND COUNCIL OF BOROUGH O...</td>\n",
        "    </tr>\n",
        "  </tbody>\n",
        "</table>\n",
        "<p>5 rows \u00d7 3 columns</p>\n",
        "</div>"
       ],
       "metadata": {},
       "output_type": "pyout",
       "prompt_number": 133,
       "text": [
        "                    62  term  \\\n",
        "424 U.S. 1    0.383538  1975   \n",
        "427 U.S. 347  0.216809  1975   \n",
        "423 U.S. 325  0.055263  1975   \n",
        "424 U.S. 828  0.038993  1975   \n",
        "425 U.S. 610  0.033321  1975   \n",
        "\n",
        "                                                       caseName  \n",
        "424 U.S. 1    BUCKLEY et al. v. VALEO, SECRETARY OF THE UNIT...  \n",
        "427 U.S. 347             ELROD, SHERIFF, et al. v. BURNS et al.  \n",
        "423 U.S. 325                              DOVE v. UNITED STATES  \n",
        "424 U.S. 828  GREER, COMMANDER, FORT DIX MILITARY RESERVATIO...  \n",
        "425 U.S. 610  HYNES et al. v. MAYOR AND COUNCIL OF BOROUGH O...  \n",
        "\n",
        "[5 rows x 3 columns]"
       ]
      }
     ],
     "prompt_number": 133
    },
    {
     "cell_type": "code",
     "collapsed": false,
     "input": [
      "# your code here"
     ],
     "language": "python",
     "metadata": {},
     "outputs": [],
     "prompt_number": 134
    },
    {
     "cell_type": "markdown",
     "metadata": {},
     "source": [
      "### Exercise 3\n",
      "\n",
      "Find one more \"element\" of the plot of *Les Mis\u00e9rables* which can be made visible in a visualization of the topic model of the novel. As an exploratory step, you might consider making a plot of each of the topics. "
     ]
    },
    {
     "cell_type": "code",
     "collapsed": false,
     "input": [
      "# your code here"
     ],
     "language": "python",
     "metadata": {},
     "outputs": [],
     "prompt_number": 135
    }
   ],
   "metadata": {}
  }
 ]
}