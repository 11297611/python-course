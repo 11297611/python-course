{
 "metadata": {
  "name": "",
  "signature": "sha256:862a7333148cb1b463dcacd9671130d034249f353e2f53e68538e1d4165dbe98"
 },
 "nbformat": 3,
 "nbformat_minor": 0,
 "worksheets": [
  {
   "cells": [
    {
     "cell_type": "heading",
     "level": 1,
     "metadata": {},
     "source": [
      "Intermezzo: Building a Text Game Engine"
     ]
    },
    {
     "cell_type": "markdown",
     "metadata": {},
     "source": [
      "*-- Programming for the Humanities*"
     ]
    },
    {
     "cell_type": "markdown",
     "metadata": {},
     "source": [
      "\n",
      "---"
     ]
    },
    {
     "cell_type": "markdown",
     "metadata": {},
     "source": [
      "In this short intermezzo we will implement a text game. This has absolutely nothing to do with Digital Humanities, but it helps to get a better grasp of the basic concepts involved in programming and programming in Python. \n",
      "\n",
      "The game is as follows. A few important books from the Library here at the campus have gone missing. They are scattered around the library: in St. Josephs's square, at the Maynooth Main Street and even in Maynooth Roost. Your task is to collect all these books and bring them back to the library.\n",
      "\n",
      "We will begin with implementing the available locations in our little game. I choose to use a dictionary in which the keys are short-hands for the location and the values give a more precise description:"
     ]
    },
    {
     "cell_type": "code",
     "collapsed": false,
     "input": [
      "LOCATIONS = {\n",
      "   'library': 'You are in the library. the librarian is snoring loudly behind his desk.',\n",
      "   \"joseph-square\": \"You are in St. Joseph's square. There are lovely trees around you.\",\n",
      "   'attic': 'You are in the attic. You are surrounded by a thousand secret books.',\n",
      "   'main-street': 'You are at Maynooth Main Street. There is a pub at the corner',\n",
      "   \"roost\": 'You are in the Roost. People are having a drink.'\n",
      "}"
     ],
     "language": "python",
     "metadata": {},
     "outputs": []
    },
    {
     "cell_type": "markdown",
     "metadata": {},
     "source": [
      "Using the common way to get a value corresponding to a key in a dictionary, we can obtain the full description of, for example, the library:"
     ]
    },
    {
     "cell_type": "code",
     "collapsed": false,
     "input": [
      "LOCATIONS['library']"
     ],
     "language": "python",
     "metadata": {},
     "outputs": []
    },
    {
     "cell_type": "markdown",
     "metadata": {},
     "source": [
      "It always pays off to write code that is explicit as possible. Therefore, let's wrap this up in a tiny function that returns the description of a particular location."
     ]
    },
    {
     "cell_type": "code",
     "collapsed": false,
     "input": [
      "def describe_location(location):\n",
      "    return LOCATIONS[location]"
     ],
     "language": "python",
     "metadata": {},
     "outputs": []
    },
    {
     "cell_type": "code",
     "collapsed": false,
     "input": [
      "describe_location('joseph-square')"
     ],
     "language": "python",
     "metadata": {},
     "outputs": []
    },
    {
     "cell_type": "markdown",
     "metadata": {},
     "source": [
      "Great. Now we need to implement the paths connecting locations. Again, I choose to use a simple data structure: a dictionary. In this dictionary, keys are the current location and the values are possible directions that are reachable from this location. Each direction is represented by a tuple of `(new-location, direction, way to go into direction)`. For example, if you're in the attic, you can go to the library, which is downstairs which you can reach via a ladder: `(library, downstairs, ladder)`."
     ]
    },
    {
     "cell_type": "code",
     "collapsed": false,
     "input": [
      "PATHS = {'library': [('garden', 'south', 'door'), ('attic', 'upstairs', 'ladder')],\n",
      "         \"joseph-square\": [('library', 'north', 'door'), ('main-street', 'east', 'road')],\n",
      "         'attic': [('library', 'downstairs', 'ladder')]}"
     ],
     "language": "python",
     "metadata": {},
     "outputs": []
    },
    {
     "cell_type": "markdown",
     "metadata": {},
     "source": [
      "---"
     ]
    },
    {
     "cell_type": "heading",
     "level": 4,
     "metadata": {},
     "source": [
      "Code!"
     ]
    },
    {
     "cell_type": "markdown",
     "metadata": {},
     "source": [
      "*a)* Add the paths of Maynooth Main Street and Maynooth Roost to the PATHS."
     ]
    },
    {
     "cell_type": "code",
     "collapsed": false,
     "input": [
      "# insert your code here."
     ],
     "language": "python",
     "metadata": {},
     "outputs": []
    },
    {
     "cell_type": "markdown",
     "metadata": {},
     "source": [
      "*b)* We need a function that can describe a path. Given a tuple of, for example, `(attic, upstairs, ladder)`, the function should return the following string: `\"There is a ladder going upstairs from here.\"`."
     ]
    },
    {
     "cell_type": "code",
     "collapsed": false,
     "input": [
      "def describe_path(path):\n",
      "    # insert your code here.\n",
      "    return \"There is a %s going %s from here.\" % (path[-1], path[1])\n",
      "\n",
      "# this should print True\n",
      "print(describe_path((\"attic\", \"upstairs\", \"ladder\")) == \n",
      "      \"There is a ladder going upstairs from here.\")"
     ],
     "language": "python",
     "metadata": {},
     "outputs": []
    },
    {
     "cell_type": "markdown",
     "metadata": {},
     "source": [
      "---"
     ]
    },
    {
     "cell_type": "markdown",
     "metadata": {},
     "source": [
      "Now that we have a function to describe a path, let's add a new function that describes all reachable paths from a particular location."
     ]
    },
    {
     "cell_type": "code",
     "collapsed": false,
     "input": [
      "def describe_paths(location):\n",
      "    return [describe_path(path) for path in PATHS[location]]"
     ],
     "language": "python",
     "metadata": {},
     "outputs": []
    },
    {
     "cell_type": "code",
     "collapsed": false,
     "input": [
      "describe_paths(\"attic\")"
     ],
     "language": "python",
     "metadata": {},
     "outputs": []
    },
    {
     "cell_type": "markdown",
     "metadata": {},
     "source": [
      "Okay, now it is time to add some objects to our playground. Most importantly, of course, the missing books. The following list provides all objects available in the game:"
     ]
    },
    {
     "cell_type": "code",
     "collapsed": false,
     "input": [
      "OBJECTS = ['the key to the attic', 'a dictionary', \n",
      "           'the Canterbury Tales, composed by G. Chaucer',\n",
      "           \"the Second Book of Aristotle's Poetics\", \n",
      "           'the Plays, written by W. Shakespeare',\n",
      "           'the Holy Bible, printed by J. Gotenberg', \n",
      "           \"a chain\", \n",
      "           'a beer',\n",
      "           'a newspaper']"
     ],
     "language": "python",
     "metadata": {},
     "outputs": []
    },
    {
     "cell_type": "markdown",
     "metadata": {},
     "source": [
      "Of course, each object needs to have a location, or at each location there are some objects. Again we use a simple data structure, a dictionary, in which the keys are the locations and the values are a list of the objects at that location. Note that we added a new location, the player's body, which we will use later."
     ]
    },
    {
     "cell_type": "code",
     "collapsed": false,
     "input": [
      "OBJECT_LOCATIONS = {\n",
      "    'library': ['the key to the attic', 'a dictionary'],\n",
      "    'garden': [\"the Second Book of Aristotle's Poetics\", \"a chain\"],\n",
      "    'attic': ['the Plays, written by W. Shakespeare', 'a broom'],\n",
      "    'main-street': ['a newspaper', \"the Canterbury Tales, composed by G. Chaucer\"],\n",
      "    'roost': ['a beer', 'the Holy Bible, printed by J. Gotenberg'],\n",
      "    'body': []\n",
      "}"
     ],
     "language": "python",
     "metadata": {},
     "outputs": []
    },
    {
     "cell_type": "markdown",
     "metadata": {},
     "source": [
      "---"
     ]
    },
    {
     "cell_type": "heading",
     "level": 4,
     "metadata": {},
     "source": [
      "Code!"
     ]
    },
    {
     "cell_type": "markdown",
     "metadata": {},
     "source": [
      "*a)* Can you write a function that returns the objects located at a particular location?"
     ]
    },
    {
     "cell_type": "code",
     "collapsed": false,
     "input": [
      "def objects_at(location):\n",
      "    # insert your code here:\n",
      "    \n",
      "# this should print True\n",
      "print(objects_at(\"main-street\") == ['a newspaper'])"
     ],
     "language": "python",
     "metadata": {},
     "outputs": []
    },
    {
     "cell_type": "markdown",
     "metadata": {},
     "source": [
      "*b)* Next write two functions to print the descriptions of objects. The first function `describe_object` takes a argument some object and return the string: `\"You see OBJECT lying on the floor\"` where OBJECT should be the argument given to the function. The second function `describe_objects` takes as argument a location and returns a list of strings each describing the object present at the given location."
     ]
    },
    {
     "cell_type": "code",
     "collapsed": false,
     "input": [
      "def describe_object(obj):\n",
      "    # insert your code here\n",
      "\n",
      "def describe_objects(location):\n",
      "    # insert your code here"
     ],
     "language": "python",
     "metadata": {},
     "outputs": []
    },
    {
     "cell_type": "markdown",
     "metadata": {},
     "source": [
      "---"
     ]
    },
    {
     "cell_type": "markdown",
     "metadata": {},
     "source": [
      "The game is starting to get some shape. Let's implement the three most important functions: `look`, `walk` and `pickup`. First we will create a new global variable that represents the current location of a player:"
     ]
    },
    {
     "cell_type": "code",
     "collapsed": false,
     "input": [
      "LOCATION = \"library\""
     ],
     "language": "python",
     "metadata": {},
     "outputs": []
    },
    {
     "cell_type": "markdown",
     "metadata": {},
     "source": [
      "Our `look` function is actually really simple. It describes the location, the possible paths reachable from this location and the objects present at this location:"
     ]
    },
    {
     "cell_type": "code",
     "collapsed": false,
     "input": [
      "def look():\n",
      "    return describe_location(LOCATION), describe_paths(LOCATION), describe_objects(LOCATION)"
     ],
     "language": "python",
     "metadata": {},
     "outputs": []
    },
    {
     "cell_type": "code",
     "collapsed": false,
     "input": [
      "look()"
     ],
     "language": "python",
     "metadata": {},
     "outputs": []
    },
    {
     "cell_type": "markdown",
     "metadata": {},
     "source": [
      "Next we implement the function walk. Remember that the function `describe_path` only returns a direction (e.g. \"upstairs\") and the way to go into that direction (e.g. a ladder). Given a particular direction and our current location, the function should find a new location that is reachable if take the given direction. \n",
      "\n",
      "The function below should be self-explanatory. But there is one statement that you might be unfamiliar with, the `global` statement. In previous functions we accessed global variables just as any other variable, but here we have to make explicit that we want to update the global variable. Can you figure out why?"
     ]
    },
    {
     "cell_type": "code",
     "collapsed": false,
     "input": [
      "def walk(direction):\n",
      "    global LOCATION\n",
      "    next_location = None\n",
      "    for directions in paths[LOCATION]:\n",
      "        if direction in directions:\n",
      "            next_location = directions[0]\n",
      "            break\n",
      "    if next_location is not None:\n",
      "        LOCATION = next_location\n",
      "        return look()\n",
      "    return \"You cannot go that way.\""
     ],
     "language": "python",
     "metadata": {},
     "outputs": []
    },
    {
     "cell_type": "markdown",
     "metadata": {},
     "source": [
      "Okay, let's test our function. First we look around to see where we are:"
     ]
    },
    {
     "cell_type": "code",
     "collapsed": false,
     "input": [
      "look()"
     ],
     "language": "python",
     "metadata": {},
     "outputs": []
    },
    {
     "cell_type": "code",
     "collapsed": false,
     "input": [
      "walk(\"upstairs\")"
     ],
     "language": "python",
     "metadata": {},
     "outputs": []
    },
    {
     "cell_type": "markdown",
     "metadata": {},
     "source": [
      "Great! It worked. There are two more final functions we need to write before we can play our little game. The first is the important `pickup` function that allows players to pick up objects. "
     ]
    },
    {
     "cell_type": "markdown",
     "metadata": {},
     "source": [
      "---"
     ]
    },
    {
     "cell_type": "heading",
     "level": 4,
     "metadata": {},
     "source": [
      "Code!"
     ]
    },
    {
     "cell_type": "markdown",
     "metadata": {},
     "source": [
      "**a)** What what should happen if a player picks up an object? Can you complete the `pickup` function below?"
     ]
    },
    {
     "cell_type": "code",
     "collapsed": false,
     "input": [
      "def pickup(obj):\n",
      "    if # insert you code here\n",
      "        print(\"You are now carrying the %s\" % obj)\n",
      "    else:\n",
      "        print(\"You cannot get that\")"
     ],
     "language": "python",
     "metadata": {},
     "outputs": []
    },
    {
     "cell_type": "markdown",
     "metadata": {},
     "source": [
      "**b)** We need a final function called `inventory` that shows all the objects a player currently holds. Write that function."
     ]
    },
    {
     "cell_type": "code",
     "collapsed": false,
     "input": [
      "def inventory():\n",
      "    # insert your code here."
     ],
     "language": "python",
     "metadata": {},
     "outputs": []
    },
    {
     "cell_type": "markdown",
     "metadata": {},
     "source": [
      "---"
     ]
    },
    {
     "cell_type": "markdown",
     "metadata": {},
     "source": [
      "Now go play! And if you want you can extend the game in all ways you want. Add new objects, new locations. If you dare, you could add some functionality that disallows players to enter the attic if they don't carry the key to the attic. "
     ]
    },
    {
     "cell_type": "markdown",
     "metadata": {},
     "source": [
      "---"
     ]
    },
    {
     "cell_type": "code",
     "collapsed": false,
     "input": [
      "from IPython.core.display import HTML\n",
      "def css_styling():\n",
      "    styles = open(\"styles/custom.css\", \"r\").read()\n",
      "    return HTML(styles)\n",
      "css_styling()"
     ],
     "language": "python",
     "metadata": {},
     "outputs": [
      {
       "html": [
        "/*\n",
        "Placeholder for custom user CSS\n",
        "\n",
        "mainly to be overridden in profile/static/custom/custom.css\n",
        "\n",
        "This will always be an empty file in IPython\n",
        "*/\n",
        "<style>\n",
        "    @import url(http://fonts.googleapis.com/css?family=Roboto:400,300,300italic,400italic,700,700italic);\n",
        "\n",
        "    div.cell{\n",
        "        font-family:'roboto','helvetica','sans';\n",
        "        color:#444;\n",
        "        width:800px;\n",
        "        margin-left:16% !important;\n",
        "        margin-right:auto;\n",
        "    }\n",
        "\n",
        "    div.text_cell_render{\n",
        "        font-family: 'roboto','helvetica','sans';\n",
        "        line-height: 145%;\n",
        "        font-size: 120%;\n",
        "        color:#444;\n",
        "        width:800px;\n",
        "        margin-left:auto;\n",
        "        margin-right:auto;\n",
        "    }\n",
        "    .CodeMirror{\n",
        "            font-family: \"Menlo\", source-code-pro,Consolas, monospace;\n",
        "    }\n",
        "    .prompt{\n",
        "        display: None;\n",
        "    }    \n",
        "    .warning{\n",
        "        color: rgb( 240, 20, 20 )\n",
        "        }  \n",
        "</style>\n",
        "<script>\n",
        "    MathJax.Hub.Config({\n",
        "                        TeX: {\n",
        "                           extensions: [\"AMSmath.js\"]\n",
        "                           },\n",
        "                tex2jax: {\n",
        "                    inlineMath: [ ['$','$'], [\"\\\\(\",\"\\\\)\"] ],\n",
        "                    displayMath: [ ['$$','$$'], [\"\\\\[\",\"\\\\]\"] ]\n",
        "                },\n",
        "                displayAlign: 'center', // Change this to 'center' to center equations.\n",
        "                \"HTML-CSS\": {\n",
        "                    styles: {'.MathJax_Display': {\"margin\": 4}}\n",
        "                }\n",
        "        });\n",
        "</script>"
       ],
       "metadata": {},
       "output_type": "pyout",
       "prompt_number": 136,
       "text": [
        "<IPython.core.display.HTML at 0x107340e80>"
       ]
      }
     ],
     "prompt_number": 136
    },
    {
     "cell_type": "markdown",
     "metadata": {},
     "source": [
      "<p><small><a rel=\"license\" href=\"http://creativecommons.org/licenses/by-sa/4.0/\"><img alt=\"Creative Commons License\" style=\"border-width:0\" src=\"https://i.creativecommons.org/l/by-sa/4.0/88x31.png\" /></a><br /><span xmlns:dct=\"http://purl.org/dc/terms/\" property=\"dct:title\">Python Programming for the Humanities</span> by <a xmlns:cc=\"http://creativecommons.org/ns#\" href=\"http://fbkarsdorp.github.io/python-course\" property=\"cc:attributionName\" rel=\"cc:attributionURL\">http://fbkarsdorp.github.io/python-course</a> is licensed under a <a rel=\"license\" href=\"http://creativecommons.org/licenses/by-sa/4.0/\">Creative Commons Attribution-ShareAlike 4.0 International License</a>. Based on a work at <a xmlns:dct=\"http://purl.org/dc/terms/\" href=\"https://github.com/fbkarsdorp/python-course\" rel=\"dct:source\">https://github.com/fbkarsdorp/python-course</a>.</small></p>"
     ]
    }
   ],
   "metadata": {}
  }
 ]
}